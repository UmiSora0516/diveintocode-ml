{
 "cells": [
  {
   "cell_type": "markdown",
   "metadata": {},
   "source": [
    "# Sprint3 線形回帰"
   ]
  },
  {
   "cell_type": "markdown",
   "metadata": {},
   "source": [
    ">## ScratchLinearRegressionクラスの実装\n",
    "---"
   ]
  },
  {
   "cell_type": "code",
   "execution_count": 308,
   "metadata": {},
   "outputs": [],
   "source": [
    "import numpy as np\n",
    "\n",
    "\n",
    "class ScratchLinearRegression():\n",
    "    \"\"\"\n",
    "    線形回帰のスクラッチ実装\n",
    "    \n",
    "    Parameters\n",
    "    ----------\n",
    "    num_iter : int\n",
    "      イテレーション数\n",
    "    lr : float\n",
    "      学習率\n",
    "    no_bias : bool\n",
    "      バイアス項を入れない場合はTrue\n",
    "    verbose : bool\n",
    "      学習過程を出力する場合はTrue\n",
    "    theta : ndarray\n",
    "      最急降下法パラメータ\n",
    "    \n",
    "    Attributes\n",
    "    ----------\n",
    "    self.coef_ : 次の形のndarray, shape (n_features,)\n",
    "      パラメータ\n",
    "    self.loss : 次の形のndarray, shape (self.iter,)\n",
    "      訓練データに対する損失の記録\n",
    "    self.val_loss : 次の形のndarray, shape (self.iter,)\n",
    "      検証データに対する損失の記録\n",
    "    \"\"\"\n",
    "    \n",
    "    def __init__(self, num_iter, lr, theta, no_bias, verbose):\n",
    "        # ハイパーパラメータを属性として記録\n",
    "        self.iter = num_iter\n",
    "        self.lr = lr\n",
    "        self.no_bias = no_bias\n",
    "        self.verbose = verbose\n",
    "#         self.theta = np.array([[0, 0]])   # Θの初期化\n",
    "        self.theta = theta  # 訓練用\n",
    "        self.theta_val = theta  # 検証用\n",
    "        \n",
    "        # 損失を記録する配列を用意\n",
    "        self.loss = np.zeros(self.iter)\n",
    "        self.val_loss = np.zeros(self.iter)\n",
    "        \n",
    "    def fit(self, X, y, X_val=None, y_val=None):\n",
    "        \"\"\"\n",
    "        線形回帰を学習する。検証データが入力された場合はそれに対する損失と精度もイテレーションごとに計算する。\n",
    "        Parameters\n",
    "        ----------\n",
    "        X : 次の形のndarray, shape (n_samples, n_features)\n",
    "            訓練データの特徴量\n",
    "        y : 次の形のndarray, shape (n_samples, )\n",
    "            訓練データの正解値\n",
    "        X_val : 次の形のndarray, shape (n_samples, n_features)\n",
    "            検証データの特徴量\n",
    "        y_val : 次の形のndarray, shape (n_samples, )\n",
    "            検証データの正解値\n",
    "        \"\"\"\n",
    "        \n",
    "        if self.verbose:\n",
    "            #verboseをTrueにした際は学習過程を出力\n",
    "            print()\n",
    "        pass\n",
    "    \n",
    "        # メイン処理\n",
    " \n",
    "        # Xの第1成分を1として、引数のXと結合させる\n",
    "        X = np.c_[np.ones(X.shape[0]),X]\n",
    "        if X_val is not None:\n",
    "            X_val = np.c_[np.ones(X_val.shape[0]),X_val]\n",
    "    \n",
    "        for i in range(self.iter):\n",
    "            \n",
    "            # 問題1（仮定関数の計算）\n",
    "            y_hypothesis = self._linear_hypothesis(X)\n",
    "            \n",
    "            # 問題2（最急降下法によるパラメータの更新値計算）\n",
    "            self._gradient_descent(X, y_hypothesis-y)\n",
    "            \n",
    "            # 問題7（学習曲線のプロット）のグラフ描画時（問題5（損失関数）で作成した関数を使用）\n",
    "            # 損失値を保持\n",
    "            self.loss[i] = self._loss_func(y_hypothesis, y)\n",
    "            \n",
    "            # 検証データがある場合は、欠損値のデータを算出する\n",
    "            if X_val is not None:\n",
    "                y_val_hypothesis = self._linear_hypothesis(X_val, isTrain = False)\n",
    "                self._gradient_descent(X_val, y_val_hypothesis-y_val, isTrain = False)\n",
    "                self.val_loss[i] = self._loss_func(y_val_hypothesis, y_val)\n",
    "    \n",
    "    \n",
    "    # 問題1\n",
    "    def _linear_hypothesis(self, X, isTrain = True):\n",
    "        \"\"\"\n",
    "        線形の仮定関数を計算する\n",
    "        Parameters\n",
    "        ----------\n",
    "        X : 次の形のndarray, shape (n_samples, n_features)\n",
    "          訓練データ\n",
    "        isTrain : bool\n",
    "            訓練データ用フラグ\n",
    "        Returns\n",
    "        -------\n",
    "        y : 次の形のndarray, shape (n_samples, 1)\n",
    "          線形の仮定関数による推定結果\n",
    "        \"\"\"\n",
    "        \n",
    "        if isTrain :   #訓練の場合\n",
    "            y = self.theta @ X.T\n",
    "        else:\n",
    "            y = self.theta_val @ X.T\n",
    "        \n",
    "        return y\n",
    "\n",
    "    \n",
    "    # 問題2\n",
    "    def _gradient_descent(self, X, error, isTrain = True):\n",
    "        \"\"\"\n",
    "        最急降下法を使って最適化する\n",
    "        Parameters\n",
    "        ----------\n",
    "        X : 次の形のndarray, shape (n_samples, n_features)\n",
    "          訓練データ\n",
    "        error : 次の形のndarray, shape (n_samples, n_features)\n",
    "          予測値と正解値の誤差(y_pred - y)\n",
    "        isTrain : bool\n",
    "            訓練データ用フラグ\n",
    "        Returns\n",
    "        -------\n",
    "          次の形のndarray, shape (n_samples, 1)\n",
    "          最急降下法を実施した結果\n",
    "        \"\"\"\n",
    "\n",
    "        m, n = X.shape\n",
    "        \n",
    "        res1 = error @ X\n",
    "        res2 = res1/m * self.lr\n",
    "\n",
    "        # Θを更新\n",
    "        if isTrain :  #訓練の場合\n",
    "            self.theta = self.theta - res2\n",
    "        else:\n",
    "            self.theta_val = self.theta_val - res2\n",
    "    \n",
    "        \n",
    "    # 問題3            \n",
    "    def predict(self, X):\n",
    "        \"\"\"\n",
    "        線形回帰を使い推定する。\n",
    "        Parameters\n",
    "        ----------\n",
    "        X : 次の形のndarray, shape (n_samples, n_features)\n",
    "            サンプル\n",
    "        Returns\n",
    "        -------\n",
    "            次の形のndarray, shape (n_samples, 1)\n",
    "            線形回帰による推定結果(仮定関数 hθ(x) の出力)\n",
    "        \"\"\"\n",
    "        X = np.c_[np.ones(X.shape[0]),X]\n",
    "        \n",
    "        # predictは一般的に訓練データを使うため、_linear_hypothesisメソッドの引数は\n",
    "        # isTrain = Trueとする。\n",
    "        return self._linear_hypothesis(X)\n",
    "    \n",
    "    # 問題4\n",
    "    def _mse(self, y_pred, y):  # 必要に応じて引数を追加して下さい\n",
    "        \"\"\"\n",
    "        平均二乗誤差の計算\n",
    "        \"\"\"\n",
    "        return ((y - y_pred) ** 2).mean()\n",
    "\n",
    "    # 問題5\n",
    "    def _loss_func(self, y_pred, y):  # 必要に応じて引数を追加して下さい\n",
    "        \"\"\"\n",
    "        損失関数\n",
    "        \"\"\"\n",
    "        return ((y - y_pred) ** 2).mean()/2\n",
    "        "
   ]
  },
  {
   "cell_type": "markdown",
   "metadata": {},
   "source": [
    "## 【問題1】仮定関数\n",
    "---\n",
    "以下の数式で表される線形回帰の仮定関数を実装してください。メソッドの雛形を用意してあります。\n",
    "\n",
    "$$\n",
    "hθ(x)=θ0x0+θ1x1+...+θjxj+...+θnxn.(x0=1)\n",
    "$$\n",
    "\n",
    "x: 特徴量ベクトル  \n",
    "θ: パラメータベクトル  \n",
    "n: 特徴量の数  \n",
    "xj: j番目の特徴量  \n",
    "θj: j番目のパラメータ（重み）  \n",
    "\n",
    "特徴量の数nは任意の値に対応できる実装にしてください。\n",
    "\n",
    "なお、ベクトル形式で表すと以下のようになります。\n",
    "$$\n",
    "hθ(x)=θT⋅x.\n",
    "$$\n",
    "\n",
    "**雛形**\n",
    "クラスの外から呼び出すことがないメソッドのため、Pythonの慣例としてアンダースコアを先頭にひとつつけています。"
   ]
  },
  {
   "cell_type": "code",
   "execution_count": 309,
   "metadata": {},
   "outputs": [
    {
     "name": "stdout",
     "output_type": "stream",
     "text": [
      "[[ 3.]\n",
      " [ 5.]\n",
      " [ 7.]\n",
      " [ 9.]\n",
      " [11.]\n",
      " [13.]\n",
      " [15.]\n",
      " [17.]\n",
      " [19.]\n",
      " [21.]]\n"
     ]
    }
   ],
   "source": [
    "#####トイデータ\n",
    "X = np.arange(10)\n",
    "\n",
    "# y = ax1 + b\n",
    "a = 2\n",
    "b = 3\n",
    "theta = np.array([[b],[a]])\n",
    "\n",
    "X_ = np.c_[np.ones(X.shape[0]),X]\n",
    "y = X_ @ theta \n",
    "        \n",
    "print(y)\n"
   ]
  },
  {
   "cell_type": "markdown",
   "metadata": {},
   "source": [
    "## 【問題2】最急降下法\n",
    "---\n",
    "最急降下法により学習させる実装を行なってください。以下の式で表されるパラメータの更新式のメソッド_gradient_descentを追加し、fit\n",
    "メソッドから呼び出すようにしてください。\n",
    "$$\n",
    "θj:=θj−α1mm∑i=1[(hθ(x(i))−y(i))x(i)j]\n",
    "$$\n",
    "α: 学習率  \n",
    "i: サンプルのインデックス  \n",
    "j: 特徴量のインデックス  \n",
    "\n",
    "雛形\n",
    "\n",
    "ScratchLinearRegressionクラスへ以下のメソッドを追加してください。コメントアウト部分の説明も記述してください。"
   ]
  },
  {
   "cell_type": "code",
   "execution_count": 310,
   "metadata": {},
   "outputs": [
    {
     "name": "stdout",
     "output_type": "stream",
     "text": [
      "y_pred : \n",
      " [[ 3. ]\n",
      " [ 5.5]\n",
      " [ 8. ]\n",
      " [10.5]\n",
      " [13. ]]\n",
      "error : \n",
      " [[  0.   -2.5  -5.   -7.5 -10. ]\n",
      " [  2.5   0.   -2.5  -5.   -7.5]\n",
      " [  5.    2.5   0.   -2.5  -5. ]\n",
      " [  7.5   5.    2.5   0.   -2.5]\n",
      " [ 10.    7.5   5.    2.5   0. ]]\n",
      "theta : \n",
      " [[1.25   3.1875]\n",
      " [1.125  2.75  ]\n",
      " [1.     2.3125]\n",
      " [0.875  1.875 ]\n",
      " [0.75   1.4375]]\n"
     ]
    }
   ],
   "source": [
    "# クラスのインスタンス生成\n",
    "num_iter = 10   #イテレーション数（学習回数）\n",
    "lr = 0.05  #学習率\n",
    "theta = np.array([[1, 2]])\n",
    "slr = ScratchLinearRegression(num_iter, lr, theta, None, None)\n",
    "\n",
    "x = np.linspace(1,6,5)\n",
    "X = np.c_[np.ones(5),x]#入力データX\n",
    "\n",
    "y = 2*x + 1#適当な真のモデル\n",
    "y_pred = X @ theta.T\n",
    "\n",
    "error = y_pred - y#入力データerror\n",
    "print('y_pred : \\n', y_pred)\n",
    "print('error : \\n', error)\n",
    "\n",
    "new_theta = slr._gradient_descent(X, error)\n",
    "\n",
    "print('theta : \\n', slr.theta)\n"
   ]
  },
  {
   "cell_type": "markdown",
   "metadata": {},
   "source": [
    "## 【問題3】推定\n",
    "---\n",
    "推定する仕組みを実装してください。ScratchLinearRegressionクラスの雛形に含まれるpredictメソッドに書き加えてください。\n",
    "\n",
    "仮定関数 $$hθ(x)$$\n",
    "の出力が推定結果です。"
   ]
  },
  {
   "cell_type": "markdown",
   "metadata": {},
   "source": [
    "## 【問題4】平均二乗誤差\n",
    "---\n",
    "線形回帰の指標値として用いられる平均二乗誤差（mean square error, MSE）の関数を作成してください。\n",
    "\n",
    "平均二乗誤差関数は回帰問題全般で使える関数のため、ScratchLinearRegressionクラスのメソッドではなく、別の関数として作成してください。雛形を用意してあります。\n",
    "\n",
    "平均二乗誤差は以下の数式で表されます。\n",
    "$$\n",
    "L(θ)=1mm∑i=1(hθ(x(i))−y(i))2.\n",
    "$$\n",
    "m : 入力されるデータの数\n",
    "\n",
    "hθ() : 仮定関数\n",
    "\n",
    "x(i) : i番目のサンプルの特徴量ベクトル\n",
    "\n",
    "y(i) : i番目のサンプルの正解値\n",
    "\n",
    "なお、最急降下法のための目的関数（損失関数）としては、これを2で割ったものを使用します。（問題5, 9）"
   ]
  },
  {
   "cell_type": "code",
   "execution_count": 311,
   "metadata": {},
   "outputs": [],
   "source": [
    "def MSE(y_pred, y):\n",
    "    \"\"\"\n",
    "    平均二乗誤差の計算\n",
    "    Parameters\n",
    "    ----------\n",
    "    y_pred : 次の形のndarray, shape (n_samples,)\n",
    "      推定した値\n",
    "    y : 次の形のndarray, shape (n_samples,)\n",
    "      正解値\n",
    "    Returns\n",
    "    ----------\n",
    "    mse : numpy.float\n",
    "      平均二乗誤差\n",
    "    \"\"\"\n",
    "\n",
    "    return ((y - y_pred) ** 2).mean()"
   ]
  },
  {
   "cell_type": "code",
   "execution_count": 312,
   "metadata": {},
   "outputs": [
    {
     "name": "stdout",
     "output_type": "stream",
     "text": [
      "15.166666666666666\n"
     ]
    }
   ],
   "source": [
    "##### トイデータ\n",
    "import numpy as np\n",
    "y_pred = np.array([0,1,2,3,4,5])\n",
    "y = np.array([1,3,5,7,9,11])\n",
    "\n",
    "print(MSE(y_pred, y))\n"
   ]
  },
  {
   "cell_type": "markdown",
   "metadata": {},
   "source": [
    "## 【問題5】目的関数\n",
    "---\n",
    "以下の数式で表される線形回帰の 目的関数（損失関数） を実装してください。そして、これをself.loss, self.val_lossに記録するようにしてください。\n",
    "\n",
    "目的関数（損失関数） $$J(θ)$$\n",
    "\n",
    "は次の式です。\n",
    "$$\n",
    "J(\\theta)=  \\frac{1 }{ 2m}  \\sum_{i=1}^{m} (h_\\theta(x^{(i)})-y^{(i)})^2.\n",
    "$$\n",
    "m : 入力されるデータの数\n",
    "\n",
    "hθ() : 仮定関数\n",
    "\n",
    "x(i) : i番目のサンプルの特徴量ベクトル\n",
    "\n",
    "y(i) : i番目のサンプルの正解値"
   ]
  },
  {
   "cell_type": "code",
   "execution_count": 313,
   "metadata": {},
   "outputs": [
    {
     "name": "stdout",
     "output_type": "stream",
     "text": [
      "7.583333333333333\n"
     ]
    }
   ],
   "source": [
    "##### トイデータ\n",
    "import numpy as np\n",
    "y_pred = np.array([0,1,2,3,4,5])\n",
    "y = np.array([1,3,5,7,9,11])\n",
    "\n",
    "print(((y - y_pred) ** 2).mean()/2)\n"
   ]
  },
  {
   "cell_type": "markdown",
   "metadata": {},
   "source": [
    "## 【問題6】学習と推定\n",
    "---\n",
    "機械学習スクラッチ入門のSprintで用意したHouse Pricesコンペティションのデータに対してスクラッチ実装の学習と推定を行なってください。\n",
    "\n",
    "scikit-learnによる実装と比べ、正しく動いているかを確認してください。"
   ]
  },
  {
   "cell_type": "markdown",
   "metadata": {},
   "source": [
    ">## GrLivAreaデータ"
   ]
  },
  {
   "cell_type": "code",
   "execution_count": 314,
   "metadata": {},
   "outputs": [
    {
     "data": {
      "text/plain": [
       "array([[1710],\n",
       "       [1262],\n",
       "       [1786],\n",
       "       ...,\n",
       "       [2340],\n",
       "       [1078],\n",
       "       [1256]], dtype=int64)"
      ]
     },
     "execution_count": 314,
     "metadata": {},
     "output_type": "execute_result"
    }
   ],
   "source": [
    "import pandas as pd\n",
    "\n",
    "df = pd.read_csv(\"../train.csv\")\n",
    "# X = df[['GrLivArea', 'YearBuilt']].values\n",
    "X = df[['GrLivArea']].values\n",
    "y = df['SalePrice'].values\n",
    "\n",
    "X"
   ]
  },
  {
   "cell_type": "markdown",
   "metadata": {},
   "source": [
    ">### scikit-learnによる実装"
   ]
  },
  {
   "cell_type": "code",
   "execution_count": 315,
   "metadata": {},
   "outputs": [
    {
     "name": "stdout",
     "output_type": "stream",
     "text": [
      "Intercept: 180586.22896281802\n",
      "Coefficients:  [56643.14720007]\n",
      "MSE: 3728458191.95\n"
     ]
    }
   ],
   "source": [
    "#線形回帰モデル\n",
    "from sklearn.linear_model import LinearRegression\n",
    "from sklearn.preprocessing import StandardScaler\n",
    "from sklearn.model_selection import train_test_split\n",
    "from sklearn.metrics import mean_squared_error\n",
    "\n",
    "# 訓練データと検証データの分割\n",
    "X_train, X_test, y_train, y_test = train_test_split(X, y, test_size=0.3, random_state=0)\n",
    "\n",
    "# 標準化\n",
    "scaler = StandardScaler()\n",
    "scaler.fit(X_train) #trainデータのみFitを実行する\n",
    "X_train_std = scaler.transform(X_train)\n",
    "X_test_std = scaler.transform(X_test)\n",
    "\n",
    "model = LinearRegression()\n",
    "model.fit(X_train_std, y_train)\n",
    "y_pred = model.predict(X_test_std)\n",
    "\n",
    "print(\"Intercept:\", model.intercept_)\n",
    "print(\"Coefficients: \", model.coef_)\n",
    "print('MSE: %.2f' % mean_squared_error(y_test, y_pred))\n"
   ]
  },
  {
   "cell_type": "markdown",
   "metadata": {},
   "source": [
    ">### Scratch実装コード"
   ]
  },
  {
   "cell_type": "code",
   "execution_count": 316,
   "metadata": {},
   "outputs": [
    {
     "name": "stdout",
     "output_type": "stream",
     "text": [
      "Intercept: [179517.06291745]\n",
      "Coefficients:  [56307.78979194]\n",
      "MSE: 3734500670.93\n"
     ]
    }
   ],
   "source": [
    "# クラスのインスタンス生成\n",
    "num_iter = 100   #イテレーション数（学習回数）\n",
    "lr = 0.05  #学習率\n",
    "theta = np.array([[0, 0]])\n",
    "scratch_lr = ScratchLinearRegression(num_iter, lr, theta, None, None)\n",
    "scratch_lr.fit(X_train_std, y_train, X_test_std, y_test)\n",
    "# scratch_lr.fit(X_train_std, y_train)\n",
    "s_y_pred = scratch_lr.predict(X_test_std)\n",
    "\n",
    "print(\"Intercept:\", scratch_lr.theta[:,0])\n",
    "print(\"Coefficients: \", scratch_lr.theta[:,1])\n",
    "print('MSE: %.2f' % MSE(s_y_pred, y_test))"
   ]
  },
  {
   "cell_type": "markdown",
   "metadata": {},
   "source": [
    ">### sicit-learnによる学習結果とScratchの結果をプロット"
   ]
  },
  {
   "cell_type": "code",
   "execution_count": 317,
   "metadata": {},
   "outputs": [
    {
     "data": {
      "image/png": "[encoded data removed]",
      "text/plain": [
       "<Figure size 576x432 with 1 Axes>"
      ]
     },
     "metadata": {
      "needs_background": "light"
     },
     "output_type": "display_data"
    }
   ],
   "source": [
    "# 可視化\n",
    "import numpy as np\n",
    "import matplotlib.pyplot as plt\n",
    "%matplotlib inline\n",
    "\n",
    "plt.rcParams['font.size'] = 15\n",
    "fig = plt.figure(figsize=(8,6))\n",
    "\n",
    "plt.xlabel('GrLivArea')\n",
    "plt.ylabel('SalePrice')\n",
    "plt.scatter(X_train, y_train, color = 'blue', alpha=0.5) \n",
    "plt.plot(X_test, y_pred, linewidth=4, color = 'red', label = 'scikit-learn')    # sicit-learn\n",
    "plt.plot(X_test, s_y_pred.T, linestyle='--', linewidth=2, color = 'lightgreen', label = 'scratch')   # スクラッチ\n",
    "plt.legend()\n",
    "plt.show()"
   ]
  },
  {
   "cell_type": "markdown",
   "metadata": {},
   "source": [
    ">## YearBuiltデータ"
   ]
  },
  {
   "cell_type": "code",
   "execution_count": 318,
   "metadata": {},
   "outputs": [
    {
     "data": {
      "text/plain": [
       "array([[2003],\n",
       "       [1976],\n",
       "       [2001],\n",
       "       ...,\n",
       "       [1941],\n",
       "       [1950],\n",
       "       [1965]], dtype=int64)"
      ]
     },
     "execution_count": 318,
     "metadata": {},
     "output_type": "execute_result"
    }
   ],
   "source": [
    "import pandas as pd\n",
    "\n",
    "df = pd.read_csv(\"../train.csv\")\n",
    "# X = df[['GrLivArea', 'YearBuilt']].values\n",
    "X = df[['YearBuilt']].values\n",
    "y = df['SalePrice'].values\n",
    "\n",
    "X"
   ]
  },
  {
   "cell_type": "markdown",
   "metadata": {},
   "source": [
    ">### scikit-learnによる実装"
   ]
  },
  {
   "cell_type": "code",
   "execution_count": 319,
   "metadata": {},
   "outputs": [
    {
     "name": "stdout",
     "output_type": "stream",
     "text": [
      "Intercept: 180586.22896281796\n",
      "Coefficients:  [40097.79768644]\n",
      "MSE: 4800715717.79\n"
     ]
    }
   ],
   "source": [
    "#線形回帰モデル\n",
    "from sklearn.linear_model import LinearRegression\n",
    "from sklearn.preprocessing import StandardScaler\n",
    "from sklearn.model_selection import train_test_split\n",
    "from sklearn.metrics import mean_squared_error\n",
    "\n",
    "# 訓練データと検証データの分割\n",
    "X_train, X_test, y_train, y_test = train_test_split(X, y, test_size=0.3, random_state=0)\n",
    "\n",
    "# 標準化\n",
    "scaler = StandardScaler()\n",
    "scaler.fit(X_train) #trainデータのみFitを実行する\n",
    "X_train_std = scaler.transform(X_train)\n",
    "X_test_std = scaler.transform(X_test)\n",
    "\n",
    "model = LinearRegression()\n",
    "model.fit(X_train_std, y_train)\n",
    "y_pred = model.predict(X_test_std)\n",
    "\n",
    "print(\"Intercept:\", model.intercept_)\n",
    "print(\"Coefficients: \", model.coef_)\n",
    "print('MSE: %.2f' % mean_squared_error(y_test, y_pred))\n"
   ]
  },
  {
   "cell_type": "markdown",
   "metadata": {},
   "source": [
    ">### Scratch実装コード"
   ]
  },
  {
   "cell_type": "code",
   "execution_count": 320,
   "metadata": {},
   "outputs": [
    {
     "name": "stdout",
     "output_type": "stream",
     "text": [
      "Intercept: [179517.06291745]\n",
      "Coefficients:  [39860.39750356]\n",
      "MSE: 4803553608.34\n"
     ]
    }
   ],
   "source": [
    "# クラスのインスタンス生成\n",
    "num_iter = 100   #イテレーション数（学習回数）\n",
    "lr = 0.05  #学習率\n",
    "theta = np.array([[0, 0]])\n",
    "scratch_lr = ScratchLinearRegression(num_iter, lr, theta, None, None)\n",
    "scratch_lr.fit(X_train_std, y_train, X_test_std, y_test)\n",
    "# scratch_lr.fit(X_train_std, y_train)\n",
    "s_y_pred = scratch_lr.predict(X_test_std)\n",
    "\n",
    "print(\"Intercept:\", scratch_lr.theta[:,0])\n",
    "print(\"Coefficients: \", scratch_lr.theta[:,1])\n",
    "print('MSE: %.2f' % MSE(s_y_pred, y_test))"
   ]
  },
  {
   "cell_type": "markdown",
   "metadata": {},
   "source": [
    ">### sicit-learnによる学習結果とScratchの結果をプロット"
   ]
  },
  {
   "cell_type": "code",
   "execution_count": 321,
   "metadata": {},
   "outputs": [
    {
     "data": {
      "image/png": "[encoded data removed]",
      "text/plain": [
       "<Figure size 720x432 with 1 Axes>"
      ]
     },
     "metadata": {
      "needs_background": "light"
     },
     "output_type": "display_data"
    }
   ],
   "source": [
    "# 可視化\n",
    "import numpy as np\n",
    "import matplotlib.pyplot as plt\n",
    "%matplotlib inline\n",
    "\n",
    "plt.rcParams['font.size'] = 15\n",
    "fig = plt.figure(figsize=(10,6))\n",
    "\n",
    "plt.xlabel('YearBuilt')\n",
    "plt.ylabel('SalePrice')\n",
    "plt.scatter(X_train, y_train, color = 'blue', alpha=0.5) \n",
    "plt.plot(X_test, y_pred, linewidth=4, color = 'red', label = 'scikit-learn')    # sicit-learn\n",
    "plt.plot(X_test, s_y_pred.T, linestyle='--', linewidth=2, color = 'lightgreen', label = 'scratch')   # スクラッチ\n",
    "plt.legend()\n",
    "plt.show()"
   ]
  },
  {
   "cell_type": "markdown",
   "metadata": {},
   "source": [
    "## まとめ\n",
    "---\n",
    "sicit-learnとScratchの実装結果を比べると、ほぼ同じ結果となった。\n",
    "\n",
    "|  | scikit-learn | Scratch |\n",
    "| - | - | - |\n",
    "| Intercept | 180586.22896281802 | 179517.06291745 |\n",
    "| Coefficients | 56643.14720007 | 56307.78979194 |\n",
    "| MSE | 3728458191.95 | 3734500670.93 |"
   ]
  },
  {
   "cell_type": "markdown",
   "metadata": {},
   "source": [
    "## 【問題7】学習曲線のプロット\n",
    "---\n",
    "学習曲線を表示する関数を作成し、実行してください。グラフを見て損失が適切に下がっているかどうか確認してください。\n",
    "\n",
    "線形回帰クラスの雛形ではself.loss, self.val_lossに損失を記録しておくようになっているため、入力にはこれを利用してください。"
   ]
  },
  {
   "cell_type": "code",
   "execution_count": 322,
   "metadata": {},
   "outputs": [
    {
     "data": {
      "image/png": "[encoded data removed]",
      "text/plain": [
       "<Figure size 576x432 with 1 Axes>"
      ]
     },
     "metadata": {
      "needs_background": "light"
     },
     "output_type": "display_data"
    }
   ],
   "source": [
    "import pandas as pd\n",
    "\n",
    "df = pd.read_csv(\"../train.csv\")\n",
    "# X = df[['GrLivArea', 'YearBuilt']].values\n",
    "X = df[['GrLivArea']].values\n",
    "y = df['SalePrice'].values\n",
    "\n",
    "#線形回帰モデル\n",
    "from sklearn.preprocessing import StandardScaler\n",
    "from sklearn.model_selection import train_test_split\n",
    "\n",
    "# 訓練データと検証データの分割\n",
    "X_train, X_test, y_train, y_test = train_test_split(X, y, test_size=0.3, random_state=0)\n",
    "\n",
    "# 標準化\n",
    "scaler = StandardScaler()\n",
    "scaler.fit(X_train) #trainデータのみFitを実行する\n",
    "X_train_std = scaler.transform(X_train)\n",
    "X_test_std = scaler.transform(X_test)\n",
    "\n",
    "# クラスのインスタンス生成\n",
    "num_iter = 1000   #イテレーション数（学習回数）\n",
    "lr = 0.01  #学習率\n",
    "theta = np.array([[0, 0]])\n",
    "scratch_lr = ScratchLinearRegression(num_iter, lr, theta, None, None)\n",
    "scratch_lr.fit(X_train_std, y_train, X_test_std, y_test)\n",
    "s_y_pred = scratch_lr.predict(X_test_std)\n",
    "\n",
    "\n",
    "# 損失値をプロット\n",
    "import numpy as np\n",
    "import matplotlib.pyplot as plt\n",
    "%matplotlib inline\n",
    "\n",
    "plt.rcParams['font.size'] = 15\n",
    "fig = plt.figure(figsize=(8,6))\n",
    "\n",
    "plt.title('model loss (GrLivArea)')\n",
    "plt.xlabel('iter')\n",
    "plt.ylabel('loss')\n",
    "plt.plot(range(scratch_lr.iter), scratch_lr.loss.T, linestyle='-', marker='o', label = 'train_loss')\n",
    "plt.plot(range(scratch_lr.iter), scratch_lr.val_loss.T, linestyle='-', marker='o', label = 'val_loss')\n",
    "\n",
    "plt.legend()\n",
    "plt.tight_layout()\n",
    "plt.show()"
   ]
  },
  {
   "cell_type": "code",
   "execution_count": 323,
   "metadata": {},
   "outputs": [
    {
     "data": {
      "image/png": "[encoded data removed]",
      "text/plain": [
       "<Figure size 576x432 with 1 Axes>"
      ]
     },
     "metadata": {
      "needs_background": "light"
     },
     "output_type": "display_data"
    }
   ],
   "source": [
    "import pandas as pd\n",
    "\n",
    "df = pd.read_csv(\"../train.csv\")\n",
    "# X = df[['GrLivArea', 'YearBuilt']].values\n",
    "X = df[['YearBuilt']].values\n",
    "y = df['SalePrice'].values\n",
    "\n",
    "#線形回帰モデル\n",
    "from sklearn.preprocessing import StandardScaler\n",
    "from sklearn.model_selection import train_test_split\n",
    "\n",
    "# 訓練データと検証データの分割\n",
    "X_train, X_test, y_train, y_test = train_test_split(X, y, test_size=0.3, random_state=0)\n",
    "\n",
    "# 標準化\n",
    "scaler = StandardScaler()\n",
    "scaler.fit(X_train) #trainデータのみFitを実行する\n",
    "X_train_std = scaler.transform(X_train)\n",
    "X_test_std = scaler.transform(X_test)\n",
    "\n",
    "# クラスのインスタンス生成\n",
    "num_iter = 1000   #イテレーション数（学習回数）\n",
    "lr = 0.01  #学習率\n",
    "theta = np.array([[0, 0]])\n",
    "scratch_lr = ScratchLinearRegression(num_iter, lr, theta, None, None)\n",
    "scratch_lr.fit(X_train_std, y_train, X_test_std, y_test)\n",
    "s_y_pred = scratch_lr.predict(X_test_std)\n",
    "\n",
    "\n",
    "# 損失値をプロット\n",
    "import numpy as np\n",
    "import matplotlib.pyplot as plt\n",
    "%matplotlib inline\n",
    "\n",
    "plt.rcParams['font.size'] = 15\n",
    "fig = plt.figure(figsize=(8,6))\n",
    "\n",
    "plt.title('model loss (YearBuilt)')\n",
    "plt.xlabel('iter')\n",
    "plt.ylabel('loss')\n",
    "plt.plot(range(scratch_lr.iter), scratch_lr.loss.T, linestyle='-', marker='o', label = 'train_loss')\n",
    "plt.plot(range(scratch_lr.iter), scratch_lr.val_loss.T, linestyle='-', marker='o', label = 'val_loss')\n",
    "\n",
    "plt.legend()\n",
    "plt.tight_layout()\n",
    "plt.show()"
   ]
  }
 ],
 "metadata": {
  "kernelspec": {
   "display_name": "Python 3",
   "language": "python",
   "name": "python3"
  },
  "language_info": {
   "codemirror_mode": {
    "name": "ipython",
    "version": 3
   },
   "file_extension": ".py",
   "mimetype": "text/x-python",
   "name": "python",
   "nbconvert_exporter": "python",
   "pygments_lexer": "ipython3",
   "version": "3.7.4"
  },
  "toc-autonumbering": false,
  "toc-showmarkdowntxt": false,
  "toc-showtags": false
 },
 "nbformat": 4,
 "nbformat_minor": 4
}
