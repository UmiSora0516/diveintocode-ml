{
  "nbformat": 4,
  "nbformat_minor": 0,
  "metadata": {
    "colab": {
      "name": "mt_fuji_folded_paper.ipynb",
      "provenance": [],
      "collapsed_sections": []
    },
    "kernelspec": {
      "name": "python3",
      "display_name": "Python 3"
    },
    "language_info": {
      "name": "python"
    }
  },
  "cells": [
    {
      "cell_type": "code",
      "metadata": {
        "id": "H89-uSkj8hnL"
      },
      "source": [
        ""
      ],
      "execution_count": 13,
      "outputs": []
    },
    {
      "cell_type": "markdown",
      "metadata": {
        "id": "6y5bYK_H9Sv0"
      },
      "source": [
        "# 富士山紙折問題\n",
        "\n",
        "### 紙を折った時の厚さの数式\n",
        "---\n",
        "紙を $n$ 回折ったときの厚さを $t_{n}$ としたとき、以下のように表せます。\n",
        "\n",
        "\\[$t_{n} = t_{0}×2^{n}$\\]\n",
        "\n",
        "一般的なコピー用紙の厚さはおよそ 0.00008m なので、$t_{0} = 0.00008$ とします。\n",
        "</br>\n",
        "</br>\n",
        "## 【問題1】何回折ったら富士山を超えるか\n",
        "---\n",
        "厚さが「富士山の高さ(3776m)」を超えるのに必要な紙を折る最小回数を計算するプログラムを作成してください。"
      ]
    },
    {
      "cell_type": "code",
      "metadata": {
        "colab": {
          "base_uri": "https://localhost:8080/"
        },
        "id": "TtZvRvCu-Pdb",
        "outputId": "d83a683c-3433-4ec0-a8cb-8bdd244ce701"
      },
      "source": [
        "'''\n",
        "厚さが「富士山の高さ(3776m)」を超えるのに必要な紙を折る最小回数を計算するプログラム\n",
        "'''\n",
        "\n",
        "# 定数\n",
        "THICKNESS = 0.00008   # 折る前の紙の厚さ(m)\n",
        "MT_FUJI_HEIGHT = 3776 # 富士山の高さ(m)\n",
        "\n",
        "folded_times = 0  # 折った回数。初期値は0回。\n",
        "folded_thickness = THICKNESS\n",
        "\n",
        "# 厚さが高さを超えたら、whileループを抜ける\n",
        "while folded_thickness <=  MT_FUJI_HEIGHT:\n",
        "  folded_thickness *= 2\n",
        "  folded_times += 1 # カウントアップ\n",
        "\n",
        "print(\"{}回折れば、富士山の高さ3776mを超えます。\".format(folded_times))\n"
      ],
      "execution_count": 14,
      "outputs": [
        {
          "output_type": "stream",
          "text": [
            "26回折れば、富士山の高さ3776mを超えます。\n"
          ],
          "name": "stdout"
        }
      ]
    },
    {
      "cell_type": "markdown",
      "metadata": {
        "id": "YjPZc6ktKBvO"
      },
      "source": [
        "## 【問題2】任意の厚さに対応した関数\n",
        "---\n",
        "高さを入力すると、それを超えるのに必要な紙を折る最小回数を出力する関数を実装してください。引数として、折る前の厚さ $t_{0}$ も設定できるようにしましょう。\n",
        "\n",
        "この関数を利用して、「最も近い太陽以外の恒星」に到達するには紙を何回折る必要があるか計算してください。\n",
        "「最も近い太陽以外の恒星」は「プロキシマ・ケンタウリ」で、地球からの距離はおよそ $4.0175 \\times 10^{16}$m です。"
      ]
    },
    {
      "cell_type": "code",
      "metadata": {
        "colab": {
          "base_uri": "https://localhost:8080/"
        },
        "id": "nzO6bv2rJQgu",
        "outputId": "1965c76b-0f32-4a26-b73b-dbd93113f1cd"
      },
      "source": [
        "def calc_folded_times(n_height, n_thickness):\n",
        "  '''引数の高さを超えるのに必要な紙を折る最小回数を出力する関数。\n",
        "  Parameteres\n",
        "  -----------\n",
        "  n_height: 高さ（int型）\n",
        "  n_thickness: 折る前の紙の厚さ（int型）\n",
        "\n",
        "  Returns\n",
        "  -------\n",
        "  folded_times : int型\n",
        "      紙を折る最小回数\n",
        "  '''\n",
        "\n",
        "  folded_times = 0  # 折った回数。初期値は0回。\n",
        "  folded_thickness = n_thickness\n",
        "\n",
        "  # 厚さが高さを超えたら、whileループを抜ける\n",
        "  while folded_thickness <=  n_height:\n",
        "    folded_thickness *= 2\n",
        "    folded_times += 1 # カウントアップ\n",
        "\n",
        "  return folded_times\n",
        "    \n",
        "\n",
        "####################################\n",
        "\n",
        "PROXIMA_CENTAURI = 4.0175 * ( 10**16 )  # プロキシマ・ケンタウリの距離：4.0175×10^16(m)\n",
        "THICKNESS = 0.00008                     # 折る前の紙の厚さ(m)\n",
        "\n",
        "# 回数を計算する関数を呼び出す\n",
        "n_times = calc_folded_times(PROXIMA_CENTAURI, THICKNESS)\n",
        "\n",
        "# 回数を出力する\n",
        "print(\"「最も近い太陽以外の恒星」プロキシマ・ケンタウリの距離（{}m）に到達するためには{}回折る必要があります。\".format(PROXIMA_CENTAURI, n_times))"
      ],
      "execution_count": 15,
      "outputs": [
        {
          "output_type": "stream",
          "text": [
            "「最も近い太陽以外の恒星」プロキシマ・ケンタウリの距離（4.0175e+16m）に到達するためには69回折る必要があります。\n"
          ],
          "name": "stdout"
        }
      ]
    },
    {
      "cell_type": "markdown",
      "metadata": {
        "id": "Yp3jDyWhSRzD"
      },
      "source": [
        "##【問題3】必要な紙の長さ\n",
        "---\n",
        "実際のところ身近にある紙は43回はおろか10回も折れません。しかし、大きな紙ほどたくさん折ることができ、トイレットペーパーのような長い紙を一方向に折ることを考えた時の折れる回数を求める公式が存在します。\n",
        "\n",
        "厚さ $t_{0}$ の紙をn回折るために必要な紙の長さLは以下の公式で求まります。\n",
        "\n",
        "$L=(πt_{0}/6)(2n+4)(2n−1)$\n",
        "\n",
        "この公式を利用して、実際に紙を折り任意の厚さに到達するために必要な紙の長さを求める関数を実装してください。\n",
        "\n",
        "そしてこれを使って「月」「富士山」「最も近い太陽以外の恒星」に届くために必要な紙の長さを求めてください。"
      ]
    },
    {
      "cell_type": "code",
      "metadata": {
        "colab": {
          "base_uri": "https://localhost:8080/"
        },
        "id": "nmlDDyiaPRCA",
        "outputId": "12b61f73-7b8f-4041-a756-79bbc99b46d9"
      },
      "source": [
        "def calc_paper_length(n_height, n_thickness):\n",
        "  '''厚さtの紙をn回折るために必要な髪の長さを算出する関数。\n",
        "  Parameteres\n",
        "  -----------\n",
        "  n_height: 高さ（int型）\n",
        "  n_thickness: 折る前の紙の厚さ（int型）\n",
        "\n",
        "  Returns\n",
        "  -------\n",
        "  paper_len : int型\n",
        "      任意の厚さに達するために必要な紙の長さ（m）\n",
        "  '''\n",
        "\n",
        "  # mathモジュールをインポート\n",
        "  import math\n",
        "\n",
        "  # 関数を使って、紙を折る回数を取得する\n",
        "  n_times = calc_folded_times(n_height, n_thickness)\n",
        "\n",
        "  # 公式を用いて、必要な紙の長さを計算する\n",
        "  paper_len = ( math.pi * n_thickness / 6) * ( (2**n_times) + 4 ) * ( (2**n_times) - 1 )\n",
        "\n",
        "  return paper_len\n",
        "\n",
        "\n",
        "\n",
        "####################################\n",
        "#「月」「富士山」「最も近い太陽以外の恒星」に届くために必要な紙の長さを計算する\n",
        "\n",
        "MOON = 3844 * ( 10 ** 5)                # 月の距離：384400000 m\n",
        "MT_FUJI_HEIGHT = 3776                   # 富士山の高さ(m)\n",
        "PROXIMA_CENTAURI = 4.0175 * ( 10**16 )  # プロキシマ・ケンタウリの距離：4.0175×10^16(m)\n",
        "THICKNESS = 0.00008                     # 折る前の紙の厚さ(m)\n",
        "\n",
        "# 月の場合\n",
        "paper_len_moon = calc_paper_length(MOON, THICKNESS)\n",
        "\n",
        "# 富士山の場合\n",
        "paper_len_fuji = calc_paper_length(MT_FUJI_HEIGHT, THICKNESS)\n",
        "\n",
        "# 最も近い太陽以外の恒星の場合\n",
        "paper_len_proxima = calc_paper_length(PROXIMA_CENTAURI, THICKNESS)\n",
        "\n",
        "# 計算した結果を出力\n",
        "print(\"月：{:.2f}m\\n富士山：{:.2f}m\\n最も近い太陽以外の恒星：{:.2f}m\".format(paper_len_moon, paper_len_fuji, paper_len_proxima))\n"
      ],
      "execution_count": 16,
      "outputs": [
        {
          "output_type": "stream",
          "text": [
            "月：3240919444170781229056.00m\n",
            "富士山：188646348487.24m\n",
            "最も近い太陽以外の恒星：14595803601100347983589756318297096192.00m\n"
          ],
          "name": "stdout"
        }
      ]
    },
    {
      "cell_type": "code",
      "metadata": {
        "id": "FQcTB_wdYdkT"
      },
      "source": [
        ""
      ],
      "execution_count": 16,
      "outputs": []
    }
  ]
}