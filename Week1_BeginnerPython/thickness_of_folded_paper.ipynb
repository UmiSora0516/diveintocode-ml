{
  "nbformat": 4,
  "nbformat_minor": 0,
  "metadata": {
    "colab": {
      "name": "thickness_of_folded_paper.ipynb",
      "provenance": [],
      "collapsed_sections": []
    },
    "kernelspec": {
      "name": "python3",
      "display_name": "Python 3"
    },
    "language_info": {
      "name": "python"
    }
  },
  "cells": [
    {
      "cell_type": "markdown",
      "metadata": {
        "id": "7sN2YAw7vkns"
      },
      "source": [
        "# Python入門 ＜紙折問題＞\n",
        "\n",
        "## 【問題1】べき乗の算術演算子を使用した実装\n",
        "---\n",
        "\n",
        "べき乗の算術演算子を使用したプログラムを作ってください。  \n",
        "雛形として紙を1回折った時の厚さを計算するコードを用意しました。これを43回折った時のコードに書き換えてください。"
      ]
    },
    {
      "cell_type": "code",
      "metadata": {
        "colab": {
          "base_uri": "https://localhost:8080/"
        },
        "id": "IdyokKiZwTuy",
        "outputId": "7f9fffcb-c39a-4fd2-8679-92f0c353539c"
      },
      "source": [
        "THICKNESS = 0.00008\n",
        "folded_thickness = THICKNESS * 2 ** 43\n",
        "print(\"厚さ： {}メートル\".format(folded_thickness))"
      ],
      "execution_count": 50,
      "outputs": [
        {
          "output_type": "stream",
          "text": [
            "厚さ： 703687441.77664メートル\n"
          ],
          "name": "stdout"
        }
      ]
    },
    {
      "cell_type": "markdown",
      "metadata": {
        "id": "r89Gj0A_x5tc"
      },
      "source": [
        "## 【問題2】単位の変換\n",
        "---\n",
        "\n",
        "単位がメートルだと実感が湧きづらいので、◯◯**万キロメートル** に変換して表示させてください。"
      ]
    },
    {
      "cell_type": "code",
      "metadata": {
        "colab": {
          "base_uri": "https://localhost:8080/"
        },
        "id": "Z_zw-P4_yNIb",
        "outputId": "d1a96357-68c2-4df1-89ff-8f609ac5b781"
      },
      "source": [
        "# メートルをキロメートルに変換して小数点以下2桁で表示する\n",
        "print(\"厚さ： {:.2f}万キロメートル\".format(folded_thickness / 10000000))"
      ],
      "execution_count": 51,
      "outputs": [
        {
          "output_type": "stream",
          "text": [
            "厚さ： 70.37万キロメートル\n"
          ],
          "name": "stdout"
        }
      ]
    },
    {
      "cell_type": "markdown",
      "metadata": {
        "id": "P0zohDtGze8R"
      },
      "source": [
        "## 【問題3】for文を使用して作成\n",
        "---\n",
        "次に、for文を使用したプログラムを作ってください。\n",
        "\n",
        "べき乗の算術演算子は使ってはいけません。算術演算子は四則演算（<font color=\"red\">+、-、*、/</font>）のみ使えます。"
      ]
    },
    {
      "cell_type": "code",
      "metadata": {
        "colab": {
          "base_uri": "https://localhost:8080/"
        },
        "id": "CDK9pAa81H0G",
        "outputId": "418e74dd-0a3c-4994-f5f6-7b5e471fe7df"
      },
      "source": [
        "folded_thickness = THICKNESS\n",
        "for i in range(43):\n",
        "    folded_thickness *= 2\n",
        "print(\"厚さ： {:.2f}万キロメートル\".format(folded_thickness / 10000000))"
      ],
      "execution_count": 52,
      "outputs": [
        {
          "output_type": "stream",
          "text": [
            "厚さ： 70.37万キロメートル\n"
          ],
          "name": "stdout"
        }
      ]
    },
    {
      "cell_type": "markdown",
      "metadata": {
        "id": "7L9eWM2z2EZs"
      },
      "source": [
        "## 【問題4】計算時間の比較\n",
        "---\n",
        "以上の2つの方法はどちらも正しいですが、コードの良さを比較する際には例えば以下のような点で評価されます。\n",
        "\n",
        "- 実行速度\n",
        "- メモリの使用量\n",
        "- 可読性\n",
        "- 拡張性\n",
        "- 再利用性\n",
        "\n",
        "今回は実行速度を比較してみます。\n",
        "\n",
        "以下の雛形を使用して、2つの方法の実行時間を出力して、比較してください。変数の定義や <font color=\"red\">print</font> 文など、どちらの方法でも使われている部分は除いた範囲の時間を比較してください。"
      ]
    },
    {
      "cell_type": "code",
      "metadata": {
        "colab": {
          "base_uri": "https://localhost:8080/"
        },
        "id": "z3ZHSiL82r_f",
        "outputId": "292b311a-1991-424c-b9c9-a1215aa03ff0"
      },
      "source": [
        "### べき乗の算術演算子を使用した場合 ###\n",
        "\n",
        "import time\n",
        "start = time.time()\n",
        "#####\n",
        "# ここに比較したいコードを貼り付ける\n",
        "folded_thickness = THICKNESS * 2 ** 43\n",
        "#####\n",
        "elapsed_time = time.time() - start\n",
        "print(\"time : {}[s]\".format(elapsed_time))"
      ],
      "execution_count": 53,
      "outputs": [
        {
          "output_type": "stream",
          "text": [
            "time : 7.653236389160156e-05[s]\n"
          ],
          "name": "stdout"
        }
      ]
    },
    {
      "cell_type": "code",
      "metadata": {
        "colab": {
          "base_uri": "https://localhost:8080/"
        },
        "id": "uX-Udp1j3Oz0",
        "outputId": "19c64196-4a72-4f7e-c36d-fac5fc417ada"
      },
      "source": [
        "### for文を使用した場合 ###\n",
        "\n",
        "import time\n",
        "start = time.time()\n",
        "#####\n",
        "# ここに比較したいコードを貼り付ける\n",
        "folded_thickness = THICKNESS\n",
        "for i in range(43):\n",
        "    folded_thickness *= 2\n",
        "#####\n",
        "elapsed_time = time.time() - start\n",
        "print(\"time : {}[s]\".format(elapsed_time))"
      ],
      "execution_count": 54,
      "outputs": [
        {
          "output_type": "stream",
          "text": [
            "time : 0.00012421607971191406[s]\n"
          ],
          "name": "stdout"
        }
      ]
    },
    {
      "cell_type": "markdown",
      "metadata": {
        "id": "fWJwz4kz4TVt"
      },
      "source": [
        "### 《発展：繰り返し回数を増やす》\n",
        "\n",
        "43回程度では比較の差が現れにくいかもしれません。そのような場合は、紙を折る回数をさらに増やして差を明確にしてみると良いでしょう。  \n",
        "\n",
        "↓  \n",
        "回数を**1000回**にした場合で比較してみる。"
      ]
    },
    {
      "cell_type": "code",
      "metadata": {
        "colab": {
          "base_uri": "https://localhost:8080/"
        },
        "id": "K2c-8Hnd4cyn",
        "outputId": "97971bf4-52c6-4fb0-d938-be400c96f897"
      },
      "source": [
        "### べき乗の算術演算子を使用した場合 ###\n",
        "\n",
        "import time\n",
        "start = time.time()\n",
        "#####\n",
        "# ここに比較したいコードを貼り付ける\n",
        "folded_thickness = THICKNESS * 2 ** 1000\n",
        "#####\n",
        "elapsed_time = time.time() - start\n",
        "print(\"time : {}[s]\".format(elapsed_time))"
      ],
      "execution_count": 55,
      "outputs": [
        {
          "output_type": "stream",
          "text": [
            "time : 4.458427429199219e-05[s]\n"
          ],
          "name": "stdout"
        }
      ]
    },
    {
      "cell_type": "code",
      "metadata": {
        "colab": {
          "base_uri": "https://localhost:8080/"
        },
        "id": "2-JlxXzw46Vm",
        "outputId": "22c99be1-5a8a-4640-c32b-457d52852d55"
      },
      "source": [
        "### for文を使用した場合 ###\n",
        "\n",
        "import time\n",
        "start = time.time()\n",
        "#####\n",
        "# ここに比較したいコードを貼り付ける\n",
        "folded_thickness = THICKNESS\n",
        "for i in range(1000):\n",
        "    folded_thickness *= 2\n",
        "#####\n",
        "elapsed_time = time.time() - start\n",
        "print(\"time : {}[s]\".format(elapsed_time))"
      ],
      "execution_count": 56,
      "outputs": [
        {
          "output_type": "stream",
          "text": [
            "time : 0.0001659393310546875[s]\n"
          ],
          "name": "stdout"
        }
      ]
    },
    {
      "cell_type": "markdown",
      "metadata": {
        "id": "TvTb-uLt5QDT"
      },
      "source": [
        "### 《発展：マジックコマンドを使う》\n",
        "\n",
        "実行時間は実行する度にやや変化することがあるため、複数回計測することが一般的です。<font color=\"red\">time</font> モジュールとfor文を組み合わせることでも実装できます。また、Jupyter Notebookでは<font color=\"red\">%timeit</font>という **マジックコマンド** でも計測できます。マジックコマンドとは標準のPythonの実行システムには用意されていない、Jupyter Notebook 特有の機能です。"
      ]
    },
    {
      "cell_type": "code",
      "metadata": {
        "colab": {
          "base_uri": "https://localhost:8080/"
        },
        "id": "3flEKZ_y5ttv",
        "outputId": "748b2103-c74d-47e5-f6a3-741c7a2ffd21"
      },
      "source": [
        "%%timeit\n",
        "#####\n",
        "# ここに比較したいコードを貼り付ける\n",
        "folded_thickness = THICKNESS * 2 ** 43\n",
        "#####"
      ],
      "execution_count": 57,
      "outputs": [
        {
          "output_type": "stream",
          "text": [
            "The slowest run took 37.99 times longer than the fastest. This could mean that an intermediate result is being cached.\n",
            "10000000 loops, best of 5: 82 ns per loop\n"
          ],
          "name": "stdout"
        }
      ]
    },
    {
      "cell_type": "code",
      "metadata": {
        "colab": {
          "base_uri": "https://localhost:8080/"
        },
        "id": "6eefxzND54pt",
        "outputId": "c01d3d9e-ac7e-44ef-aec0-7b3c3c876c32"
      },
      "source": [
        "%%timeit\n",
        "#####\n",
        "# ここに比較したいコードを貼り付ける\n",
        "folded_thickness = THICKNESS\n",
        "for i in range(43):\n",
        "    folded_thickness *= 2\n",
        "#####"
      ],
      "execution_count": 58,
      "outputs": [
        {
          "output_type": "stream",
          "text": [
            "100000 loops, best of 5: 2.59 µs per loop\n"
          ],
          "name": "stdout"
        }
      ]
    },
    {
      "cell_type": "markdown",
      "metadata": {
        "id": "3ylEPHKW7Mk5"
      },
      "source": [
        "## 【問題5】リストへの保存\n",
        "---\n",
        "ここまでは43回折った後の最後の値だけを使用していましたが、グラフで可視化するためには過程の値も必要です。for文を使用したコードに、過程の値合計44個を記録するコードを加えてください。"
      ]
    },
    {
      "cell_type": "code",
      "metadata": {
        "colab": {
          "base_uri": "https://localhost:8080/"
        },
        "id": "WF5Y5UCx7fXD",
        "outputId": "a659c8c1-6b77-4fd2-8727-0b6d55155ccf"
      },
      "source": [
        "folded_thickness_list = [THICKNESS]\n",
        "folded_thickness = THICKNESS\n",
        "for i in range(43):\n",
        "    folded_thickness *= 2\n",
        "    folded_thickness_list.append(folded_thickness)\n",
        "\n",
        "print(\"リストには{}個の値が格納されている\".format(len(folded_thickness_list)))"
      ],
      "execution_count": 59,
      "outputs": [
        {
          "output_type": "stream",
          "text": [
            "リストには44個の値が格納されている\n"
          ],
          "name": "stdout"
        }
      ]
    },
    {
      "cell_type": "markdown",
      "metadata": {
        "id": "2ThHgJ0L-3_f"
      },
      "source": [
        "## 【問題6】折れ線グラフの表示\n",
        "---\n",
        "グラフの描画には Matplotlib という ライブラリ を用います。リストへ記録するコードの後ろで以下の雛形を使用してください。"
      ]
    },
    {
      "cell_type": "code",
      "metadata": {
        "colab": {
          "base_uri": "https://localhost:8080/",
          "height": 295
        },
        "id": "K174s50R-8dC",
        "outputId": "47e46f8c-24d1-4f9b-b261-6530bdab9deb"
      },
      "source": [
        "import matplotlib.pyplot as plt\n",
        "%matplotlib inline\n",
        "# グラフを表示する。タイトルと軸ラベル名付き。\n",
        "plt.title(\"thickness of folded paper\")\n",
        "plt.xlabel(\"number of folds\")\n",
        "plt.ylabel(\"thickness [m]\")\n",
        "plt.plot(folded_thickness_list)  # 「リスト名」のところにリストの変数名を入れる\n",
        "plt.show()"
      ],
      "execution_count": 60,
      "outputs": [
        {
          "output_type": "display_data",
          "data": {
            "image/png": "[encoded data removed]",
            "text/plain": [
              "<Figure size 432x288 with 1 Axes>"
            ]
          },
          "metadata": {
            "tags": [],
            "needs_background": "light"
          }
        }
      ]
    },
    {
      "cell_type": "markdown",
      "metadata": {
        "id": "A7TvHMfs1q_B"
      },
      "source": [
        ">37回辺りまでは厚みの変化は見られないが、40回目あたりで大きく厚さが増えていることがグラフから読み取れる。"
      ]
    },
    {
      "cell_type": "markdown",
      "metadata": {
        "id": "784d5U0b3A2L"
      },
      "source": [
        "## 【問題7】グラフのカスタマイズ\n",
        "---\n",
        "グラフをより見やすくカスタマイズしてみましょう。カスタマイズしたグラフを最低3種類作成してください。例えば以下のように書き換えることで、線の色を赤に変更できます。"
      ]
    },
    {
      "cell_type": "code",
      "metadata": {
        "colab": {
          "base_uri": "https://localhost:8080/",
          "height": 307
        },
        "id": "DhED8yUF2T7V",
        "outputId": "ff48da63-d82b-4ac4-da3c-3fdc47d2cfb7"
      },
      "source": [
        "# 赤い折れ線グラフを表示する。\n",
        "plt.title(\"thickness of folded paper\",  fontsize=15)  # ラベルのフォントサイズを設定\n",
        "plt.xlabel(\"number of folds\", fontsize=15)  # ラベルのフォントサイズを設定\n",
        "plt.ylabel(\"thickness [m]\", fontsize=15)    # ラベルのフォントサイズを設定\n",
        "plt.tick_params(labelsize=15) # 軸の値に関する設定を行う\n",
        "plt.plot(folded_thickness_list, marker='.', markeredgecolor='red', color='yellow', linewidth=2.5) # 線の色と太さ、マーカーをドットに設定\n",
        "plt.grid(linestyle='dotted')  #　グリッド表示\n",
        "plt.show()"
      ],
      "execution_count": 61,
      "outputs": [
        {
          "output_type": "display_data",
          "data": {
            "image/png": "[encoded data removed]",
            "text/plain": [
              "<Figure size 432x288 with 1 Axes>"
            ]
          },
          "metadata": {
            "tags": [],
            "needs_background": "light"
          }
        }
      ]
    },
    {
      "cell_type": "code",
      "metadata": {
        "id": "4gTu6qG1-1Dz"
      },
      "source": [
        ""
      ],
      "execution_count": 61,
      "outputs": []
    }
  ]
}