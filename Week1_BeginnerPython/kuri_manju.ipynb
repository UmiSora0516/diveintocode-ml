{
  "nbformat": 4,
  "nbformat_minor": 0,
  "metadata": {
    "colab": {
      "name": "kuri_manju.ipynb",
      "provenance": [],
      "collapsed_sections": []
    },
    "kernelspec": {
      "name": "python3",
      "display_name": "Python 3"
    },
    "language_info": {
      "name": "python"
    }
  },
  "cells": [
    {
      "cell_type": "code",
      "metadata": {
        "id": "kWPnnI1yZ1A2"
      },
      "source": [
        ""
      ],
      "execution_count": 30,
      "outputs": []
    },
    {
      "cell_type": "markdown",
      "metadata": {
        "id": "r8mqAvUCaFi3"
      },
      "source": [
        "# 栗まんじゅう問題\n",
        "\n",
        "## 【問題】栗まんじゅうが太陽系を覆う日\n",
        "---\n",
        "1個の栗まんじゅうにバイバインを振りかけた場合、太陽系が栗まんじゅうで覆われるのは何分後でしょうか。これを計算するプログラムを作成してください。\n",
        "\n",
        "栗まんじゅうや太陽系の体積を調査した上で仮定して計算してください。栗まんじゅうの隙間や重力などは考えず、問題を単純化して構いません。\n",
        "\n",
        "ボールにバイバインを振りかけた時、東京ドームが一杯になる時間など他の状況にも適用できるような汎用的なプログラムを作成してください。また、グラフを表示するなど分かりやすいノートブックを作成してください。"
      ]
    },
    {
      "cell_type": "markdown",
      "metadata": {
        "id": "VFd4t64Kdlx8"
      },
      "source": [
        "*   物体は5分毎に倍になる\n",
        "*   **栗まんじゅうの体積**を100$cm^3$=<font color=\"red\">**0.0001$m^3$**</font>と仮定する\n",
        "*   太陽系の体積は約1.2×10^73$m^3$　(計算は下記参照）   \n",
        "    地球からの太陽までの距離が1.5億km、光の速度は30万km/秒なので、  \n",
        "    半径 = 30万km × 60秒 × 60分 × 24時 × 365日 × 1.5億 = 1.4 × 10^24$m$  \n",
        "    体積を求める式$V=4/3πr^3$で計算すると**太陽系の体積は**<font color=\"red\">**1.2×10^73$m^3$**</font>になる。\n",
        "\n"
      ]
    },
    {
      "cell_type": "code",
      "metadata": {
        "colab": {
          "base_uri": "https://localhost:8080/"
        },
        "id": "_p0Yxv0Jbr_H",
        "outputId": "34422c2d-10ad-45b2-eb58-480db5ba16e9"
      },
      "source": [
        "def clac_time_covered_object(vol_object, vol_covered_with):\n",
        "    '''ある物が5分ごとに体積が倍に増え続け、目的の物体を覆うのに要する時間（分）を計算する関数。\n",
        "    Parameteres\n",
        "    -----------\n",
        "    vol_object: 覆われる目的の物体の体積（int型）\n",
        "    vol_covered_with: 目的の物体を覆うモノの体積（int型）\n",
        "\n",
        "    Returns\n",
        "    -------\n",
        "    total_time : int型\n",
        "        目的の物体を覆うのに要する時間（分）\n",
        "    '''\n",
        "\n",
        "    # 所要時間やカウントアップ用の変数を宣言\n",
        "    total_time = 0\n",
        "    count = 0\n",
        "    total_covered_with = vol_covered_with\n",
        "\n",
        "    # 覆う物体が、目的の物体の体積より大きくなったらWhileを抜ける\n",
        "    while total_covered_with < vol_object:\n",
        "\n",
        "        total_time += 5 # カウントアップ\n",
        "        count += 1\n",
        "        # 体積の合計　＝　5分ごとの個数　×　1個分の体積\n",
        "        total_covered_with = (2**count) * vol_covered_with \n",
        "\n",
        "    #時間（分）を返す\n",
        "    return total_time\n",
        "\n",
        "\n",
        "#########\n",
        "\n",
        "# 栗まんじゅうで太陽系を覆うのにかかる時間を計算する。\n",
        "KURI_MANJU = 0.0001\n",
        "SOLAR = 1.2 * (10**73)\n",
        "\n",
        "# 関数を使って所要時間を計算する\n",
        "total_time = clac_time_covered_object(SOLAR, KURI_MANJU)\n",
        "\n",
        "print(\"栗まんじゅうは{}分後に太陽系を覆う。\".format(total_time))\n",
        "\n",
        "#########\n",
        "\n",
        "# 東京ドームの場合：\n",
        "BALL = 0.0017         # 野球ボールの球の体積は約1700cm^3 = 0.0017m^3と仮定する\n",
        "TOKYO_DOME = 1240000  # 東京ドームの容積は124万m^3\n",
        "\n",
        "# 関数を使って所要時間を計算する\n",
        "total_time = clac_time_covered_object(TOKYO_DOME, BALL)\n",
        "\n",
        "print(\"野球ボールは{}分後に東京ドームを覆う。\".format(total_time))\n"
      ],
      "execution_count": 31,
      "outputs": [
        {
          "output_type": "stream",
          "text": [
            "栗まんじゅうは1285分後に太陽系を覆う。\n",
            "野球ボールは150分後に東京ドームを覆う。\n"
          ],
          "name": "stdout"
        }
      ]
    },
    {
      "cell_type": "markdown",
      "metadata": {
        "id": "Gk_wp-wAee9n"
      },
      "source": [
        "## 栗まんじゅう問題向けのプログラム\n",
        "\n",
        "以下の関数を準備し汎用的に使えるプロがラムを作る\n",
        "\n",
        "1.   時間と体積データのリストを生成するための関数\n",
        "2.   リストデータよりグラフを表示する関数\n",
        "\n",
        "\n",
        "\n",
        "\n",
        "\n"
      ]
    },
    {
      "cell_type": "code",
      "metadata": {
        "id": "khkt_1WrHZ7L"
      },
      "source": [
        "\n",
        "#--------------------------------------------------\n",
        "# 1. 時間と体積データのリストを生成するための関数\n",
        "#--------------------------------------------------\n",
        "def get_volume_and_time_list(vol_object, vol_covered_with):\n",
        "    '''ある物が5分ごとに体積が倍に増え続け、目的の物体を覆うのに要する時間（分）を計算し、その体積と時間のデータをリストとして返す、関数。\n",
        "    Parameteres\n",
        "    -----------\n",
        "    vol_object: 覆われる目的の物体の体積（int型）\n",
        "    vol_covered_with: 目的の物体を覆うモノの体積（int型）\n",
        "\n",
        "    Returns\n",
        "    -------\n",
        "    list_time : list\n",
        "        目的の物体を覆う時間の推移リスト\n",
        "    list_volume : list\n",
        "        物体が5分ごとに倍増える体積のリスト\n",
        "    '''\n",
        "\n",
        "    # 所要時間やカウントアップ用の変数を宣言\n",
        "    total_time = 0\n",
        "    count = 0\n",
        "    total_covered_with = vol_covered_with\n",
        "\n",
        "    # リスト変数の定義と初期値を設定\n",
        "    list_time = [0]\n",
        "    list_volume = [total_covered_with]\n",
        "\n",
        "    # 覆う物が、目的の物体の体積より大きくなったらWhileを抜ける\n",
        "    while total_covered_with < vol_object:\n",
        "\n",
        "        total_time += 5 # カウントアップ\n",
        "        count += 1\n",
        "        # 体積の合計　＝　5分ごとの個数　×　1個分の体積\n",
        "        total_covered_with = (2**count) * vol_covered_with\n",
        "\n",
        "        # 時間と体積データをリストに格納 \n",
        "        list_time.append(total_time)\n",
        "        list_volume.append(total_covered_with)\n",
        "\n",
        "    # 時間と体積リストを返す\n",
        "    return list_time, list_volume\n",
        "\n",
        "\n",
        "######\n",
        "\n",
        "#--------------------------------------------------\n",
        "# 2. リストデータよりグラフを表示する関数\n",
        "#--------------------------------------------------\n",
        "def show_graph(time_data, volume_data, str_title):\n",
        "    '''引数のデータからグラフを表示する関数\n",
        "    Parameteres\n",
        "    -----------\n",
        "    time_data:    時間データ（list型）\n",
        "    volume_data:  体積データ（int型）\n",
        "    str_title：   グラフのタイトル　(string型)\n",
        "\n",
        "    Returns\n",
        "    -------\n",
        "    None\n",
        "    ''' \n",
        "    import matplotlib.pyplot as plt\n",
        "    %matplotlib inline\n",
        "\n",
        "    #折れ線グラフを表示\n",
        "    plt.title(str_title,  fontsize=15)  # ラベルのフォントサイズを設定\n",
        "    plt.xlabel(\"Time(min)\", fontsize=15)  # ラベルのフォントサイズを設定\n",
        "    plt.ylabel(\"Volumes\", fontsize=15)    # ラベルのフォントサイズを設定\n",
        "    plt.tick_params(labelsize=15) # 軸の値に関する設定を行う\n",
        "    plt.plot(time_data, volume_data, linewidth=3) \n",
        "    plt.grid(linestyle='dotted')  #　グリッド表示\n",
        "    plt.show()\n",
        "\n",
        "\n"
      ],
      "execution_count": 32,
      "outputs": []
    },
    {
      "cell_type": "markdown",
      "metadata": {
        "id": "FEPLaTx2vkuT"
      },
      "source": [
        "## 上記の関数を使って、栗まんじゅうと東京ドーム問題の実行する"
      ]
    },
    {
      "cell_type": "code",
      "metadata": {
        "colab": {
          "base_uri": "https://localhost:8080/",
          "height": 632
        },
        "id": "zkCbsylVv7wf",
        "outputId": "551f1aa8-2fac-4d06-f11f-8570142a1109"
      },
      "source": [
        "## 栗まんじゅう\n",
        "\n",
        "KURI_MANJU = 0.0001     # 栗まんじゅうの体積\n",
        "SOLAR = 1.2 * (10**73)  # 太陽系の体積\n",
        "\n",
        "# 時間を出力\n",
        "list_time, list_volume = get_volume_and_time_list(SOLAR, KURI_MANJU)\n",
        "print(\"栗まんじゅうは{}分後に太陽系を覆う。\".format(list_time[-1]))\n",
        "\n",
        "# グラフを表示\n",
        "show_graph(list_time, list_volume, \"Kuma manju\")\n",
        "\n",
        "###################################\n",
        "\n",
        "## 東京ドーム\n",
        "BALL = 0.0017         # 野球ボールの球の体積は約1700cm^3 = 0.0017m^3と仮定する\n",
        "TOKYO_DOME = 1240000  # 東京ドームの容積は124万m^3\n",
        "\n",
        "# 時間を出力\n",
        "list_time, list_volume = get_volume_and_time_list(TOKYO_DOME, BALL)\n",
        "print(\"野球ボールは{}分後に東京ドームを覆う。\".format(list_time[-1]))\n",
        "\n",
        "# グラフを表示\n",
        "show_graph(list_time, list_volume, \"Tokyo Dome\")\n"
      ],
      "execution_count": 33,
      "outputs": [
        {
          "output_type": "stream",
          "text": [
            "栗まんじゅうは1285分後に太陽系を覆う。\n"
          ],
          "name": "stdout"
        },
        {
          "output_type": "display_data",
          "data": {
            "image/png": "[encoded data removed]",
            "text/plain": [
              "<Figure size 432x288 with 1 Axes>"
            ]
          },
          "metadata": {
            "tags": [],
            "needs_background": "light"
          }
        },
        {
          "output_type": "stream",
          "text": [
            "野球ボールは150分後に東京ドームを覆う。\n"
          ],
          "name": "stdout"
        },
        {
          "output_type": "display_data",
          "data": {
            "image/png": "[encoded data removed]",
            "text/plain": [
              "<Figure size 432x288 with 1 Axes>"
            ]
          },
          "metadata": {
            "tags": [],
            "needs_background": "light"
          }
        }
      ]
    }
  ]
}