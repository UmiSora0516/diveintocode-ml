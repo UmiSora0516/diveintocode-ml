{
  "nbformat": 4,
  "nbformat_minor": 0,
  "metadata": {
    "colab": {
      "name": "SororiShinzaemon.ipynb",
      "provenance": [],
      "collapsed_sections": []
    },
    "kernelspec": {
      "name": "python3",
      "display_name": "Python 3"
    },
    "language_info": {
      "name": "python"
    }
  },
  "cells": [
    {
      "cell_type": "markdown",
      "metadata": {
        "id": "8uG2Bw_xw3NI"
      },
      "source": [
        "# Python入門課題　＜曽呂利新左衛門問題＞\n",
        "\n",
        "## 【問題1】100日目の米粒の数\n",
        "---\n",
        "100日目には合計で米粒をいくつもらっているのかを計算するコードを作成し、答えを出力してください。また、1日目から100日目までの「その日にもらう米の数」と「その日までに累計で貰う米の数」の推移を折れ線グラフで表現してください。（縦軸が米の数、横軸が日数）"
      ]
    },
    {
      "cell_type": "code",
      "metadata": {
        "colab": {
          "base_uri": "https://localhost:8080/"
        },
        "id": "Bjj2wxUJxp06",
        "outputId": "7d188979-c4e5-4f84-8422-667b73898cc1"
      },
      "source": [
        "# 100日目の米粒の数を計算する\n",
        "\n",
        "total_grains_of_rice = 0   # 米粒の累計数の変数を定義\n",
        "\n",
        "for i in range(100):\n",
        "  total_grains_of_rice += ( 2 ** i ) # その日にもらえる米の数( 2 ** i )と前日までの米の累計数を合算\n",
        "\n",
        "print(\"100日目にもらえる米粒の合計は{}粒です。\".format(total_grains_of_rice))"
      ],
      "execution_count": 11,
      "outputs": [
        {
          "output_type": "stream",
          "text": [
            "100日目にもらえる米粒の合計は1267650600228229401496703205375粒です。\n"
          ],
          "name": "stdout"
        }
      ]
    },
    {
      "cell_type": "markdown",
      "metadata": {
        "id": "0oahutdc7eUL"
      },
      "source": [
        "### 折れ線グラフの表示"
      ]
    },
    {
      "cell_type": "code",
      "metadata": {
        "colab": {
          "base_uri": "https://localhost:8080/",
          "height": 307
        },
        "id": "8WNU0lr-11Kl",
        "outputId": "4b27e05f-c901-4edf-fcc9-9789c8902c51"
      },
      "source": [
        "# 曽呂利新左衛門問題の米の数の推移を折れ線グラフで表示\n",
        "\n",
        "import matplotlib.pyplot as plt\n",
        "%matplotlib inline\n",
        "\n",
        "total_grains_of_rice = 0   # 米粒の累計数の変数を定義\n",
        "\n",
        "# 縦軸のリスト変数\n",
        "grains_of_rice_daily_list = []   # その日のうちにもらえる米の数リスト\n",
        "cumulative_of_rice_list = []    # 日ごとの米の累計リスト\n",
        "\n",
        "for i in range(100):\n",
        "  grain_of_rice_for_today = 2 ** i\n",
        "  total_grains_of_rice += ( 2 ** i ) # その日にもらえる米の数( 2 ** i )と前日までの米の累計数を合算\n",
        "\n",
        "  #上記のデータをリストに格納する\n",
        "  grains_of_rice_daily_list.append(grain_of_rice_for_today)\n",
        "  cumulative_of_rice_list.append(total_grains_of_rice)\n",
        "\n",
        "#折れ線グラフを表示\n",
        "plt.title(\"Cumulative of rice\",  fontsize=15)  # ラベルのフォントサイズを設定\n",
        "plt.xlabel(\"Days\", fontsize=15)  # ラベルのフォントサイズを設定\n",
        "plt.ylabel(\"Grains of rice\", fontsize=15)    # ラベルのフォントサイズを設定\n",
        "plt.tick_params(labelsize=15) # 軸の値に関する設定を行う\n",
        "plt.plot(grains_of_rice_daily_list, linestyle=\"dashed\", label='per day') \n",
        "plt.plot(cumulative_of_rice_list, label='cumulative') \n",
        "plt.grid(linestyle='dotted')  #　グリッド表示\n",
        "plt.legend(loc='best')  #凡例\n",
        "plt.show()"
      ],
      "execution_count": 12,
      "outputs": [
        {
          "output_type": "display_data",
          "data": {
            "image/png": "[encoded data removed]",
            "text/plain": [
              "<Figure size 432x288 with 1 Axes>"
            ]
          },
          "metadata": {
            "tags": [],
            "needs_background": "light"
          }
        }
      ]
    },
    {
      "cell_type": "markdown",
      "metadata": {
        "id": "Gi-hDmiKWlQE"
      },
      "source": [
        "## 【問題2】100日目以外の米粒の数\n",
        "---\n",
        "この逸話は30日だったり81日だったりと日数が曖昧です。どの話にも対応できるように日数を引数とした **関数** を作成しましょう。関数を作成した上で、コース受講日数でいくつ米粒をもらえるかを答えてください。問題1と同様に折れ線グラフも出力してください。"
      ]
    },
    {
      "cell_type": "code",
      "metadata": {
        "colab": {
          "base_uri": "https://localhost:8080/"
        },
        "id": "eclWs8cxAjQN",
        "outputId": "e1bc868b-0a6e-4ade-af41-f446fdac19f5"
      },
      "source": [
        "def compute_sorori_shinzaemon(n_days=100):\n",
        "    \"\"\"曽呂利新左衛門の米の逸話における、日にちごとの米の粒の数を計算する関数。\n",
        "    Parameteres\n",
        "    -----------\n",
        "    n_days: int\n",
        "        米を貰う日数 (default : 100)\n",
        "    Returns\n",
        "    -------\n",
        "    list_n_grains : list\n",
        "        ある日に貰う米の数のリスト (リストの長さはn_daysに等しい)\n",
        "    list_total_grains : list\n",
        "        ある日までに累計で貰う米の数のリスト (リストの長さはn_daysに等しい)\n",
        "    \"\"\"\n",
        "    \n",
        "    total_grains_of_rice = 0   # 米粒の累計数の変数を定義\n",
        "\n",
        "    # 縦軸のリスト変数\n",
        "    list_n_grains = []   # その日のうちにもらえる米の数リスト\n",
        "    list_total_grains = []    # 日ごとの米の累計リスト\n",
        "\n",
        "    for i in range(n_days):\n",
        "      grain_of_rice_for_today = 2 ** i\n",
        "      total_grains_of_rice += ( 2 ** i ) # その日にもらえる米の数( 2 ** i )と前日までの米の累計数を合算\n",
        "\n",
        "      #上記のデータをリストに格納する\n",
        "      list_n_grains.append(grain_of_rice_for_today)\n",
        "      list_total_grains.append(total_grains_of_rice)\n",
        "\n",
        "    # リストデータを返す\n",
        "    return list_n_grains, list_total_grains\n",
        "\n",
        "\n",
        "### コース受講日数=84 でもらえる米粒の数を算出 ######\n",
        "COURSE_DAYS = 84\n",
        "list_n_grains, list_total_grains = compute_sorori_shinzaemon(n_days=COURSE_DAYS)\n",
        "\n",
        "print(\"コース受講日数={}でもらえる米粒の数は{}粒です。\".format(COURSE_DAYS, list_total_grains[-1]))"
      ],
      "execution_count": 13,
      "outputs": [
        {
          "output_type": "stream",
          "text": [
            "コース受講日数=84でもらえる米粒の数は19342813113834066795298815粒です。\n"
          ],
          "name": "stdout"
        }
      ]
    },
    {
      "cell_type": "markdown",
      "metadata": {
        "id": "v3hJ-fBKcLxH"
      },
      "source": [
        "### コース受講日数を折れ線グラフで表示"
      ]
    },
    {
      "cell_type": "code",
      "metadata": {
        "colab": {
          "base_uri": "https://localhost:8080/",
          "height": 307
        },
        "id": "yKrhw2KiYxeG",
        "outputId": "939a01e4-6c1d-4520-efba-4f579278ea42"
      },
      "source": [
        "\n",
        "import matplotlib.pyplot as plt\n",
        "%matplotlib inline\n",
        "\n",
        "# 引数にコース受講日数を渡し、米粒計算の関数を呼び出してリストデータを取得する\n",
        "COURSE_DAYS = 84\n",
        "list_n_grains, list_total_grains = compute_sorori_shinzaemon(n_days=COURSE_DAYS)\n",
        "\n",
        "#折れ線グラフを表示\n",
        "plt.title(\"Cumulative of rice\",  fontsize=15)  # ラベルのフォントサイズを設定\n",
        "plt.xlabel(\"Days\", fontsize=15)  # ラベルのフォントサイズを設定\n",
        "plt.ylabel(\"Grains of rice\", fontsize=15)    # ラベルのフォントサイズを設定\n",
        "plt.tick_params(labelsize=15) # 軸の値に関する設定を行う\n",
        "plt.plot(list_n_grains, linestyle=\"dashed\", label='per day') \n",
        "plt.plot(list_total_grains, label='cumulative') \n",
        "plt.grid(linestyle='dotted')  #　グリッド表示\n",
        "plt.legend(loc='best')  #凡例\n",
        "plt.show()"
      ],
      "execution_count": 14,
      "outputs": [
        {
          "output_type": "display_data",
          "data": {
            "image/png": "[encoded data removed]",
            "text/plain": [
              "<Figure size 432x288 with 1 Axes>"
            ]
          },
          "metadata": {
            "tags": [],
            "needs_background": "light"
          }
        }
      ]
    },
    {
      "cell_type": "markdown",
      "metadata": {
        "id": "TcZ196Q_dilS"
      },
      "source": [
        "## 【問題3】貰える米で何人が何日生活できるか\n",
        "---\n",
        "この米があれば何人が何日生活できるか計算する関数を作成してください。コースを受講する期間に貰える米粒で、このクラスにいる人数であれば、何日間生活できるかを出力してみましょう。\n",
        "\n",
        "関数の最低限の入力は**米粒の数(int)**と**人数(int)**、出力は**生活できる日数(int)**です。関数名やコメントなどは分かりやすく考えて作成してください。\n",
        "\n",
        "ここでは1日に必要な米粒の数は提示しません。自分なりに調べて、計算式に落とし込んでください。どう調べ、何を根拠にしたかもコメントを残しておいてください。"
      ]
    },
    {
      "cell_type": "markdown",
      "metadata": {
        "id": "4WfOe-v-FKIM"
      },
      "source": [
        "*   一人が1日に必要なお米は?  \n",
        "    [「お米のくりや」ブログ](https://kuriya.co.jp/blog/other/20181127-823.html)を参考にすると**1.5～2合**なので、その中間値をとり**1.75合**とします。\n",
        "*   お米1合は何粒なのか？    \n",
        "    [桂農産](http://www.katuranousan.com/?p=599)を参考にするとお米一合は**約6500粒**なので、1.75合は<font color=\"red\">**11375粒**</font>の計算になります。\n",
        "\n",
        "*   MLF2107期コースを受講している人数は**14名**います。\n",
        "\n",
        "上記の情報より関数を作成します。\n",
        "\n",
        "\n",
        "\n",
        "\n",
        "\n",
        "\n"
      ]
    },
    {
      "cell_type": "code",
      "metadata": {
        "colab": {
          "base_uri": "https://localhost:8080/"
        },
        "id": "_Clrs8padMzL",
        "outputId": "41458a8a-c495-4047-8975-7ee02d251065"
      },
      "source": [
        "def calc_days_for_living(n_grains, n_members):\n",
        "    \"\"\"米粒と人数のインプット情報から何日間生活できるかを計算する関数。\n",
        "       Note:　一人1日に必要な米粒は11375粒とする。\n",
        "    Parameteres\n",
        "    -----------\n",
        "    n_grains:   米粒の数　（int型）\n",
        "    n_members:  人数　（int型）\n",
        "\n",
        "    Returns\n",
        "    -------\n",
        "    n_days : 生活できる日数　（int型）\n",
        "    \"\"\"\n",
        "    GRAINS_FOR_ONE_DAY = 11375   # 一人が1日に必要な米粒の数を定数として宣言\n",
        "\n",
        "    total_days = n_grains // GRAINS_FOR_ONE_DAY   # 切り捨て除算\n",
        "\n",
        "    # 引数の人数より、何日間生活できるかを計算\n",
        "    n_days = total_days // n_members\n",
        "\n",
        "    return n_days\n",
        "\n",
        "\n",
        "# コース受講期間（84日）でもらえる米でクラスにいる人数（14人）で何日間生活ができるかを算出する\n",
        "\n",
        "COURSE_DAYS = 84\n",
        "CLASS_MEMBERS = 14\n",
        "\n",
        "# コース期間中にもらえる米粒を算出\n",
        "list_n_grains, list_total_grains = compute_sorori_shinzaemon(n_days=COURSE_DAYS)\n",
        "\n",
        "# 取得した米粒でメンバー14人で何日間生活できるかを算出\n",
        "n_days = calc_days_for_living(list_total_grains[-1], CLASS_MEMBERS)\n",
        "\n",
        "# 結果を出力\n",
        "print(\"コース受講期間({}日間)でもらえるお米粒で、クラスにいる{}人で\\n{}日間生活ができます。\".format(COURSE_DAYS, CLASS_MEMBERS, n_days))"
      ],
      "execution_count": 15,
      "outputs": [
        {
          "output_type": "stream",
          "text": [
            "コース受講期間(84日間)でもらえるお米粒で、クラスにいる14人で\n",
            "121461934780747672183日間生活ができます。\n"
          ],
          "name": "stdout"
        }
      ]
    },
    {
      "cell_type": "code",
      "metadata": {
        "id": "B_PXERU6QaKS"
      },
      "source": [
        ""
      ],
      "execution_count": 15,
      "outputs": []
    }
  ]
}