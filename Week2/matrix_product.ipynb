{
  "nbformat": 4,
  "nbformat_minor": 0,
  "metadata": {
    "colab": {
      "name": "matrix_product.ipynb",
      "provenance": [],
      "collapsed_sections": []
    },
    "kernelspec": {
      "name": "python3",
      "display_name": "Python 3"
    },
    "language_info": {
      "name": "python"
    }
  },
  "cells": [
    {
      "cell_type": "markdown",
      "metadata": {
        "id": "F2p3330l2z0M"
      },
      "source": [
        "# 行列積の実装\n",
        "\n",
        "##【問題1】行列積を手計算する\n",
        "---\n",
        "AとBの行列積を手計算で解いてください。\n",
        "\n",
        "計算過程もマークダウンテキストを用いて説明してください。\n",
        "\n",
        "\\begin{eqnarray}\n",
        "A=\\left[\n",
        "\\begin{array}{ccc}\n",
        "-1 & 2 & 3 \\\\\n",
        "4 & -5 & 6 \\\\\n",
        "7 & 8 & -9 \\\\\n",
        "\\end{array}\n",
        "\\right], B=\\left[\n",
        "\\begin{array}{ccc}\n",
        "0 & 2 & 1 \\\\\n",
        "0 & 2 & -8 \\\\\n",
        "2 & 9 & -1 \\\\\n",
        "\\end{array}\n",
        "\\right]\n",
        "\\end{eqnarray}"
      ]
    },
    {
      "cell_type": "markdown",
      "metadata": {
        "id": "rQ-_DXu46vND"
      },
      "source": [
        "行列積の計算は、以下の行列で計算することができる。\n",
        "\n",
        "\\begin{eqnarray}\n",
        "\\left[\n",
        "\\begin{array}{ccc}\n",
        "a_{1} & a_{2} & a_{3} \\\\\n",
        "a_{4} & a_{5} & a_{6} \\\\\n",
        "a_{7} & a_{8} & a_{9} \\\\\n",
        "\\end{array}\n",
        "\\right]×\\left[\n",
        "\\begin{array}{ccc}\n",
        "b_{1} & b_{2} & b_{3} \\\\\n",
        "b_{4} & b_{5} & b_{6} \\\\\n",
        "b_{7} & b_{8} & b_{9} \\\\\n",
        "\\end{array}\n",
        "\\right] &=& \\left[\n",
        "\\begin{array}{ccc}\n",
        "a_{1}b_{1}+ a_{2}b_{4}+ a_{3}b_{7}& a_{1}b_{2}+ a_{2}b_{5}+ a_{3}b_{8} & a_{1}b_{3}+ a_{2}b_{6}+ a_{3}b_{9} \\\\\n",
        "a_{4}b_{1}+ a_{5}b_{4}+ a_{6}b_{7}& a_{4}b_{2}+ a_{5}b_{5}+ a_{6}b_{8} & a_{4}b_{3}+ a_{5}b_{6}+ a_{6}b_{9} \\\\\n",
        "a_{7}b_{1}+ a_{8}b_{4}+ a_{9}b_{7}& a_{7}b_{2}+ a_{8}b_{5}+ a_{9}b_{8} & a_{7}b_{3}+ a_{8}b_{6}+ a_{9}b_{9} \\\\\n",
        "\\end{array}\n",
        "\\right] \\\\\n",
        "&=& \\left[\n",
        "\\begin{array}{ccc}\n",
        "0+0+6& -2+4+27& -1+(-16)+(-3) \\\\\n",
        "0+0+12& 8+(-10)+54& 4+40+(-6) \\\\\n",
        "0+0+(-18)& 14+16+(-81)& 7+(-64)+9 \\\\\n",
        "\\end{array}\n",
        "\\right] \\\\\n",
        "&=& \\left[\n",
        "\\begin{array}{ccc}\n",
        "6& 29& -20 \\\\\n",
        "12& 52& 38 \\\\\n",
        "-18& -51& -48 \\\\\n",
        "\\end{array}\n",
        "\\right]\n",
        "\\end{eqnarray}"
      ]
    },
    {
      "cell_type": "markdown",
      "metadata": {
        "id": "1OglA36LKs7Y"
      },
      "source": [
        "## 【問題2】NumPyの関数による計算\n",
        "---\n",
        "この行列積はNumPyのnp.matmul()やnp.dot()、または@演算子を使うことで簡単に計算できます。\n",
        "\n",
        "これらを使い行列積を計算してください。"
      ]
    },
    {
      "cell_type": "code",
      "metadata": {
        "colab": {
          "base_uri": "https://localhost:8080/"
        },
        "id": "hr_rhqsA4Afp",
        "outputId": "49fa8348-c2ff-47a6-f028-fb857e72ee1c"
      },
      "source": [
        "import numpy as np\n",
        "a_ndarray = np.array([[-1, 2, 3], [4, -5, 6], [7, 8, -9]])\n",
        "b_ndarray = np.array([[0, 2, 1], [0, 2, -8], [2, 9, -1]])\n",
        "\n",
        "print(\"np.matmul()：\\n{}\".format( np.matmul(a_ndarray, b_ndarray) ))\n",
        "print(\"np.dot()：\\n{}\".format( np.dot(a_ndarray, b_ndarray) ))\n",
        "print(\"@演算子：\\n{}\".format( a_ndarray@b_ndarray ))"
      ],
      "execution_count": 93,
      "outputs": [
        {
          "output_type": "stream",
          "text": [
            "np.matmul()：\n",
            "[[  6  29 -20]\n",
            " [ 12  52  38]\n",
            " [-18 -51 -48]]\n",
            "np.dot()：\n",
            "[[  6  29 -20]\n",
            " [ 12  52  38]\n",
            " [-18 -51 -48]]\n",
            "@演算子：\n",
            "[[  6  29 -20]\n",
            " [ 12  52  38]\n",
            " [-18 -51 -48]]\n"
          ],
          "name": "stdout"
        }
      ]
    },
    {
      "cell_type": "markdown",
      "metadata": {
        "id": "pppEmQkMMmHG"
      },
      "source": [
        "## 【問題3】ある要素の計算を実装\n",
        "---\n",
        "手計算をする際はまず行列Aの0行目と行列Bの0列目に注目し、以下の計算を行ったかと思います。\n",
        "\n",
        "数式で表すと\n",
        "$$\\sum_{k=0}^{2}a_{0,k}b_{k,0}$$\n",
        "です。  \n",
        "<br>\n",
        "この計算を<font color=\"red\">np.matmul()</font>や<font color=\"red\">np.dot()</font>、または<font color=\"red\">@</font>演算子を使わずに行うコードを書いてください。"
      ]
    },
    {
      "cell_type": "code",
      "metadata": {
        "colab": {
          "base_uri": "https://localhost:8080/"
        },
        "id": "3bzMXXBwv9kP",
        "outputId": "d411672f-2612-445c-9e37-d4efe02b9d18"
      },
      "source": [
        "import numpy as np\n",
        "a_ndarray = np.array([[-1, 2, 3], [4, -5, 6], [7, 8, -9]])\n",
        "b_ndarray = np.array([[0, 2, 1], [0, 2, -8], [2, 9, -1]])\n",
        "\n",
        "# 計算結果をこのリストに格納する\n",
        "res_list = []\n",
        "temp = 0\n",
        "\n",
        "for i in range(3):\n",
        "  for j in range(3):\n",
        "    for k in range(3):\n",
        "      temp += a_ndarray[i, k] * b_ndarray[k, j]\n",
        "\n",
        "    res_list.append(temp)\n",
        "    temp = 0\n",
        "\n",
        "\n",
        "# リストをndarrayに変更し、形状を再設定する\n",
        "print(np.array(res_list).reshape(3, 3))\n"
      ],
      "execution_count": 94,
      "outputs": [
        {
          "output_type": "stream",
          "text": [
            "[[  6  29 -20]\n",
            " [ 12  52  38]\n",
            " [-18 -51 -48]]\n"
          ],
          "name": "stdout"
        }
      ]
    },
    {
      "cell_type": "markdown",
      "metadata": {
        "id": "4aOZdX67YwcP"
      },
      "source": [
        "## 【問題4】行列積を行う関数の作成\n",
        "---\n",
        "問題3のコードを拡張し、行列積のスクラッチ実装を完成させてください。行列AとBを引数に受け取り、行列積を返す関数としてください。"
      ]
    },
    {
      "cell_type": "code",
      "metadata": {
        "colab": {
          "base_uri": "https://localhost:8080/"
        },
        "id": "XSQKfpA5RzFW",
        "outputId": "8555fbb3-2376-4f94-ac6a-ff3b64c3906a"
      },
      "source": [
        "def calc_matrix_product(a_ndarray, b_ndarray):\n",
        "    '''行列積を行う関数\n",
        "    Parameteres\n",
        "    -----------\n",
        "    a_ndarray: 1つ目のndarrayデータ（ndarray型）\n",
        "    b_ndarray: 2つ目のndarrayデータ（ndarray型）\n",
        "\n",
        "    Returns\n",
        "    -------\n",
        "    res_ndarray : ndarray型\n",
        "        行列積を実行した結果のndarrayデータ\n",
        "    '''\n",
        "\n",
        "    import numpy as np\n",
        "\n",
        "    row = a_ndarray.shape[0]\n",
        "    col = b_ndarray.shape[1]\n",
        "\n",
        "    # 計算結果をこのリストに格納する\n",
        "    res_list = []\n",
        "\n",
        "    for i in range(row):\n",
        "      for j in range(col):\n",
        "        #a_ndarrayのi行目とb_ndarrayのj列目を掛け合わせ、その全ての要素を足した値をres_listに追加\n",
        "        res_list.append( (np.sum( a_ndarray[i, :] * b_ndarray[:, j] )) )\n",
        "\n",
        "    # listをndarrayに変換したし、形状を再設定したndarrayを返す\n",
        "    res_ndarray = np.array(res_list).reshape(row, col) \n",
        "    return res_ndarray\n",
        "\n",
        "\n",
        "######\n",
        "\n",
        "a_ndarray = np.array([[-1, 2, 3], [4, -5, 6], [7, 8, -9]])\n",
        "b_ndarray = np.array([[0, 2, 1], [0, 2, -8], [2, 9, -1]])\n",
        "\n",
        "print( calc_matrix_product(a_ndarray, b_ndarray) )"
      ],
      "execution_count": 95,
      "outputs": [
        {
          "output_type": "stream",
          "text": [
            "[[  6  29 -20]\n",
            " [ 12  52  38]\n",
            " [-18 -51 -48]]\n"
          ],
          "name": "stdout"
        }
      ]
    },
    {
      "cell_type": "markdown",
      "metadata": {
        "id": "LYJz-6cTpEzC"
      },
      "source": [
        "##【問題5】計算が定義されない入力を判定する\n",
        "---\n",
        "問題4で作成した関数は、実装方法によってはこのDとEの配列を入力しても動いてしまう可能性があります。この場合、不適切な計算が行われることになります。また、途中でエラーになる場合でも、なぜエラーになったかが直接的には分かりづらいメッセージが表示されます。\n",
        "\n",
        "if文などによってこれを防ぎ、入力される形に問題があることをprint()を使い表示するコードを書き加えてください。"
      ]
    },
    {
      "cell_type": "code",
      "metadata": {
        "colab": {
          "base_uri": "https://localhost:8080/"
        },
        "id": "pDVMNzDoZ8O4",
        "outputId": "164330f6-6de0-4d7c-c598-a156696e2e7a"
      },
      "source": [
        "def calc_matrix_product_with_check(a_ndarray, b_ndarray):\n",
        "    '''入力されたndarrayの形に問題があるかをチェックする。問題がある場合はエラーを表示し、問題がない場合は行列積を行う関数\n",
        "    Parameteres\n",
        "    -----------\n",
        "    a_ndarray: 1つ目のndarrayデータ（ndarray型）\n",
        "    b_ndarray: 2つ目のndarrayデータ（ndarray型）\n",
        "\n",
        "    Returns\n",
        "    -------\n",
        "    res_ndarray : ndarray型\n",
        "        行列積を実行した結果のndarrayデータ\n",
        "    '''\n",
        "\n",
        "    import numpy as np\n",
        "\n",
        "    # 行列積のマトリクスの形に問題があるかどうかをチェックする\n",
        "    # 左マトリックスの列数と右マトリックスの行数が等しくない場合は、計算ができないので、エラーメッセージを表示し、関数を終了する\n",
        "    if a_ndarray.shape[1] != b_ndarray.shape[0]:\n",
        "      print(\"インプットされた左マトリックスの列数と右マトリックスの行数が等しくないため、計算ができません。\")\n",
        "      return\n",
        "\n",
        "    row = a_ndarray.shape[0]\n",
        "    col = b_ndarray.shape[1]\n",
        "\n",
        "    # 計算結果をこのリストに格納する\n",
        "    res_list = []\n",
        "\n",
        "    for i in range(row):\n",
        "      for j in range(col):\n",
        "        #a_ndarrayのi行目とb_ndarrayのj列目を掛け合わせ、その全ての要素を足した値をres_listに追加\n",
        "        res_list.append( (np.sum( a_ndarray[i, :] * b_ndarray[:, j] )) )\n",
        "\n",
        "    # listをndarrayに変換したし、形状を再設定したndarrayを返す\n",
        "    return np.array(res_list).reshape(row, col)\n",
        "\n",
        "\n",
        "############\n",
        "\n",
        "d_ndarray = np.array([[-1, 2, 3], [4, -5, 6]])\n",
        "e_ndarray = np.array([[-9, 8, 7], [6, -5, 4]])\n",
        "\n",
        "print( calc_matrix_product_with_check(d_ndarray, e_ndarray) )\n"
      ],
      "execution_count": 96,
      "outputs": [
        {
          "output_type": "stream",
          "text": [
            "インプットされた左マトリックスの列数と右マトリックスの行数が等しくないため、計算ができません。\n",
            "None\n"
          ],
          "name": "stdout"
        }
      ]
    },
    {
      "cell_type": "markdown",
      "metadata": {
        "id": "8HXZfqr6t24f"
      },
      "source": [
        "## 【問題6】転置\n",
        "---\n",
        "片方の行列を転置することで、行列積が計算できるようになります。\n",
        "\n",
        "np.transpose()や.Tアトリビュートを用いて転置し、行列積を計算してください。"
      ]
    },
    {
      "cell_type": "code",
      "metadata": {
        "colab": {
          "base_uri": "https://localhost:8080/"
        },
        "id": "ZK3zgrC7cA9F",
        "outputId": "d1ee1548-0359-4c15-af05-065d413586dd"
      },
      "source": [
        "d_ndarray = np.array([[-1, 2, 3], [4, -5, 6]])\n",
        "e_ndarray = np.array([[-9, 8, 7], [6, -5, 4]]).T\n",
        "\n",
        "print( calc_matrix_product_with_check(d_ndarray, e_ndarray) )"
      ],
      "execution_count": 97,
      "outputs": [
        {
          "output_type": "stream",
          "text": [
            "[[ 46  -4]\n",
            " [-34  73]]\n"
          ],
          "name": "stdout"
        }
      ]
    },
    {
      "cell_type": "code",
      "metadata": {
        "colab": {
          "base_uri": "https://localhost:8080/"
        },
        "id": "mZtp54ySubkt",
        "outputId": "fb6a8cde-3b8d-4d0b-e62d-8723c7ebc06e"
      },
      "source": [
        "d_ndarray = np.array([[-1, 2, 3], [4, -5, 6]])\n",
        "e_ndarray = np.transpose( np.array([[-9, 8, 7], [6, -5, 4]]))\n",
        "\n",
        "print( calc_matrix_product_with_check(d_ndarray, e_ndarray) )"
      ],
      "execution_count": 98,
      "outputs": [
        {
          "output_type": "stream",
          "text": [
            "[[ 46  -4]\n",
            " [-34  73]]\n"
          ],
          "name": "stdout"
        }
      ]
    }
  ]
}