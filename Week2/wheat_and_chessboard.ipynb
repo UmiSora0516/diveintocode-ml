{
  "nbformat": 4,
  "nbformat_minor": 0,
  "metadata": {
    "colab": {
      "name": "wheat_and_chessboard.ipynb",
      "provenance": [],
      "collapsed_sections": []
    },
    "kernelspec": {
      "name": "python3",
      "display_name": "Python 3"
    },
    "language_info": {
      "name": "python"
    }
  },
  "cells": [
    {
      "cell_type": "markdown",
      "metadata": {
        "id": "kVgluOA3Qasr"
      },
      "source": [
        "# Week2 小麦とチェス盤問題\n",
        "## 【問題1】2×2マスのチェス盤の小麦の数\n",
        "---\n",
        "2×2マスのチェス盤をndarrayによって表現し、各マスの小麦の数を計算してください。左上のマスに小麦を1つ置いた後、その右が2つ、左下が4つ、右下が8つという風に進みます。\n"
      ]
    },
    {
      "cell_type": "code",
      "metadata": {
        "id": "GTbyIvJRRfdF",
        "colab": {
          "base_uri": "https://localhost:8080/"
        },
        "outputId": "a5b71f10-ddde-4ed8-987f-5514a6b70b89"
      },
      "source": [
        "import numpy as np\n",
        "\n",
        "# 2x2マスの小麦の数を計算し、最後に配列の形状を変更\n",
        "a = ( 2 ** np.arange(4) ).reshape(2, 2)\n",
        "\n",
        "#結果を出力\n",
        "print(\"2x2マスのチェス盤の小麦の数を表示：\\n{}\".format(a))\n"
      ],
      "execution_count": 96,
      "outputs": [
        {
          "output_type": "stream",
          "text": [
            "2x2マスのチェス盤の小麦の数を表示：\n",
            "[[1 2]\n",
            " [4 8]]\n"
          ],
          "name": "stdout"
        }
      ]
    },
    {
      "cell_type": "markdown",
      "metadata": {
        "id": "hSveYvdBSD3U"
      },
      "source": [
        "サンプルコードで作成したndarrayのshapeの変形を行ってください。\n"
      ]
    },
    {
      "cell_type": "code",
      "metadata": {
        "colab": {
          "base_uri": "https://localhost:8080/"
        },
        "id": "OkFFsqnOSKpI",
        "outputId": "8f7445a2-0b15-4a91-ec53-7b0ac6c2425f"
      },
      "source": [
        "# サンプルコード\n",
        "import numpy as np\n",
        "small_board_ndarray = np.array(small_board_list)\n",
        "print(\"4マスの板に小麦を並べる（ndarray）：{}\".format(small_board_ndarray))\n",
        "\n",
        "#shapeを変形\n",
        "new_ndarray = small_board_ndarray.reshape(2, 2)\n",
        "print(\"サンプルコードの配列の形状を2×2に変更した結果：\\n{}\".format(new_ndarray))\n"
      ],
      "execution_count": 97,
      "outputs": [
        {
          "output_type": "stream",
          "text": [
            "4マスの板に小麦を並べる（ndarray）：[1 2 4 8]\n",
            "サンプルコードの配列の形状を2×2に変更した結果：\n",
            "[[1 2]\n",
            " [4 8]]\n"
          ],
          "name": "stdout"
        }
      ]
    },
    {
      "cell_type": "markdown",
      "metadata": {
        "id": "O-PZ-huVaNSe"
      },
      "source": [
        "## 【問題2】n×mマスへの拡張\n",
        "---\n",
        "n×mマスのチェス盤の小麦の数を記したndarrayを返す関数を作成してください。そして、この関数を使い8×8マスのチェス盤の小麦の数を求めてください。"
      ]
    },
    {
      "cell_type": "code",
      "metadata": {
        "colab": {
          "base_uri": "https://localhost:8080/"
        },
        "id": "vPVmlIN8TY2A",
        "outputId": "baf5bcb2-05a9-4598-958a-95f05e672828"
      },
      "source": [
        "def create_chessboard(n_size, m_size):\n",
        "    '''指定されたnxmマスのチェス盤の小麦の数を記したndarrayを返す関数\n",
        "    Parameteres\n",
        "    -----------\n",
        "    n_size: 縦マス（行）の長さ（int型）\n",
        "    m_size: 横マス列）の長さ（int型）\n",
        "\n",
        "    Returns\n",
        "    -------\n",
        "    a_chessboard : ndarray型\n",
        "        指定されたnxmマスのチェス盤の小麦の数を記したndarray\n",
        "    '''\n",
        "\n",
        "    import numpy as np\n",
        "\n",
        "    #チェス盤のマスの総数\n",
        "    n_squares = n_size * m_size\n",
        "\n",
        "    # nxmマスの小麦の数を計算し、最後に配列の形状を変更\n",
        "    a_chessboard = (np.full(n_squares, 2, dtype='float64') ** range(n_squares)).reshape(n_size, m_size)\n",
        "\n",
        "    return a_chessboard\n",
        "\n",
        "##################\n",
        "\n",
        "# 上記の関数を使って、8x8マスのチェス盤の小麦の数を求める\n",
        "a_chessboard = create_chessboard(8, 8)\n",
        "print(\"8x8マスのチェス盤の小麦の数を表示：\\n{}\".format(a_chessboard))\n",
        "\n"
      ],
      "execution_count": 98,
      "outputs": [
        {
          "output_type": "stream",
          "text": [
            "8x8マスのチェス盤の小麦の数を表示：\n",
            "[[1.00000000e+00 2.00000000e+00 4.00000000e+00 8.00000000e+00\n",
            "  1.60000000e+01 3.20000000e+01 6.40000000e+01 1.28000000e+02]\n",
            " [2.56000000e+02 5.12000000e+02 1.02400000e+03 2.04800000e+03\n",
            "  4.09600000e+03 8.19200000e+03 1.63840000e+04 3.27680000e+04]\n",
            " [6.55360000e+04 1.31072000e+05 2.62144000e+05 5.24288000e+05\n",
            "  1.04857600e+06 2.09715200e+06 4.19430400e+06 8.38860800e+06]\n",
            " [1.67772160e+07 3.35544320e+07 6.71088640e+07 1.34217728e+08\n",
            "  2.68435456e+08 5.36870912e+08 1.07374182e+09 2.14748365e+09]\n",
            " [4.29496730e+09 8.58993459e+09 1.71798692e+10 3.43597384e+10\n",
            "  6.87194767e+10 1.37438953e+11 2.74877907e+11 5.49755814e+11]\n",
            " [1.09951163e+12 2.19902326e+12 4.39804651e+12 8.79609302e+12\n",
            "  1.75921860e+13 3.51843721e+13 7.03687442e+13 1.40737488e+14]\n",
            " [2.81474977e+14 5.62949953e+14 1.12589991e+15 2.25179981e+15\n",
            "  4.50359963e+15 9.00719925e+15 1.80143985e+16 3.60287970e+16]\n",
            " [7.20575940e+16 1.44115188e+17 2.88230376e+17 5.76460752e+17\n",
            "  1.15292150e+18 2.30584301e+18 4.61168602e+18 9.22337204e+18]]\n"
          ],
          "name": "stdout"
        }
      ]
    },
    {
      "cell_type": "markdown",
      "metadata": {
        "id": "2biBwdXP9EQI"
      },
      "source": [
        "## サンプルコードの方法でコーティングした場合："
      ]
    },
    {
      "cell_type": "code",
      "metadata": {
        "colab": {
          "base_uri": "https://localhost:8080/"
        },
        "id": "UQxbvNEP9RUf",
        "outputId": "745a766e-dd2f-4a96-d7b2-6125111b24b2"
      },
      "source": [
        "def create_chessboard_sample(n_size, m_size):\n",
        "    '''指定されたnxmマスのチェス盤の小麦の数を記したndarrayを返す関数\n",
        "    Parameteres\n",
        "    -----------\n",
        "    n_size: 縦マス（行）の長さ（int型）\n",
        "    m_size: 横マス列）の長さ（int型）\n",
        "\n",
        "    Returns\n",
        "    -------\n",
        "    a_chessboard : ndarray型\n",
        "        指定されたnxmマスのチェス盤の小麦の数を記したndarray\n",
        "    '''\n",
        "\n",
        "    import numpy as np\n",
        "\n",
        "    #チェス盤のマスの総数\n",
        "    n_squares = n_size * m_size\n",
        "    a_chessboard_list = [1]\n",
        "\n",
        "    for _ in range(n_squares -1):\n",
        "        a_chessboard_list.append( 2 * a_chessboard_list[-1] )\n",
        "\n",
        "    # リストをndarrayに変換する\n",
        "    a_chessboard = np.array(a_chessboard_list)\n",
        "\n",
        "    # 形状を変更して戻す\n",
        "    return a_chessboard.reshape(n_size, m_size)\n",
        "\n",
        "##################\n",
        "\n",
        "# 上記の関数を使って、8x8マスのチェス盤の小麦の数を求める\n",
        "a_chessboard = create_chessboard_sample(8, 8)\n",
        "print(\"8x8マスのチェス盤の小麦の数を表示：\\n{}\".format(a_chessboard))\n",
        "\n"
      ],
      "execution_count": 99,
      "outputs": [
        {
          "output_type": "stream",
          "text": [
            "8x8マスのチェス盤の小麦の数を表示：\n",
            "[[1.00000000e+00 2.00000000e+00 4.00000000e+00 8.00000000e+00\n",
            "  1.60000000e+01 3.20000000e+01 6.40000000e+01 1.28000000e+02]\n",
            " [2.56000000e+02 5.12000000e+02 1.02400000e+03 2.04800000e+03\n",
            "  4.09600000e+03 8.19200000e+03 1.63840000e+04 3.27680000e+04]\n",
            " [6.55360000e+04 1.31072000e+05 2.62144000e+05 5.24288000e+05\n",
            "  1.04857600e+06 2.09715200e+06 4.19430400e+06 8.38860800e+06]\n",
            " [1.67772160e+07 3.35544320e+07 6.71088640e+07 1.34217728e+08\n",
            "  2.68435456e+08 5.36870912e+08 1.07374182e+09 2.14748365e+09]\n",
            " [4.29496730e+09 8.58993459e+09 1.71798692e+10 3.43597384e+10\n",
            "  6.87194767e+10 1.37438953e+11 2.74877907e+11 5.49755814e+11]\n",
            " [1.09951163e+12 2.19902326e+12 4.39804651e+12 8.79609302e+12\n",
            "  1.75921860e+13 3.51843721e+13 7.03687442e+13 1.40737488e+14]\n",
            " [2.81474977e+14 5.62949953e+14 1.12589991e+15 2.25179981e+15\n",
            "  4.50359963e+15 9.00719925e+15 1.80143985e+16 3.60287970e+16]\n",
            " [7.20575940e+16 1.44115188e+17 2.88230376e+17 5.76460752e+17\n",
            "  1.15292150e+18 2.30584301e+18 4.61168602e+18 9.22337204e+18]]\n"
          ],
          "name": "stdout"
        }
      ]
    },
    {
      "cell_type": "markdown",
      "metadata": {
        "id": "K_m_t09LxrGE"
      },
      "source": [
        "##【問題3】小麦の数の合計\n",
        "---\n",
        "8×8マスのチェス盤の小麦の数の合計を求めてください。また、各列の平均を求め、それを棒グラフで可視化してください。\n"
      ]
    },
    {
      "cell_type": "code",
      "metadata": {
        "colab": {
          "base_uri": "https://localhost:8080/"
        },
        "id": "jy6wPu-w0wht",
        "outputId": "1e197609-e266-4ed6-ea0a-77a13c3273a2"
      },
      "source": [
        "print( \"8×8マスのチェス盤の小麦の数の合計: {}\".format( a_chessboard.sum() ))\n",
        "\n",
        "# axis=0オプションで列ごとの合計値を表示\n",
        "print(\"各列の平均：{}\".format( np.average(a_chessboard, axis=0) ))"
      ],
      "execution_count": 100,
      "outputs": [
        {
          "output_type": "stream",
          "text": [
            "8×8マスのチェス盤の小麦の数の合計: 1.8446744073709552e+19\n",
            "各列の平均：[9.04252160e+15 1.80850432e+16 3.61700864e+16 7.23401728e+16\n",
            " 1.44680346e+17 2.89360691e+17 5.78721383e+17 1.15744277e+18]\n"
          ],
          "name": "stdout"
        }
      ]
    },
    {
      "cell_type": "markdown",
      "metadata": {
        "id": "IQeSx37b66Go"
      },
      "source": [
        "### 棒グラフで可視化"
      ]
    },
    {
      "cell_type": "code",
      "metadata": {
        "colab": {
          "base_uri": "https://localhost:8080/",
          "height": 307
        },
        "id": "qRK6ZjnZvhMN",
        "outputId": "0e3463f6-273b-4686-d29e-dac18fb8a95c"
      },
      "source": [
        "import matplotlib.pyplot as plt\n",
        "%matplotlib inline\n",
        "plt.xlabel(\"column\", fontsize=15)\n",
        "plt.ylabel(\"number\", fontsize=15)\n",
        "plt.title(\"number in each column\", fontsize=15)\n",
        "plt.tick_params(labelsize=15)\n",
        "plt.bar(np.arange(1, 9), np.average(a_chessboard, axis=0))\n",
        "plt.show()"
      ],
      "execution_count": 101,
      "outputs": [
        {
          "output_type": "display_data",
          "data": {
            "image/png": "[encoded data removed]",
            "text/plain": [
              "<Figure size 432x288 with 1 Axes>"
            ]
          },
          "metadata": {
            "tags": [],
            "needs_background": "light"
          }
        }
      ]
    },
    {
      "cell_type": "markdown",
      "metadata": {
        "id": "vYGj4PpO8sUj"
      },
      "source": [
        "## 【問題4】小麦の数のヒートマップ\n",
        "---\n",
        "8×8マスのチェス盤の小麦の数をヒートマップとして可視化してください。\n",
        "\n",
        "値が小さいところが紫、大きいところが黄色になっています。\n"
      ]
    },
    {
      "cell_type": "code",
      "metadata": {
        "colab": {
          "base_uri": "https://localhost:8080/",
          "height": 307
        },
        "id": "ubswua4z9Z6K",
        "outputId": "dd328d4b-12ef-4357-ab73-c8a1a9980ef9"
      },
      "source": [
        "plt.xlabel(\"column\", fontsize=15)\n",
        "plt.ylabel(\"row\", fontsize=15)\n",
        "plt.title(\"heatmap\", fontsize=15)\n",
        "plt.tick_params(labelsize=15)\n",
        "plt.pcolor(a_chessboard)\n",
        "plt.show()"
      ],
      "execution_count": 102,
      "outputs": [
        {
          "output_type": "display_data",
          "data": {
            "image/png": "[encoded data removed]",
            "text/plain": [
              "<Figure size 432x288 with 1 Axes>"
            ]
          },
          "metadata": {
            "tags": [],
            "needs_background": "light"
          }
        }
      ]
    },
    {
      "cell_type": "markdown",
      "metadata": {
        "id": "HJMNKTYr_sCa"
      },
      "source": [
        "##【問題5】後半は前半の何倍か\n",
        "---\n",
        "チェス盤の後半にある小麦の数は前半にある小麦の数の何倍かを求めてください。前半とは配列の0から3行目、後半は4から7行目です。"
      ]
    },
    {
      "cell_type": "code",
      "metadata": {
        "colab": {
          "base_uri": "https://localhost:8080/"
        },
        "id": "WMfAFAIJ-uCP",
        "outputId": "43331636-78b6-4741-b9a3-9fbb60506644"
      },
      "source": [
        "# 前半の小麦の数\n",
        "sum_first_half  = a_chessboard[:4, :].sum()\n",
        "\n",
        "# 後半の小麦の数\n",
        "sum_second_half = a_chessboard[4:, :].sum()\n",
        "\n",
        "# 結果を出力\n",
        "print(\"後半にある小麦の数は前半にある小麦の数の{}倍である。\".format( sum_second_half/sum_first_half))\n",
        "\n"
      ],
      "execution_count": 103,
      "outputs": [
        {
          "output_type": "stream",
          "text": [
            "後半にある小麦の数は前半にある小麦の数の4294967296.0倍である。\n"
          ],
          "name": "stdout"
        }
      ]
    },
    {
      "cell_type": "markdown",
      "metadata": {
        "id": "Ywwd5qJS_eIH"
      },
      "source": [
        "## 【問題6】他の計算方法によるn×mマスへの拡張\n",
        "---\n",
        "問題2と同様の「n×mマスのチェス盤の小麦の数を記したndarrayを返す関数」を、np.append()を使ったものと、ブロードキャストを使ったもので新たに作成してください。\n",
        "\n",
        "それらの関数を使い8×8マスのチェス盤の小麦の数を再び求めてください。"
      ]
    },
    {
      "cell_type": "markdown",
      "metadata": {
        "id": "kzyYxi6Bm8YZ"
      },
      "source": [
        "### **<<np.append()>>を使った関数**"
      ]
    },
    {
      "cell_type": "code",
      "metadata": {
        "colab": {
          "base_uri": "https://localhost:8080/"
        },
        "id": "u_lWIOtbmJv3",
        "outputId": "26f49585-da0d-4998-ae3e-845c67e4b917"
      },
      "source": [
        "def create_chessboard_by_append(n_size, m_size):\n",
        "    '''np.append()を使って、指定されたnxmマスのチェス盤の小麦の数を記したndarrayを返す関数\n",
        "    Parameteres\n",
        "    -----------\n",
        "    n_size: 縦マス（行）の長さ（int型）\n",
        "    m_size: 横マス列）の長さ（int型）\n",
        "\n",
        "    Returns\n",
        "    -------\n",
        "    a_chessboard : ndarray型\n",
        "        指定されたnxmマスのチェス盤の小麦の数を記したndarray\n",
        "    '''\n",
        "\n",
        "\n",
        "    import numpy as np\n",
        "\n",
        "    #チェス盤のマスの総数\n",
        "    n_squares = n_size * m_size\n",
        "\n",
        "    a_chessboard = np.array([1])\n",
        "    for _ in range(n_squares - 1):\n",
        "        a_chessboard = np.append( a_chessboard, 2*a_chessboard[-1] ).astype(np.uint64)\n",
        "\n",
        "    # 形状を変更してndarrayを返す\n",
        "    return a_chessboard.reshape(n_size, m_size)\n",
        "\n",
        "##################\n",
        "\n",
        "# 上記の関数を使って、8x8マスのチェス盤の小麦の数を求める\n",
        "a_chessboard = create_chessboard_by_append(8, 8)\n",
        "print(\"8x8マスの板に小麦を並べる（ndarray）：\\n{}\".format(a_chessboard))"
      ],
      "execution_count": 104,
      "outputs": [
        {
          "output_type": "stream",
          "text": [
            "8x8マスの板に小麦を並べる（ndarray）：\n",
            "[[                  1                   2                   4\n",
            "                    8                  16                  32\n",
            "                   64                 128]\n",
            " [                256                 512                1024\n",
            "                 2048                4096                8192\n",
            "                16384               32768]\n",
            " [              65536              131072              262144\n",
            "               524288             1048576             2097152\n",
            "              4194304             8388608]\n",
            " [           16777216            33554432            67108864\n",
            "            134217728           268435456           536870912\n",
            "           1073741824          2147483648]\n",
            " [         4294967296          8589934592         17179869184\n",
            "          34359738368         68719476736        137438953472\n",
            "         274877906944        549755813888]\n",
            " [      1099511627776       2199023255552       4398046511104\n",
            "        8796093022208      17592186044416      35184372088832\n",
            "       70368744177664     140737488355328]\n",
            " [    281474976710656     562949953421312    1125899906842624\n",
            "     2251799813685248    4503599627370496    9007199254740992\n",
            "    18014398509481984   36028797018963968]\n",
            " [  72057594037927936  144115188075855872  288230376151711744\n",
            "   576460752303423488 1152921504606846976 2305843009213693952\n",
            "  4611686018427387904 9223372036854775808]]\n"
          ],
          "name": "stdout"
        }
      ]
    },
    {
      "cell_type": "markdown",
      "metadata": {
        "id": "xYM0k1NU3YzS"
      },
      "source": [
        "### **<<ブロードキャスト>>を使った関数**"
      ]
    },
    {
      "cell_type": "code",
      "metadata": {
        "colab": {
          "base_uri": "https://localhost:8080/"
        },
        "id": "kbdGITza2A0f",
        "outputId": "1516f444-a592-47c0-fdde-49e59f03a5da"
      },
      "source": [
        "def create_chessboard_by_broadcast(n_size, m_size):\n",
        "    '''ブロードキャストを使って、指定されたnxmマスのチェス盤の小麦の数を記したndarrayを返す関数\n",
        "    Parameteres\n",
        "    -----------\n",
        "    n_size: 縦マス（行）の長さ（int型）\n",
        "    m_size: 横マス列）の長さ（int型）\n",
        "\n",
        "    Returns\n",
        "    -------\n",
        "    a_chessboard : ndarray型\n",
        "        指定されたnxmマスのチェス盤の小麦の数を記したndarray\n",
        "    '''\n",
        "\n",
        "\n",
        "    import numpy as np\n",
        "\n",
        "    #チェス盤のマスの総数\n",
        "    n_squares = n_size * m_size\n",
        "    indices_of_squares = np.arange(n_squares).astype(np.uint64)\n",
        "    \n",
        "    a_chessboard = 2**indices_of_squares\n",
        "\n",
        "    # 形状を変更してndarrayを返す\n",
        "    return a_chessboard.reshape(n_size, m_size)\n",
        "\n",
        "##################\n",
        "\n",
        "# 上記の関数を使って、8x8マスのチェス盤の小麦の数を求める\n",
        "a_chessboard = create_chessboard_by_broadcast(8, 8)\n",
        "print(\"8x8マスの板に小麦を並べる（ndarray）：\\n{}\".format(a_chessboard))\n"
      ],
      "execution_count": 105,
      "outputs": [
        {
          "output_type": "stream",
          "text": [
            "8x8マスの板に小麦を並べる（ndarray）：\n",
            "[[                  1                   2                   4\n",
            "                    8                  16                  32\n",
            "                   64                 128]\n",
            " [                256                 512                1024\n",
            "                 2048                4096                8192\n",
            "                16384               32768]\n",
            " [              65536              131072              262144\n",
            "               524288             1048576             2097152\n",
            "              4194304             8388608]\n",
            " [           16777216            33554432            67108864\n",
            "            134217728           268435456           536870912\n",
            "           1073741824          2147483648]\n",
            " [         4294967296          8589934592         17179869184\n",
            "          34359738368         68719476736        137438953472\n",
            "         274877906944        549755813888]\n",
            " [      1099511627776       2199023255552       4398046511104\n",
            "        8796093022208      17592186044416      35184372088832\n",
            "       70368744177664     140737488355328]\n",
            " [    281474976710656     562949953421312    1125899906842624\n",
            "     2251799813685248    4503599627370496    9007199254740992\n",
            "    18014398509481984   36028797018963968]\n",
            " [  72057594037927936  144115188075855872  288230376151711744\n",
            "   576460752303423488 1152921504606846976 2305843009213693952\n",
            "  4611686018427387904 9223372036854775808]]\n"
          ],
          "name": "stdout"
        }
      ]
    },
    {
      "cell_type": "markdown",
      "metadata": {
        "id": "TaO-hhhbAJV2"
      },
      "source": [
        "## 【問題7】計算時間の比較\n",
        "---\n",
        "3種類の方法を見てきました。それぞれの計算時間をJupyter Notebookの%%timeitを用いて計測し、比較と考察を行ってください。\n",
        "\n",
        "%%timeitはセル内のコードを複数回実行し、その平均実行時間を出力する働きをします。"
      ]
    },
    {
      "cell_type": "markdown",
      "metadata": {
        "id": "gBKS_p10BbHn"
      },
      "source": [
        "## ①サンプルコード（リストとfor文を使用）"
      ]
    },
    {
      "cell_type": "code",
      "metadata": {
        "colab": {
          "base_uri": "https://localhost:8080/"
        },
        "id": "MRQDBod479UO",
        "outputId": "9332bcb5-41f9-4ca5-c7c0-b7ce4f698c66"
      },
      "source": [
        "%%timeit\n",
        "\n",
        "a_chessboard = create_chessboard_sample(8, 8)\n"
      ],
      "execution_count": 106,
      "outputs": [
        {
          "output_type": "stream",
          "text": [
            "The slowest run took 4.44 times longer than the fastest. This could mean that an intermediate result is being cached.\n",
            "10000 loops, best of 5: 18.7 µs per loop\n"
          ],
          "name": "stdout"
        }
      ]
    },
    {
      "cell_type": "markdown",
      "metadata": {
        "id": "IvKmAF5YBzvd"
      },
      "source": [
        "## ②np.append()"
      ]
    },
    {
      "cell_type": "code",
      "metadata": {
        "colab": {
          "base_uri": "https://localhost:8080/"
        },
        "id": "bE56o7ItBsSH",
        "outputId": "0363e425-4086-405a-b440-e3885407f382"
      },
      "source": [
        "%%timeit\n",
        "\n",
        "a_chessboard = create_chessboard_by_append(8, 8)\n"
      ],
      "execution_count": 107,
      "outputs": [
        {
          "output_type": "stream",
          "text": [
            "1000 loops, best of 5: 703 µs per loop\n"
          ],
          "name": "stdout"
        }
      ]
    },
    {
      "cell_type": "markdown",
      "metadata": {
        "id": "icuDmQSECBz8"
      },
      "source": [
        "## ③ブロードキャスト"
      ]
    },
    {
      "cell_type": "code",
      "metadata": {
        "colab": {
          "base_uri": "https://localhost:8080/"
        },
        "id": "OXnvVy5_B88f",
        "outputId": "99d73644-6947-47a6-d582-cb9b5214d904"
      },
      "source": [
        "%%timeit\n",
        "\n",
        "a_chessboard = create_chessboard_by_broadcast(8, 8)"
      ],
      "execution_count": 108,
      "outputs": [
        {
          "output_type": "stream",
          "text": [
            "The slowest run took 20.37 times longer than the fastest. This could mean that an intermediate result is being cached.\n",
            "100000 loops, best of 5: 4.43 µs per loop\n"
          ],
          "name": "stdout"
        }
      ]
    },
    {
      "cell_type": "markdown",
      "metadata": {
        "id": "s1ZDdxJhD-O0"
      },
      "source": [
        "##　計算時間を比較した結果：\n",
        "\n",
        "ブロードキャストを使用した関数の処理時間が一番早かった。  \n",
        "**ブロードキャスト＜サンプルコード＜np.append()**\n",
        "\n",
        "*   多次元配列の計算をする際には、NumPyのブロードキャストを使用することで高速な処理とコードがシンプルで読みやすいところがメリット。\n",
        "\n",
        "*   サンプルコードとnp.append()は、どちらもfor文とappendで要素を配列の最後に追加する方法だが、np.appendの方が処理が遅いことが分かった。\n"
      ]
    },
    {
      "cell_type": "code",
      "metadata": {
        "id": "5y7jklEjCJoo"
      },
      "source": [
        ""
      ],
      "execution_count": 108,
      "outputs": []
    }
  ]
}