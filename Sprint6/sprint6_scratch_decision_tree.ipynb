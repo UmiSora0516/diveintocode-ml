{
 "cells": [
  {
   "cell_type": "markdown",
   "metadata": {},
   "source": [
    "# Sprint6 決定木スクラッチ"
   ]
  },
  {
   "cell_type": "code",
   "execution_count": 601,
   "metadata": {},
   "outputs": [],
   "source": [
    "class ScratchDecesionTreeClassifierDepth1():\n",
    "    \"\"\"\n",
    "    深さ1の決定木分類器のスクラッチ実装\n",
    "    Parameters\n",
    "    ----------\n",
    "    verbose : bool\n",
    "      学習過程を出力する場合はTrue\n",
    "    \"\"\"\n",
    "    def __init__(self, verbose=False):\n",
    "        # ハイパーパラメータを属性として記録\n",
    "        self.verbose = verbose\n",
    "        \n",
    "        self.classes = None     # 分類クラス\n",
    "        self.l_node = []        # 子ノード(左)\n",
    "        self.r_node = []        # 子ノード(右)\n",
    "        self.threshold = None   # 閾値\n",
    "        self.best_gain = 0      # ベストな情報利得\n",
    "        self.left_class = None  # 左ノードのクラス\n",
    "        self.right_class = None # 右ノードのクラス\n",
    "        \n",
    "    \n",
    "    # 問題3\n",
    "    def fit(self, X, y):\n",
    "        \"\"\"\n",
    "        決定木分類器を学習する\n",
    "        Parameters\n",
    "        ----------\n",
    "        X : 次の形のndarray, shape (n_samples, n_features)\n",
    "            訓練データの特徴量\n",
    "        y : 次の形のndarray, shape (n_samples, )\n",
    "            訓練データの正解値\n",
    "        \"\"\"\n",
    "        if self.verbose:\n",
    "            #verboseをTrueにした際は学習過程を出力\n",
    "            print()\n",
    "        pass\n",
    "    \n",
    "        self.classes = set(y)  #分類クラス(0 or 1)\n",
    "\n",
    "        # サンプルデータを生成：　Xとｙデータを結合したもの\n",
    "        samples = np.c_[X, y]\n",
    "        \n",
    "        # 閾値をX1自体の値で全ての組み合わせを実施する\n",
    "        for val in X[:, 1]:\n",
    "            \n",
    "            #初期化\n",
    "            self.l_node = []\n",
    "            self.r_node = []\n",
    "            \n",
    "            threshold = val\n",
    "\n",
    "            for sample in samples:\n",
    "                if sample[1] <= threshold:\n",
    "                    self.l_node.append(sample)\n",
    "                else:\n",
    "                    self.r_node.append(sample)\n",
    "\n",
    "            # どちらかのノードが空の場合は、ジニ係数の計算は不要なので、次の分割処理を行う\n",
    "            if len(self.l_node) == 0 or len(self.r_node) == 0:\n",
    "                continue\n",
    "\n",
    "            l_gini = self._gini_impurity(np.array(self.l_node)[:, -1])\n",
    "            r_gini = self._gini_impurity(np.array(self.r_node)[:, -1])\n",
    "            gain = self._info_gain(np.array(self.l_node)[:, -1], np.array(self.r_node)[:, -1])\n",
    "\n",
    "            # 情報利得を更新（値が大きいほうが良い）\n",
    "            if gain > self.best_gain:\n",
    "                self.best_gain = gain\n",
    "                self.threshold = threshold\n",
    "                \n",
    "                #葉ノードのクラスを決める\n",
    "                class1_cnt = np.sum(np.array(self.l_node)[:, -1] == list(self.classes)[0])\n",
    "                class2_cnt = np.sum(np.array(self.l_node)[:, -1] == list(self.classes)[1])\n",
    "                \n",
    "                if class1_cnt >= class2_cnt:\n",
    "                    self.left_class = list(self.classes)[0]\n",
    "                    self.right_class = list(self.classes)[1]\n",
    "                else:\n",
    "                    self.left_class = list(self.classes)[1]\n",
    "                    self.right_class = list(self.classes)[0]\n",
    "                    \n",
    "    \n",
    "    # 問題4\n",
    "    def predict(self, X):\n",
    "        \"\"\"\n",
    "        決定木分類器を使いラベルを推定する\n",
    "        Parameters\n",
    "        ----------\n",
    "        X : 次の形のndarray, shape (n_samples, n_features)\n",
    "            サンプル\n",
    "        Returns\n",
    "        -------\n",
    "            次の形のndarray, shape (n_samples, 1)\n",
    "            決定木（深さ＝１）分類器による推定結果\n",
    "        \"\"\"\n",
    "        y_pred = X[:, 1]\n",
    "        \n",
    "        return np.where(y_pred <= self.threshold, self.left_class, self.right_class)\n",
    "    \n",
    "    \n",
    "    #問題1\n",
    "    def _gini_impurity(self, y):\n",
    "        \"\"\"\n",
    "        ノードのジニ不純度を計算する\n",
    "        Parameters\n",
    "        ----------\n",
    "        y : 次の形のndarray, shape (n_samples, n_features)\n",
    "            ノード\n",
    "        Returns\n",
    "        -------\n",
    "        gini： ジニ不純度  float\n",
    "        \"\"\"\n",
    "        \n",
    "        gini = 1\n",
    "        for _class in self.classes:\n",
    "            gini -= (len(y[y == _class]) / len(y))**2\n",
    "            \n",
    "        return gini\n",
    "    \n",
    "    \n",
    "    #問題2\n",
    "    def _info_gain(self, l_node, r_node):\n",
    "        \"\"\"\n",
    "        ノード間の情報利得を計算する\n",
    "        Parameters\n",
    "        ----------\n",
    "        l_node : 次の形のndarray, shape (n_samples, n_features)\n",
    "            左のノード\n",
    "        r_node : 次の形のndarray, shape (n_samples, n_features)\n",
    "            右のノード\n",
    "        Returns\n",
    "        -------\n",
    "        info_gain： 情報利得  float\n",
    "        \"\"\"\n",
    "        \n",
    "        p_node =  np.concatenate([l_node, r_node]) # 親ノード = leftノード　+ rightノード\n",
    "        I_left = self._gini_impurity(l_node)\n",
    "        I_right = self._gini_impurity(r_node)\n",
    "        I_p = self._gini_impurity(p_node)\n",
    "        \n",
    "        info_gain = I_p - (len(l_node)/len(p_node))*I_left - (len(r_node)/len(p_node))*I_right\n",
    "        \n",
    "        return info_gain\n",
    "    \n"
   ]
  },
  {
   "cell_type": "markdown",
   "metadata": {},
   "source": [
    "## 【問題1】不純度を求める関数\n",
    "---\n",
    "ノード の ジニ不純度 を計算する関数を作成してください。ノード t\n",
    "に対するジニ不純度 I(t)\n",
    "\n",
    "は以下の数式で求まります。クラスが混じり合っているほどジニ不純度は高くなります。\n",
    "$$\n",
    "I(t)=1−\\sum_{i=1}^{K}P^2(C_i|t)=1−\\sum_{i=1}^{K}(\\frac{N_{t,i}}{N_{t,all}})^2\n",
    "$$\n",
    "\n",
    "t: ノードのインデックス\n",
    "\n",
    "i: クラスのインデックス\n",
    "\n",
    "K: クラスの数\n",
    "\n",
    "Ci: i番目のクラス\n",
    "\n",
    "P(Ci|t):　t番目のノードにおけるCiの割合\n",
    "\n",
    "Nt,i: t番目のノードのi番目のクラスに属するサンプル数\n",
    "\n",
    "Nt,all: t番目のノードのサンプルの総数\n",
    "\n",
    "まずは簡単な例を作り、手計算と関数の結果を比較してください。\n",
    "\n",
    "《例》\n",
    "\n",
    "-    クラス1:サンプル数15, クラス2:サンプル数15 → ジニ不純度0.500\n",
    "-    クラス1:サンプル数15, クラス2:サンプル数15, クラス3:サンプル数15 → ジニ不純度0.667\n",
    "-    クラス1:サンプル数18, クラス2:サンプル数12 → ジニ不純度0.480\n",
    "-    クラス1:サンプル数30, クラス2:サンプル数0 → ジニ不純度0.000\n"
   ]
  },
  {
   "cell_type": "markdown",
   "metadata": {},
   "source": [
    "## 【問題2】情報利得を求める関数\n",
    "---\n",
    "次に、ノード間の 情報利得 を計算する関数を作成してください。問題1で作成したジニ不純度 I(t)\n",
    "を計算する関数を呼び出して使います。情報利得IG\n",
    "\n",
    "は以下の数式で求まります。うまく分けられている時ほど情報利得は大きくなります。\n",
    "\n",
    "ここで分岐は2つのみであるため、分岐先を「左側のノード・右側のノード」と呼びます。\n",
    "$$\n",
    "IG(p)=I(p)−\\frac{N_{left,all}}{N_{p,all}}I(left)−\\frac{N_{right,all}}{N_{p,all}}I(right)\n",
    "$$\n",
    "p: 親ノードを示すインデックス\n",
    "\n",
    "left: 左側のノードを示すインデックス\n",
    "\n",
    "right: 右側のノードを示すインデックス\n",
    "\n",
    "まずは簡単な例を作り、手計算と関数の結果を比較してください。\n",
    "\n",
    "《例》\n",
    "\n",
    "左ノードクラス1:サンプル数10, 左ノードクラス2:サンプル数30, 右ノードクラス1:サンプル数20, 右ノードクラス2:サンプル数5 → 情報利得0.143"
   ]
  },
  {
   "cell_type": "markdown",
   "metadata": {},
   "source": [
    ">## データセット"
   ]
  },
  {
   "cell_type": "code",
   "execution_count": 602,
   "metadata": {},
   "outputs": [
    {
     "data": {
      "image/png": "[encoded data removed]",
      "text/plain": [
       "<Figure size 504x360 with 1 Axes>"
      ]
     },
     "metadata": {
      "needs_background": "light"
     },
     "output_type": "display_data"
    }
   ],
   "source": [
    "import numpy as np\n",
    "X = np.array([\n",
    "    [-0.44699 , -2.8073  ],[-1.4621  , -2.4586  ],\n",
    "    [ 0.10645 ,  1.9242  ],[-3.5944  , -4.0112  ],\n",
    "    [-0.9888  ,  4.5718  ],[-3.1625  , -3.9606  ],\n",
    "    [ 0.56421 ,  0.72888 ],[-0.60216 ,  8.4636  ],\n",
    "    [-0.61251 , -0.75345 ],[-0.73535 , -2.2718  ],\n",
    "    [-0.80647 , -2.2135  ],[ 0.86291 ,  2.3946  ],\n",
    "    [-3.1108  ,  0.15394 ],[-2.9362  ,  2.5462  ],\n",
    "    [-0.57242 , -2.9915  ],[ 1.4771  ,  3.4896  ],\n",
    "    [ 0.58619 ,  0.37158 ],[ 0.6017  ,  4.3439  ],\n",
    "    [-2.1086  ,  8.3428  ],[-4.1013  , -4.353   ],\n",
    "    [-1.9948  , -1.3927  ],[ 0.35084 , -0.031994],\n",
    "    [ 0.96765 ,  7.8929  ],[-1.281   , 15.6824  ],\n",
    "    [ 0.96765 , 10.083   ],[ 1.3763  ,  1.3347  ],\n",
    "    [-2.234   , -2.5323  ],[-2.9452  , -1.8219  ],\n",
    "    [ 0.14654 , -0.28733 ],[ 0.5461  ,  5.8245  ],\n",
    "    [-0.65259 ,  9.3444  ],[ 0.59912 ,  5.3524  ],\n",
    "    [ 0.50214 , -0.31818 ],[-3.0603  , -3.6461  ],\n",
    "    [-6.6797  ,  0.67661 ],[-2.353   , -0.72261 ],\n",
    "    [ 1.1319  ,  2.4023  ],[-0.12243 ,  9.0162  ],\n",
    "    [-2.5677  , 13.1779  ],[ 0.057313,  5.4681  ],\n",
    "])\n",
    "y = np.array([0, 0, 0, 0, 0, 0, 0, 0, 0, 0, 0, 0, 0, 0, 0, 0, 0, 0, 0, 0, 1, 1,\n",
    "       1, 1, 1, 1, 1, 1, 1, 1, 1, 1, 1, 1, 1, 1, 1, 1, 1, 1])\n",
    "\n",
    "\n",
    "\n",
    "import matplotlib.pyplot as plt\n",
    "%matplotlib inline\n",
    "\n",
    "plt.rcParams['font.size'] = 15\n",
    "fig = plt.figure(figsize=(7,5))\n",
    "\n",
    "plt.title('Dataset')\n",
    "plt.xlabel('X1')\n",
    "plt.ylabel('X2')\n",
    "plt.scatter(X[:,0], X[:, 1] )\n",
    "# plt.scatter(X[250:,0], X[250:, 1] , label='1')\n",
    "\n",
    "# plt.legend()\n",
    "plt.tight_layout()\n",
    "plt.show()\n"
   ]
  },
  {
   "cell_type": "markdown",
   "metadata": {},
   "source": [
    "## 【問題3】学習\n",
    "---\n",
    "空間の分割を行い、決定木のグラフを生成するコードを作成してください。今は深さ1の決定木なので、分割を1回だけ行います。ここでグラフを生成するとは、1回の分割の際の条件としてどの特徴量がいくつ以上の時とするかを求めるということです。\n",
    "\n",
    "訓練データに対してすべての組み合わせの分割を行い、その中でノード間の情報利得が最大となる分割をそのノードの分割基準として記録します。\n",
    "\n",
    "クラスが混ざらない不純度が0のノード、または指定された深さのノードが 葉ノード となります。葉ノードにはクラスを記録しておき、これを推定時に分類するクラスとします。クラスが混ざらない場合はそのままのクラスを記録し、混ざっている場合は多数決により決めます。\n",
    "\n",
    "**《組み合わせの取り方》**\n",
    "\n",
    "すべての組み合わせの取り方は、最も単純には各特徴量の値自体をしきい値にして分割を行う方法があります。片側の端は今回のスクラッチはこの方法で行なってください。\n",
    "\n",
    "他には中間の値をしきい値にする方法もあり、scikit-learnではこの方法が用いられています。\n",
    "\n",
    "**《補足》**\n",
    "\n",
    "問題2の情報利得を計算する関数はこの問題3で利用する上では、親ノードの不純度 I(p)\n",
    "は固定されるため、左右のノードの不純度の合計を計算するだけでも同じ結果が得られることになります。しかし、ここでは親ノードを考慮した情報利得を計算する実装を行なってください。"
   ]
  },
  {
   "cell_type": "markdown",
   "metadata": {},
   "source": [
    "## 【問題4】推定\n",
    "---\n",
    "推定する仕組みを実装してください。ScratchDecesionTreeClassifierDepth1クラスの雛形に含まれるpredictメソッドに書き加えてください。\n",
    "\n",
    "入力されたデータの値を学習した条件で判定していき、どの葉ノードに到達するかを見ます。葉ノードにはクラスが記録されているので、これが推定値となります。"
   ]
  },
  {
   "cell_type": "code",
   "execution_count": 603,
   "metadata": {},
   "outputs": [],
   "source": [
    "def evaluate_performance_model(y_test_data, y_pred_data):\n",
    "    '''\n",
    "    検証データと推定したデータからAccuracy, Percision, Recall, F1の指標を計算する関数\n",
    "    Parameters:\n",
    "    --------------\n",
    "        y_test_data : ndarray型\n",
    "        検証データ\n",
    "        y_pred_data : ndarray型\n",
    "        推定データ\n",
    "    Returns:\n",
    "    --------------\n",
    "    None\n",
    "    '''\n",
    "    from sklearn.metrics import accuracy_score\n",
    "    from sklearn.metrics import precision_score\n",
    "    from sklearn.metrics import recall_score\n",
    "    from sklearn.metrics import f1_score\n",
    "    from sklearn.metrics import confusion_matrix\n",
    "    \n",
    "\n",
    "    # 4種類の指標を計算する\n",
    "\n",
    "    # Accuracy（正解率）\n",
    "    print('Accuracy: \\t%.2f' % accuracy_score(y_test_data, y_pred_data))\n",
    "\n",
    "    # Precision（適合率）\n",
    "    print('Precision: \\t%.2f' % precision_score(y_test_data, y_pred_data))\n",
    "\n",
    "    # Recall（再現率）\n",
    "    print('Recall: \\t%.2f' % recall_score(y_test_data, y_pred_data))\n",
    "\n",
    "    # F値\n",
    "    print('f1: \\t\\t%.2f' % f1_score(y_test_data, y_pred_data))\n",
    "    \n",
    "    # 混合行列\n",
    "    print('Confusion matrix:\\n{}'.format(confusion_matrix(y_test_data, y_pred_data)))"
   ]
  },
  {
   "cell_type": "markdown",
   "metadata": {},
   "source": [
    "## 【問題5】学習と推定\n",
    "---\n",
    "機械学習スクラッチ入門のSprintで用意したシンプルデータセット2の2値分類に対してスクラッチ実装の学習と推定を行なってください。\n",
    "\n",
    "scikit-learnによる実装と比べ、正しく動いているかを確認してください。\n",
    "\n",
    "AccuracyやPrecision、Recallなどの指標値はscikit-learnを使用してください。"
   ]
  },
  {
   "cell_type": "markdown",
   "metadata": {},
   "source": [
    ">### Scratch実装コード"
   ]
  },
  {
   "cell_type": "code",
   "execution_count": 604,
   "metadata": {},
   "outputs": [
    {
     "name": "stdout",
     "output_type": "stream",
     "text": [
      "Accuracy: \t0.58\n",
      "Precision: \t0.60\n",
      "Recall: \t0.50\n",
      "f1: \t\t0.55\n",
      "Confusion matrix:\n",
      "[[4 2]\n",
      " [3 3]]\n"
     ]
    }
   ],
   "source": [
    "from sklearn.model_selection import train_test_split\n",
    "from sklearn.metrics import accuracy_score\n",
    "\n",
    "# 訓練データと検証データの分割\n",
    "X_train, X_test, y_train, y_test = train_test_split(X, y, test_size=0.3, random_state=42, stratify=y)\n",
    "\n",
    "# SVMスクラッチのインスタンス\n",
    "num_iter = 500    # iterations\n",
    "lr = 0.005   # learning rate\n",
    "\n",
    "clf = ScratchDecesionTreeClassifierDepth1()\n",
    "clf.fit(X_train, y_train)\n",
    "y_pred = clf.predict(X_test)\n",
    "\n",
    "# 指標値\n",
    "evaluate_performance_model(y_test, y_pred)\n"
   ]
  },
  {
   "cell_type": "markdown",
   "metadata": {},
   "source": [
    ">### scikit-learnによる実装"
   ]
  },
  {
   "cell_type": "code",
   "execution_count": 605,
   "metadata": {},
   "outputs": [
    {
     "name": "stdout",
     "output_type": "stream",
     "text": [
      "Accuracy: \t0.67\n",
      "Precision: \t0.75\n",
      "Recall: \t0.50\n",
      "f1: \t\t0.60\n",
      "Confusion matrix:\n",
      "[[5 1]\n",
      " [3 3]]\n"
     ]
    }
   ],
   "source": [
    "from sklearn.tree import DecisionTreeClassifier\n",
    "from sklearn.model_selection import train_test_split\n",
    "from sklearn.metrics import accuracy_score\n",
    "\n",
    "tree_clf = DecisionTreeClassifier(max_depth=1)\n",
    "tree_clf.fit(X_train, y_train)\n",
    "y_pred = tree_clf.predict(X_test)\n",
    "\n",
    "# 4種類の指標を表示\n",
    "evaluate_performance_model(y_test, y_pred)"
   ]
  },
  {
   "cell_type": "markdown",
   "metadata": {},
   "source": [
    "## 【問題6】決定領域の可視化\n",
    "---\n",
    "決定領域を可視化してください。"
   ]
  },
  {
   "cell_type": "code",
   "execution_count": 606,
   "metadata": {},
   "outputs": [],
   "source": [
    "import matplotlib.pyplot as plt\n",
    "from matplotlib.colors import ListedColormap\n",
    "import matplotlib.patches as mpatches\n",
    "def decision_region(X, y, model, step=0.01, title='decision region', xlabel='xlabel', ylabel='ylabel', target_names=['versicolor', 'virginica']):\n",
    "    \"\"\"\n",
    "    2値分類を2次元の特徴量で学習したモデルの決定領域を描く。\n",
    "    背景の色が学習したモデルによる推定値から描画される。\n",
    "    散布図の点は訓練データまたは検証データである。\n",
    "    Parameters\n",
    "    ----------------\n",
    "    X : ndarray, shape(n_samples, 2)\n",
    "        特徴量\n",
    "    y : ndarray, shape(n_samples,)\n",
    "        ラベル\n",
    "    model : object\n",
    "        学習したモデルのインスンタスを入れる\n",
    "    step : float, (default : 0.01)\n",
    "        推定値を計算する間隔を設定する\n",
    "    title : str\n",
    "        グラフのタイトルの文章を与える\n",
    "    xlabel, ylabel : str\n",
    "        軸ラベルの文章を与える\n",
    "    target_names= : list of str\n",
    "        凡例の一覧を与える\n",
    "    \"\"\"\n",
    "    # setting\n",
    "    scatter_color = ['red', 'blue']\n",
    "    contourf_color = ['pink', 'skyblue']\n",
    "    n_class = 2\n",
    "\n",
    "    # pred\n",
    "    mesh_f0, mesh_f1  = np.meshgrid(np.arange(np.min(X[:,0])-0.5, np.max(X[:,0])+0.5, step), np.arange(np.min(X[:,1])-0.5, np.max(X[:,1])+0.5, step))\n",
    "    mesh = np.c_[np.ravel(mesh_f0),np.ravel(mesh_f1)]\n",
    "    y_pred = model.predict(mesh).reshape(mesh_f0.shape)\n",
    "    # plot\n",
    "    plt.title(title)\n",
    "    plt.xlabel(xlabel)\n",
    "    plt.ylabel(ylabel)\n",
    "    plt.contourf(mesh_f0, mesh_f1, y_pred, n_class-1, cmap=ListedColormap(contourf_color))\n",
    "    plt.contour(mesh_f0, mesh_f1, y_pred, n_class-1, colors='y', linewidths=3, alpha=0.5)\n",
    "    for i, target in enumerate(set(y)):\n",
    "        plt.scatter(X[y==target][:, 0], X[y==target][:, 1], s=80, color=scatter_color[i], label=target_names[i], marker='o')\n",
    "    patches = [mpatches.Patch(color=scatter_color[i], label=target_names[i]) for i in range(n_class)]\n",
    "    plt.legend(handles=patches)\n",
    "    plt.legend()\n",
    "    plt.show()\n"
   ]
  },
  {
   "cell_type": "markdown",
   "metadata": {},
   "source": [
    ">### Scratch実装"
   ]
  },
  {
   "cell_type": "code",
   "execution_count": 607,
   "metadata": {},
   "outputs": [
    {
     "data": {
      "image/png": "[encoded data removed]",
      "text/plain": [
       "<Figure size 432x288 with 1 Axes>"
      ]
     },
     "metadata": {
      "needs_background": "light"
     },
     "output_type": "display_data"
    }
   ],
   "source": [
    "#可視化: 訓練データ\n",
    "decision_region(X_train, y_train, clf, title='Decision Tree', xlabel='X1', ylabel='X2', target_names=['0', '1'])\n"
   ]
  },
  {
   "cell_type": "markdown",
   "metadata": {},
   "source": [
    ">### scikit-learnによる実装"
   ]
  },
  {
   "cell_type": "code",
   "execution_count": 608,
   "metadata": {},
   "outputs": [
    {
     "data": {
      "image/png": "[encoded data removed]",
      "text/plain": [
       "<Figure size 432x288 with 1 Axes>"
      ]
     },
     "metadata": {
      "needs_background": "light"
     },
     "output_type": "display_data"
    }
   ],
   "source": [
    "#可視化: 訓練データ\n",
    "decision_region(X_train, y_train, tree_clf, title='Decision Tree', xlabel='X1', ylabel='X2', target_names=['0', '1'])\n"
   ]
  },
  {
   "cell_type": "code",
   "execution_count": 609,
   "metadata": {},
   "outputs": [
    {
     "data": {
      "image/png": "[encoded data removed]",
      "text/plain": [
       "<IPython.core.display.Image object>"
      ]
     },
     "execution_count": 609,
     "metadata": {},
     "output_type": "execute_result"
    }
   ],
   "source": [
    "from sklearn.tree import export_graphviz\n",
    "import pydotplus\n",
    "from IPython.display import Image\n",
    "\n",
    "dot_data = export_graphviz(\n",
    "                tree_clf, \n",
    "                class_names=[\"0\", \"1\"],\n",
    "                feature_names=['X0','X1'], \n",
    "                filled=True,\n",
    "                rounded=True\n",
    "            )\n",
    "\n",
    "graph = pydotplus.graph_from_dot_data( dot_data )\n",
    "graph.write_png( './tree.png' )\n",
    "Image(graph.create_png())"
   ]
  }
 ],
 "metadata": {
  "kernelspec": {
   "display_name": "Python 3",
   "language": "python",
   "name": "python3"
  },
  "language_info": {
   "codemirror_mode": {
    "name": "ipython",
    "version": 3
   },
   "file_extension": ".py",
   "mimetype": "text/x-python",
   "name": "python",
   "nbconvert_exporter": "python",
   "pygments_lexer": "ipython3",
   "version": "3.7.4"
  }
 },
 "nbformat": 4,
 "nbformat_minor": 4
}
