{
 "cells": [
  {
   "cell_type": "markdown",
   "metadata": {
    "id": "PNwI7dEsiUgn"
   },
   "source": [
    "# Sprint19 U-net\n",
    "\n",
    "## 【問題1】学習・推定\n",
    "---\n",
    "以下のKeras実装を使用して学習・推定を行ってください。\n",
    "\n",
    "zhixuhao/unet: unet for image segmentation\n",
    "\n",
    "《GPU環境での学習》\n",
    "\n",
    "大規模なデータセット、大きなモデルになるため、GPUを使用する必要があります。\n",
    "\n",
    "《新たなデータセットの適用》\n",
    "\n",
    "公開されている実装で用意されたものとは異なるデータセットを入力するための準備が必要です。"
   ]
  },
  {
   "cell_type": "markdown",
   "metadata": {
    "id": "Myc7zgd9ie_c"
   },
   "source": [
    "## データセットの準備"
   ]
  },
  {
   "cell_type": "code",
   "execution_count": null,
   "metadata": {
    "id": "U_lBefboijHK"
   },
   "outputs": [],
   "source": [
    "import os\n",
    "import glob\n",
    "\n",
    "# リネーム\n",
    "path = \"./data/membrane/train/image\"\n",
    "\n",
    "files = glob.glob(path + '/*')\n",
    "files.sort()\n",
    "for i, f in enumerate(files):\n",
    "    name = \"image_\" + str(i) + \".png\"\n",
    "    os.rename(f, os.path.join(path, name))\n",
    "\n",
    "path = \"./data/membrane/train/label\"\n",
    "\n",
    "files = glob.glob(path + '/*')\n",
    "files.sort()\n",
    "for i, f in enumerate(files):\n",
    "    name = \"mask_\" + str(i) + \".png\"\n",
    "    os.rename(f, os.path.join(path, name))\n",
    "\n",
    "\n",
    "path = \"./data/membrane/test\"\n",
    "\n",
    "files = glob.glob(path + '/*')\n",
    "files.sort()\n",
    "for i, f in enumerate(files):\n",
    "    name = str(i) + \".png\"\n",
    "    os.rename(f, os.path.join(path, name))\n"
   ]
  },
  {
   "cell_type": "code",
   "execution_count": null,
   "metadata": {
    "id": "mg2wvRr2jW18"
   },
   "outputs": [],
   "source": [
    "# 解像度の変更\n",
    "\n",
    "from PIL import Image\n",
    "\n",
    "path = \"./data/membrane/train/image\"\n",
    "files = glob.glob(path + '/*')\n",
    "\n",
    "for file in files:\n",
    "    photo = Image.open(file)\n",
    "    photo_resize = photo.resize((256,256))\n",
    "    photo_resize.save(file)\n",
    "\n",
    "path = \"./data/membrane/train/label\"\n",
    "\n",
    "files = glob.glob(path + '/*')\n",
    "\n",
    "for file in files:\n",
    "    photo = Image.open(file)\n",
    "    photo_resize = photo.resize((256,256))\n",
    "    photo_resize.save(file)\n",
    "\n",
    "path = \"./data/membrane/test\"\n",
    "files = glob.glob(path + '/*')\n",
    "\n",
    "for file in files:\n",
    "    photo = Image.open(file)\n",
    "    photo_resize = photo.resize((256,256))\n",
    "    photo_resize.save(file)"
   ]
  },
  {
   "cell_type": "markdown",
   "metadata": {
    "id": "odP22shQj0Lq"
   },
   "source": [
    "## 実行するバージョンの変更"
   ]
  },
  {
   "cell_type": "code",
   "execution_count": 1,
   "metadata": {
    "colab": {
     "base_uri": "https://localhost:8080/"
    },
    "executionInfo": {
     "elapsed": 247,
     "status": "ok",
     "timestamp": 1631088366050,
     "user": {
      "displayName": "Kaneko Hirama",
      "photoUrl": "",
      "userId": "05746461546528988374"
     },
     "user_tz": -540
    },
    "id": "QcixDLCZNsl0",
    "outputId": "d51b1272-4186-475e-8ea0-7e55e483ad1a"
   },
   "outputs": [
    {
     "name": "stdout",
     "output_type": "stream",
     "text": [
      "/content/drive/MyDrive/Colab Notebooks/Sprint19/unet-master\n"
     ]
    }
   ],
   "source": [
    "%cd /content/drive/MyDrive/Colab Notebooks/Sprint19/unet-master"
   ]
  },
  {
   "cell_type": "code",
   "execution_count": 2,
   "metadata": {
    "colab": {
     "base_uri": "https://localhost:8080/"
    },
    "executionInfo": {
     "elapsed": 362,
     "status": "ok",
     "timestamp": 1631088368289,
     "user": {
      "displayName": "Kaneko Hirama",
      "photoUrl": "",
      "userId": "05746461546528988374"
     },
     "user_tz": -540
    },
    "id": "qWA97tEyOuu4",
    "outputId": "77eb2305-b64d-4114-8f2b-032043497d71"
   },
   "outputs": [
    {
     "name": "stdout",
     "output_type": "stream",
     "text": [
      "/content/drive/MyDrive/Colab Notebooks/Sprint19/unet-master\n"
     ]
    }
   ],
   "source": [
    "!pwd"
   ]
  },
  {
   "cell_type": "code",
   "execution_count": 4,
   "metadata": {
    "colab": {
     "base_uri": "https://localhost:8080/"
    },
    "executionInfo": {
     "elapsed": 5295,
     "status": "ok",
     "timestamp": 1631088443751,
     "user": {
      "displayName": "Kaneko Hirama",
      "photoUrl": "",
      "userId": "05746461546528988374"
     },
     "user_tz": -540
    },
    "id": "sDba3dSQOv5F",
    "outputId": "272b7a3f-4adf-4892-f2c2-056446d7b5cc"
   },
   "outputs": [
    {
     "name": "stdout",
     "output_type": "stream",
     "text": [
      "Collecting keras==2.1.5\n",
      "  Downloading Keras-2.1.5-py2.py3-none-any.whl (334 kB)\n",
      "\u001b[K     |████████████████████████████████| 334 kB 5.2 MB/s eta 0:00:01\n",
      "\u001b[?25hRequirement already satisfied: six>=1.9.0 in /usr/local/lib/python3.7/dist-packages (from keras==2.1.5) (1.15.0)\n",
      "Requirement already satisfied: pyyaml in /usr/local/lib/python3.7/dist-packages (from keras==2.1.5) (3.13)\n",
      "Requirement already satisfied: scipy>=0.14 in /usr/local/lib/python3.7/dist-packages (from keras==2.1.5) (1.4.1)\n",
      "Requirement already satisfied: numpy>=1.9.1 in /usr/local/lib/python3.7/dist-packages (from keras==2.1.5) (1.19.5)\n",
      "Installing collected packages: keras\n",
      "  Attempting uninstall: keras\n",
      "    Found existing installation: keras 2.6.0\n",
      "    Uninstalling keras-2.6.0:\n",
      "      Successfully uninstalled keras-2.6.0\n",
      "\u001b[31mERROR: pip's dependency resolver does not currently take into account all the packages that are installed. This behaviour is the source of the following dependency conflicts.\n",
      "tensorflow 2.6.0 requires keras~=2.6, but you have keras 2.1.5 which is incompatible.\u001b[0m\n",
      "Successfully installed keras-2.1.5\n"
     ]
    }
   ],
   "source": [
    "!pip install keras==2.1.5"
   ]
  },
  {
   "cell_type": "code",
   "execution_count": 5,
   "metadata": {
    "colab": {
     "base_uri": "https://localhost:8080/"
    },
    "executionInfo": {
     "elapsed": 70428,
     "status": "ok",
     "timestamp": 1631088518393,
     "user": {
      "displayName": "Kaneko Hirama",
      "photoUrl": "",
      "userId": "05746461546528988374"
     },
     "user_tz": -540
    },
    "id": "Mc9QxXEGSLnv",
    "outputId": "c40047fb-1a0b-4996-e2d2-68b75d769125"
   },
   "outputs": [
    {
     "name": "stdout",
     "output_type": "stream",
     "text": [
      "Collecting tensorflow==1.15\n",
      "  Downloading tensorflow-1.15.0-cp37-cp37m-manylinux2010_x86_64.whl (412.3 MB)\n",
      "\u001b[K     |████████████████████████████████| 412.3 MB 29 kB/s \n",
      "\u001b[?25hRequirement already satisfied: keras-preprocessing>=1.0.5 in /usr/local/lib/python3.7/dist-packages (from tensorflow==1.15) (1.1.2)\n",
      "Requirement already satisfied: numpy<2.0,>=1.16.0 in /usr/local/lib/python3.7/dist-packages (from tensorflow==1.15) (1.19.5)\n",
      "Requirement already satisfied: wrapt>=1.11.1 in /usr/local/lib/python3.7/dist-packages (from tensorflow==1.15) (1.12.1)\n",
      "Requirement already satisfied: google-pasta>=0.1.6 in /usr/local/lib/python3.7/dist-packages (from tensorflow==1.15) (0.2.0)\n",
      "Collecting gast==0.2.2\n",
      "  Downloading gast-0.2.2.tar.gz (10 kB)\n",
      "Requirement already satisfied: absl-py>=0.7.0 in /usr/local/lib/python3.7/dist-packages (from tensorflow==1.15) (0.12.0)\n",
      "Requirement already satisfied: astor>=0.6.0 in /usr/local/lib/python3.7/dist-packages (from tensorflow==1.15) (0.8.1)\n",
      "Collecting tensorboard<1.16.0,>=1.15.0\n",
      "  Downloading tensorboard-1.15.0-py3-none-any.whl (3.8 MB)\n",
      "\u001b[K     |████████████████████████████████| 3.8 MB 37.1 MB/s \n",
      "\u001b[?25hRequirement already satisfied: grpcio>=1.8.6 in /usr/local/lib/python3.7/dist-packages (from tensorflow==1.15) (1.39.0)\n",
      "Collecting tensorflow-estimator==1.15.1\n",
      "  Downloading tensorflow_estimator-1.15.1-py2.py3-none-any.whl (503 kB)\n",
      "\u001b[K     |████████████████████████████████| 503 kB 46.4 MB/s \n",
      "\u001b[?25hRequirement already satisfied: protobuf>=3.6.1 in /usr/local/lib/python3.7/dist-packages (from tensorflow==1.15) (3.17.3)\n",
      "Collecting keras-applications>=1.0.8\n",
      "  Downloading Keras_Applications-1.0.8-py3-none-any.whl (50 kB)\n",
      "\u001b[K     |████████████████████████████████| 50 kB 4.3 MB/s \n",
      "\u001b[?25hRequirement already satisfied: termcolor>=1.1.0 in /usr/local/lib/python3.7/dist-packages (from tensorflow==1.15) (1.1.0)\n",
      "Requirement already satisfied: wheel>=0.26 in /usr/local/lib/python3.7/dist-packages (from tensorflow==1.15) (0.37.0)\n",
      "Requirement already satisfied: six>=1.10.0 in /usr/local/lib/python3.7/dist-packages (from tensorflow==1.15) (1.15.0)\n",
      "Requirement already satisfied: opt-einsum>=2.3.2 in /usr/local/lib/python3.7/dist-packages (from tensorflow==1.15) (3.3.0)\n",
      "Requirement already satisfied: h5py in /usr/local/lib/python3.7/dist-packages (from keras-applications>=1.0.8->tensorflow==1.15) (3.1.0)\n",
      "Requirement already satisfied: markdown>=2.6.8 in /usr/local/lib/python3.7/dist-packages (from tensorboard<1.16.0,>=1.15.0->tensorflow==1.15) (3.3.4)\n",
      "Requirement already satisfied: werkzeug>=0.11.15 in /usr/local/lib/python3.7/dist-packages (from tensorboard<1.16.0,>=1.15.0->tensorflow==1.15) (1.0.1)\n",
      "Requirement already satisfied: setuptools>=41.0.0 in /usr/local/lib/python3.7/dist-packages (from tensorboard<1.16.0,>=1.15.0->tensorflow==1.15) (57.4.0)\n",
      "Requirement already satisfied: importlib-metadata in /usr/local/lib/python3.7/dist-packages (from markdown>=2.6.8->tensorboard<1.16.0,>=1.15.0->tensorflow==1.15) (4.6.4)\n",
      "Requirement already satisfied: cached-property in /usr/local/lib/python3.7/dist-packages (from h5py->keras-applications>=1.0.8->tensorflow==1.15) (1.5.2)\n",
      "Requirement already satisfied: zipp>=0.5 in /usr/local/lib/python3.7/dist-packages (from importlib-metadata->markdown>=2.6.8->tensorboard<1.16.0,>=1.15.0->tensorflow==1.15) (3.5.0)\n",
      "Requirement already satisfied: typing-extensions>=3.6.4 in /usr/local/lib/python3.7/dist-packages (from importlib-metadata->markdown>=2.6.8->tensorboard<1.16.0,>=1.15.0->tensorflow==1.15) (3.7.4.3)\n",
      "Building wheels for collected packages: gast\n",
      "  Building wheel for gast (setup.py) ... \u001b[?25l\u001b[?25hdone\n",
      "  Created wheel for gast: filename=gast-0.2.2-py3-none-any.whl size=7554 sha256=3547c66bc577985c83380da65bb6d1e71395a2886174343b6d82bc6ec49e1e34\n",
      "  Stored in directory: /root/.cache/pip/wheels/21/7f/02/420f32a803f7d0967b48dd823da3f558c5166991bfd204eef3\n",
      "Successfully built gast\n",
      "Installing collected packages: tensorflow-estimator, tensorboard, keras-applications, gast, tensorflow\n",
      "  Attempting uninstall: tensorflow-estimator\n",
      "    Found existing installation: tensorflow-estimator 2.6.0\n",
      "    Uninstalling tensorflow-estimator-2.6.0:\n",
      "      Successfully uninstalled tensorflow-estimator-2.6.0\n",
      "  Attempting uninstall: tensorboard\n",
      "    Found existing installation: tensorboard 2.6.0\n",
      "    Uninstalling tensorboard-2.6.0:\n",
      "      Successfully uninstalled tensorboard-2.6.0\n",
      "  Attempting uninstall: gast\n",
      "    Found existing installation: gast 0.4.0\n",
      "    Uninstalling gast-0.4.0:\n",
      "      Successfully uninstalled gast-0.4.0\n",
      "  Attempting uninstall: tensorflow\n",
      "    Found existing installation: tensorflow 2.6.0\n",
      "    Uninstalling tensorflow-2.6.0:\n",
      "      Successfully uninstalled tensorflow-2.6.0\n",
      "\u001b[31mERROR: pip's dependency resolver does not currently take into account all the packages that are installed. This behaviour is the source of the following dependency conflicts.\n",
      "tensorflow-probability 0.13.0 requires gast>=0.3.2, but you have gast 0.2.2 which is incompatible.\n",
      "kapre 0.3.5 requires tensorflow>=2.0.0, but you have tensorflow 1.15.0 which is incompatible.\u001b[0m\n",
      "Successfully installed gast-0.2.2 keras-applications-1.0.8 tensorboard-1.15.0 tensorflow-1.15.0 tensorflow-estimator-1.15.1\n"
     ]
    }
   ],
   "source": [
    "!pip install tensorflow==1.15"
   ]
  },
  {
   "cell_type": "markdown",
   "metadata": {
    "id": "4PvNb0ijkBB8"
   },
   "source": [
    "## 学習と推定"
   ]
  },
  {
   "cell_type": "code",
   "execution_count": 12,
   "metadata": {
    "colab": {
     "base_uri": "https://localhost:8080/"
    },
    "executionInfo": {
     "elapsed": 5570066,
     "status": "ok",
     "timestamp": 1631096499398,
     "user": {
      "displayName": "Kaneko Hirama",
      "photoUrl": "",
      "userId": "05746461546528988374"
     },
     "user_tz": -540
    },
    "id": "uEarQFH_TEMp",
    "outputId": "734ff54e-d346-4412-d8e9-a7af9e281808"
   },
   "outputs": [
    {
     "name": "stdout",
     "output_type": "stream",
     "text": [
      "Using TensorFlow backend.\n",
      "WARNING:tensorflow:From /usr/local/lib/python3.7/dist-packages/keras/backend/tensorflow_backend.py:68: The name tf.get_default_graph is deprecated. Please use tf.compat.v1.get_default_graph instead.\n",
      "\n",
      "WARNING:tensorflow:From /usr/local/lib/python3.7/dist-packages/keras/backend/tensorflow_backend.py:507: The name tf.placeholder is deprecated. Please use tf.compat.v1.placeholder instead.\n",
      "\n",
      "WARNING:tensorflow:From /usr/local/lib/python3.7/dist-packages/keras/backend/tensorflow_backend.py:3878: The name tf.truncated_normal is deprecated. Please use tf.random.truncated_normal instead.\n",
      "\n",
      "WARNING:tensorflow:From /usr/local/lib/python3.7/dist-packages/keras/backend/tensorflow_backend.py:3655: The name tf.nn.max_pool is deprecated. Please use tf.nn.max_pool2d instead.\n",
      "\n",
      "WARNING:tensorflow:From /usr/local/lib/python3.7/dist-packages/keras/backend/tensorflow_backend.py:126: The name tf.placeholder_with_default is deprecated. Please use tf.compat.v1.placeholder_with_default instead.\n",
      "\n",
      "WARNING:tensorflow:From /usr/local/lib/python3.7/dist-packages/keras/backend/tensorflow_backend.py:3138: calling dropout (from tensorflow.python.ops.nn_ops) with keep_prob is deprecated and will be removed in a future version.\n",
      "Instructions for updating:\n",
      "Please use `rate` instead of `keep_prob`. Rate should be set to `rate = 1 - keep_prob`.\n",
      "WARNING:tensorflow:From /usr/local/lib/python3.7/dist-packages/keras/backend/tensorflow_backend.py:1940: The name tf.image.resize_nearest_neighbor is deprecated. Please use tf.compat.v1.image.resize_nearest_neighbor instead.\n",
      "\n",
      "WARNING:tensorflow:From /usr/local/lib/python3.7/dist-packages/keras/backend/tensorflow_backend.py:3831: The name tf.random_uniform is deprecated. Please use tf.random.uniform instead.\n",
      "\n",
      "WARNING:tensorflow:From /usr/local/lib/python3.7/dist-packages/keras/optimizers.py:757: The name tf.train.Optimizer is deprecated. Please use tf.compat.v1.train.Optimizer instead.\n",
      "\n",
      "WARNING:tensorflow:From /usr/local/lib/python3.7/dist-packages/keras/backend/tensorflow_backend.py:3069: The name tf.log is deprecated. Please use tf.math.log instead.\n",
      "\n",
      "WARNING:tensorflow:From /usr/local/lib/python3.7/dist-packages/tensorflow_core/python/ops/nn_impl.py:183: where (from tensorflow.python.ops.array_ops) is deprecated and will be removed in a future version.\n",
      "Instructions for updating:\n",
      "Use tf.where in 2.0, which has the same broadcast rule as np.where\n",
      "WARNING:tensorflow:From /usr/local/lib/python3.7/dist-packages/keras/backend/tensorflow_backend.py:976: The name tf.assign_add is deprecated. Please use tf.compat.v1.assign_add instead.\n",
      "\n",
      "WARNING:tensorflow:From /usr/local/lib/python3.7/dist-packages/keras/backend/tensorflow_backend.py:963: The name tf.assign is deprecated. Please use tf.compat.v1.assign instead.\n",
      "\n",
      "WARNING:tensorflow:From /usr/local/lib/python3.7/dist-packages/keras/backend/tensorflow_backend.py:2499: The name tf.Session is deprecated. Please use tf.compat.v1.Session instead.\n",
      "\n",
      "Epoch 1/20\n",
      "Found 100 images belonging to 1 classes.\n",
      "Found 100 images belonging to 1 classes.\n",
      "WARNING:tensorflow:From /usr/local/lib/python3.7/dist-packages/keras/backend/tensorflow_backend.py:167: The name tf.get_default_session is deprecated. Please use tf.compat.v1.get_default_session instead.\n",
      "\n",
      "WARNING:tensorflow:From /usr/local/lib/python3.7/dist-packages/keras/backend/tensorflow_backend.py:174: The name tf.ConfigProto is deprecated. Please use tf.compat.v1.ConfigProto instead.\n",
      "\n",
      "2021-09-08 08:48:54.987278: I tensorflow/core/platform/cpu_feature_guard.cc:142] Your CPU supports instructions that this TensorFlow binary was not compiled to use: AVX2 FMA\n",
      "2021-09-08 08:48:54.994207: I tensorflow/core/platform/profile_utils/cpu_utils.cc:94] CPU Frequency: 2299995000 Hz\n",
      "2021-09-08 08:48:54.994500: I tensorflow/compiler/xla/service/service.cc:168] XLA service 0x55dc95586a00 initialized for platform Host (this does not guarantee that XLA will be used). Devices:\n",
      "2021-09-08 08:48:54.994542: I tensorflow/compiler/xla/service/service.cc:176]   StreamExecutor device (0): Host, Default Version\n",
      "2021-09-08 08:48:54.997344: I tensorflow/stream_executor/platform/default/dso_loader.cc:44] Successfully opened dynamic library libcuda.so.1\n",
      "2021-09-08 08:48:55.155402: I tensorflow/stream_executor/cuda/cuda_gpu_executor.cc:983] successful NUMA node read from SysFS had negative value (-1), but there must be at least one NUMA node, so returning NUMA node zero\n",
      "2021-09-08 08:48:55.156454: I tensorflow/compiler/xla/service/service.cc:168] XLA service 0x55dc95586f40 initialized for platform CUDA (this does not guarantee that XLA will be used). Devices:\n",
      "2021-09-08 08:48:55.156543: I tensorflow/compiler/xla/service/service.cc:176]   StreamExecutor device (0): Tesla K80, Compute Capability 3.7\n",
      "2021-09-08 08:48:55.156806: I tensorflow/stream_executor/cuda/cuda_gpu_executor.cc:983] successful NUMA node read from SysFS had negative value (-1), but there must be at least one NUMA node, so returning NUMA node zero\n",
      "2021-09-08 08:48:55.157747: I tensorflow/core/common_runtime/gpu/gpu_device.cc:1618] Found device 0 with properties: \n",
      "name: Tesla K80 major: 3 minor: 7 memoryClockRate(GHz): 0.8235\n",
      "pciBusID: 0000:00:04.0\n",
      "2021-09-08 08:48:55.158470: I tensorflow/stream_executor/platform/default/dso_loader.cc:44] Successfully opened dynamic library libcudart.so.10.0\n",
      "2021-09-08 08:48:55.163309: I tensorflow/stream_executor/platform/default/dso_loader.cc:44] Successfully opened dynamic library libcublas.so.10.0\n",
      "2021-09-08 08:48:55.166527: I tensorflow/stream_executor/platform/default/dso_loader.cc:44] Successfully opened dynamic library libcufft.so.10.0\n",
      "2021-09-08 08:48:55.167586: I tensorflow/stream_executor/platform/default/dso_loader.cc:44] Successfully opened dynamic library libcurand.so.10.0\n",
      "2021-09-08 08:48:55.171618: I tensorflow/stream_executor/platform/default/dso_loader.cc:44] Successfully opened dynamic library libcusolver.so.10.0\n",
      "2021-09-08 08:48:55.173279: I tensorflow/stream_executor/platform/default/dso_loader.cc:44] Successfully opened dynamic library libcusparse.so.10.0\n",
      "2021-09-08 08:48:55.179595: I tensorflow/stream_executor/platform/default/dso_loader.cc:44] Successfully opened dynamic library libcudnn.so.7\n",
      "2021-09-08 08:48:55.179754: I tensorflow/stream_executor/cuda/cuda_gpu_executor.cc:983] successful NUMA node read from SysFS had negative value (-1), but there must be at least one NUMA node, so returning NUMA node zero\n",
      "2021-09-08 08:48:55.180751: I tensorflow/stream_executor/cuda/cuda_gpu_executor.cc:983] successful NUMA node read from SysFS had negative value (-1), but there must be at least one NUMA node, so returning NUMA node zero\n",
      "2021-09-08 08:48:55.181607: I tensorflow/core/common_runtime/gpu/gpu_device.cc:1746] Adding visible gpu devices: 0\n",
      "2021-09-08 08:48:55.181708: I tensorflow/stream_executor/platform/default/dso_loader.cc:44] Successfully opened dynamic library libcudart.so.10.0\n",
      "2021-09-08 08:48:55.183315: I tensorflow/core/common_runtime/gpu/gpu_device.cc:1159] Device interconnect StreamExecutor with strength 1 edge matrix:\n",
      "2021-09-08 08:48:55.183357: I tensorflow/core/common_runtime/gpu/gpu_device.cc:1165]      0 \n",
      "2021-09-08 08:48:55.183380: I tensorflow/core/common_runtime/gpu/gpu_device.cc:1178] 0:   N \n",
      "2021-09-08 08:48:55.183582: I tensorflow/stream_executor/cuda/cuda_gpu_executor.cc:983] successful NUMA node read from SysFS had negative value (-1), but there must be at least one NUMA node, so returning NUMA node zero\n",
      "2021-09-08 08:48:55.184446: I tensorflow/stream_executor/cuda/cuda_gpu_executor.cc:983] successful NUMA node read from SysFS had negative value (-1), but there must be at least one NUMA node, so returning NUMA node zero\n",
      "2021-09-08 08:48:55.185344: W tensorflow/core/common_runtime/gpu/gpu_bfc_allocator.cc:39] Overriding allow_growth setting because the TF_FORCE_GPU_ALLOW_GROWTH environment variable is set. Original config value was 0.\n",
      "2021-09-08 08:48:55.185416: I tensorflow/core/common_runtime/gpu/gpu_device.cc:1304] Created TensorFlow device (/job:localhost/replica:0/task:0/device:GPU:0 with 10813 MB memory) -> physical GPU (device: 0, name: Tesla K80, pci bus id: 0000:00:04.0, compute capability: 3.7)\n",
      "WARNING:tensorflow:From /usr/local/lib/python3.7/dist-packages/keras/backend/tensorflow_backend.py:183: The name tf.global_variables is deprecated. Please use tf.compat.v1.global_variables instead.\n",
      "\n",
      "WARNING:tensorflow:From /usr/local/lib/python3.7/dist-packages/keras/backend/tensorflow_backend.py:192: The name tf.is_variable_initialized is deprecated. Please use tf.compat.v1.is_variable_initialized instead.\n",
      "\n",
      "WARNING:tensorflow:From /usr/local/lib/python3.7/dist-packages/keras/backend/tensorflow_backend.py:199: The name tf.variables_initializer is deprecated. Please use tf.compat.v1.variables_initializer instead.\n",
      "\n",
      "2021-09-08 08:48:58.214614: I tensorflow/stream_executor/platform/default/dso_loader.cc:44] Successfully opened dynamic library libcudnn.so.7\n",
      "2021-09-08 08:48:58.864874: I tensorflow/stream_executor/platform/default/dso_loader.cc:44] Successfully opened dynamic library libcublas.so.10.0\n",
      "300/300 [==============================] - 285s 950ms/step - loss: 0.6899 - acc: 0.7486\n",
      "\n",
      "Epoch 00001: loss improved from inf to 0.68988, saving model to unet_membrane.hdf5\n",
      "Epoch 2/20\n",
      "300/300 [==============================] - 275s 917ms/step - loss: 0.6836 - acc: 0.7496\n",
      "\n",
      "Epoch 00002: loss improved from 0.68988 to 0.68359, saving model to unet_membrane.hdf5\n",
      "Epoch 3/20\n",
      "300/300 [==============================] - 274s 914ms/step - loss: 0.6776 - acc: 0.7493\n",
      "\n",
      "Epoch 00003: loss improved from 0.68359 to 0.67760, saving model to unet_membrane.hdf5\n",
      "Epoch 4/20\n",
      "300/300 [==============================] - 273s 909ms/step - loss: 0.6718 - acc: 0.7498\n",
      "\n",
      "Epoch 00004: loss improved from 0.67760 to 0.67177, saving model to unet_membrane.hdf5\n",
      "Epoch 5/20\n",
      "300/300 [==============================] - 273s 910ms/step - loss: 0.6662 - acc: 0.7497\n",
      "\n",
      "Epoch 00005: loss improved from 0.67177 to 0.66622, saving model to unet_membrane.hdf5\n",
      "Epoch 6/20\n",
      "300/300 [==============================] - 273s 910ms/step - loss: 0.6610 - acc: 0.7491\n",
      "\n",
      "Epoch 00006: loss improved from 0.66622 to 0.66100, saving model to unet_membrane.hdf5\n",
      "Epoch 7/20\n",
      "300/300 [==============================] - 273s 910ms/step - loss: 0.6560 - acc: 0.7488\n",
      "\n",
      "Epoch 00007: loss improved from 0.66100 to 0.65598, saving model to unet_membrane.hdf5\n",
      "Epoch 8/20\n",
      "300/300 [==============================] - 273s 910ms/step - loss: 0.6511 - acc: 0.7490\n",
      "\n",
      "Epoch 00008: loss improved from 0.65598 to 0.65108, saving model to unet_membrane.hdf5\n",
      "Epoch 9/20\n",
      "300/300 [==============================] - 273s 910ms/step - loss: 0.6465 - acc: 0.7487\n",
      "\n",
      "Epoch 00009: loss improved from 0.65108 to 0.64649, saving model to unet_membrane.hdf5\n",
      "Epoch 10/20\n",
      "300/300 [==============================] - 273s 911ms/step - loss: 0.6418 - acc: 0.7497\n",
      "\n",
      "Epoch 00010: loss improved from 0.64649 to 0.64179, saving model to unet_membrane.hdf5\n",
      "Epoch 11/20\n",
      "300/300 [==============================] - 273s 910ms/step - loss: 0.6372 - acc: 0.7506\n",
      "\n",
      "Epoch 00011: loss improved from 0.64179 to 0.63724, saving model to unet_membrane.hdf5\n",
      "Epoch 12/20\n",
      "300/300 [==============================] - 273s 911ms/step - loss: 0.6335 - acc: 0.7490\n",
      "\n",
      "Epoch 00012: loss improved from 0.63724 to 0.63354, saving model to unet_membrane.hdf5\n",
      "Epoch 13/20\n",
      "300/300 [==============================] - 273s 911ms/step - loss: 0.6297 - acc: 0.7488\n",
      "\n",
      "Epoch 00013: loss improved from 0.63354 to 0.62968, saving model to unet_membrane.hdf5\n",
      "Epoch 14/20\n",
      "300/300 [==============================] - 273s 909ms/step - loss: 0.6258 - acc: 0.7494\n",
      "\n",
      "Epoch 00014: loss improved from 0.62968 to 0.62576, saving model to unet_membrane.hdf5\n",
      "Epoch 15/20\n",
      "300/300 [==============================] - 273s 909ms/step - loss: 0.6223 - acc: 0.7489\n",
      "\n",
      "Epoch 00015: loss improved from 0.62576 to 0.62231, saving model to unet_membrane.hdf5\n",
      "Epoch 16/20\n",
      "300/300 [==============================] - 273s 908ms/step - loss: 0.6189 - acc: 0.7489\n",
      "\n",
      "Epoch 00016: loss improved from 0.62231 to 0.61891, saving model to unet_membrane.hdf5\n",
      "Epoch 17/20\n",
      "300/300 [==============================] - 273s 909ms/step - loss: 0.6156 - acc: 0.7490\n",
      "\n",
      "Epoch 00017: loss improved from 0.61891 to 0.61563, saving model to unet_membrane.hdf5\n",
      "Epoch 18/20\n",
      "300/300 [==============================] - 273s 911ms/step - loss: 0.6127 - acc: 0.7485\n",
      "\n",
      "Epoch 00018: loss improved from 0.61563 to 0.61275, saving model to unet_membrane.hdf5\n",
      "Epoch 19/20\n",
      "300/300 [==============================] - 273s 910ms/step - loss: 0.6095 - acc: 0.7493\n",
      "\n",
      "Epoch 00019: loss improved from 0.61275 to 0.60951, saving model to unet_membrane.hdf5\n",
      "Epoch 20/20\n",
      "300/300 [==============================] - 272s 908ms/step - loss: 0.6069 - acc: 0.7489\n",
      "\n",
      "Epoch 00020: loss improved from 0.60951 to 0.60686, saving model to unet_membrane.hdf5\n",
      "30/30 [==============================] - 4s 130ms/step\n",
      "/content/drive/My Drive/Colab Notebooks/Sprint19/unet-master/data.py:126: UserWarning: data/membrane/result/0_predict.png is a low contrast image\n",
      "  io.imsave(os.path.join(save_path,\"%d_predict.png\"%i),img_as_ubyte(img))\n",
      "/content/drive/My Drive/Colab Notebooks/Sprint19/unet-master/data.py:126: UserWarning: data/membrane/result/1_predict.png is a low contrast image\n",
      "  io.imsave(os.path.join(save_path,\"%d_predict.png\"%i),img_as_ubyte(img))\n",
      "/content/drive/My Drive/Colab Notebooks/Sprint19/unet-master/data.py:126: UserWarning: data/membrane/result/2_predict.png is a low contrast image\n",
      "  io.imsave(os.path.join(save_path,\"%d_predict.png\"%i),img_as_ubyte(img))\n",
      "/content/drive/My Drive/Colab Notebooks/Sprint19/unet-master/data.py:126: UserWarning: data/membrane/result/3_predict.png is a low contrast image\n",
      "  io.imsave(os.path.join(save_path,\"%d_predict.png\"%i),img_as_ubyte(img))\n",
      "/content/drive/My Drive/Colab Notebooks/Sprint19/unet-master/data.py:126: UserWarning: data/membrane/result/4_predict.png is a low contrast image\n",
      "  io.imsave(os.path.join(save_path,\"%d_predict.png\"%i),img_as_ubyte(img))\n",
      "/content/drive/My Drive/Colab Notebooks/Sprint19/unet-master/data.py:126: UserWarning: data/membrane/result/5_predict.png is a low contrast image\n",
      "  io.imsave(os.path.join(save_path,\"%d_predict.png\"%i),img_as_ubyte(img))\n",
      "/content/drive/My Drive/Colab Notebooks/Sprint19/unet-master/data.py:126: UserWarning: data/membrane/result/6_predict.png is a low contrast image\n",
      "  io.imsave(os.path.join(save_path,\"%d_predict.png\"%i),img_as_ubyte(img))\n",
      "/content/drive/My Drive/Colab Notebooks/Sprint19/unet-master/data.py:126: UserWarning: data/membrane/result/7_predict.png is a low contrast image\n",
      "  io.imsave(os.path.join(save_path,\"%d_predict.png\"%i),img_as_ubyte(img))\n",
      "/content/drive/My Drive/Colab Notebooks/Sprint19/unet-master/data.py:126: UserWarning: data/membrane/result/8_predict.png is a low contrast image\n",
      "  io.imsave(os.path.join(save_path,\"%d_predict.png\"%i),img_as_ubyte(img))\n",
      "/content/drive/My Drive/Colab Notebooks/Sprint19/unet-master/data.py:126: UserWarning: data/membrane/result/9_predict.png is a low contrast image\n",
      "  io.imsave(os.path.join(save_path,\"%d_predict.png\"%i),img_as_ubyte(img))\n",
      "/content/drive/My Drive/Colab Notebooks/Sprint19/unet-master/data.py:126: UserWarning: data/membrane/result/10_predict.png is a low contrast image\n",
      "  io.imsave(os.path.join(save_path,\"%d_predict.png\"%i),img_as_ubyte(img))\n",
      "/content/drive/My Drive/Colab Notebooks/Sprint19/unet-master/data.py:126: UserWarning: data/membrane/result/11_predict.png is a low contrast image\n",
      "  io.imsave(os.path.join(save_path,\"%d_predict.png\"%i),img_as_ubyte(img))\n",
      "/content/drive/My Drive/Colab Notebooks/Sprint19/unet-master/data.py:126: UserWarning: data/membrane/result/12_predict.png is a low contrast image\n",
      "  io.imsave(os.path.join(save_path,\"%d_predict.png\"%i),img_as_ubyte(img))\n",
      "/content/drive/My Drive/Colab Notebooks/Sprint19/unet-master/data.py:126: UserWarning: data/membrane/result/13_predict.png is a low contrast image\n",
      "  io.imsave(os.path.join(save_path,\"%d_predict.png\"%i),img_as_ubyte(img))\n",
      "/content/drive/My Drive/Colab Notebooks/Sprint19/unet-master/data.py:126: UserWarning: data/membrane/result/14_predict.png is a low contrast image\n",
      "  io.imsave(os.path.join(save_path,\"%d_predict.png\"%i),img_as_ubyte(img))\n",
      "/content/drive/My Drive/Colab Notebooks/Sprint19/unet-master/data.py:126: UserWarning: data/membrane/result/15_predict.png is a low contrast image\n",
      "  io.imsave(os.path.join(save_path,\"%d_predict.png\"%i),img_as_ubyte(img))\n",
      "/content/drive/My Drive/Colab Notebooks/Sprint19/unet-master/data.py:126: UserWarning: data/membrane/result/16_predict.png is a low contrast image\n",
      "  io.imsave(os.path.join(save_path,\"%d_predict.png\"%i),img_as_ubyte(img))\n",
      "/content/drive/My Drive/Colab Notebooks/Sprint19/unet-master/data.py:126: UserWarning: data/membrane/result/17_predict.png is a low contrast image\n",
      "  io.imsave(os.path.join(save_path,\"%d_predict.png\"%i),img_as_ubyte(img))\n",
      "/content/drive/My Drive/Colab Notebooks/Sprint19/unet-master/data.py:126: UserWarning: data/membrane/result/18_predict.png is a low contrast image\n",
      "  io.imsave(os.path.join(save_path,\"%d_predict.png\"%i),img_as_ubyte(img))\n",
      "/content/drive/My Drive/Colab Notebooks/Sprint19/unet-master/data.py:126: UserWarning: data/membrane/result/19_predict.png is a low contrast image\n",
      "  io.imsave(os.path.join(save_path,\"%d_predict.png\"%i),img_as_ubyte(img))\n",
      "/content/drive/My Drive/Colab Notebooks/Sprint19/unet-master/data.py:126: UserWarning: data/membrane/result/20_predict.png is a low contrast image\n",
      "  io.imsave(os.path.join(save_path,\"%d_predict.png\"%i),img_as_ubyte(img))\n",
      "/content/drive/My Drive/Colab Notebooks/Sprint19/unet-master/data.py:126: UserWarning: data/membrane/result/21_predict.png is a low contrast image\n",
      "  io.imsave(os.path.join(save_path,\"%d_predict.png\"%i),img_as_ubyte(img))\n",
      "/content/drive/My Drive/Colab Notebooks/Sprint19/unet-master/data.py:126: UserWarning: data/membrane/result/22_predict.png is a low contrast image\n",
      "  io.imsave(os.path.join(save_path,\"%d_predict.png\"%i),img_as_ubyte(img))\n",
      "/content/drive/My Drive/Colab Notebooks/Sprint19/unet-master/data.py:126: UserWarning: data/membrane/result/23_predict.png is a low contrast image\n",
      "  io.imsave(os.path.join(save_path,\"%d_predict.png\"%i),img_as_ubyte(img))\n",
      "/content/drive/My Drive/Colab Notebooks/Sprint19/unet-master/data.py:126: UserWarning: data/membrane/result/24_predict.png is a low contrast image\n",
      "  io.imsave(os.path.join(save_path,\"%d_predict.png\"%i),img_as_ubyte(img))\n",
      "/content/drive/My Drive/Colab Notebooks/Sprint19/unet-master/data.py:126: UserWarning: data/membrane/result/25_predict.png is a low contrast image\n",
      "  io.imsave(os.path.join(save_path,\"%d_predict.png\"%i),img_as_ubyte(img))\n",
      "/content/drive/My Drive/Colab Notebooks/Sprint19/unet-master/data.py:126: UserWarning: data/membrane/result/26_predict.png is a low contrast image\n",
      "  io.imsave(os.path.join(save_path,\"%d_predict.png\"%i),img_as_ubyte(img))\n",
      "/content/drive/My Drive/Colab Notebooks/Sprint19/unet-master/data.py:126: UserWarning: data/membrane/result/27_predict.png is a low contrast image\n",
      "  io.imsave(os.path.join(save_path,\"%d_predict.png\"%i),img_as_ubyte(img))\n",
      "/content/drive/My Drive/Colab Notebooks/Sprint19/unet-master/data.py:126: UserWarning: data/membrane/result/28_predict.png is a low contrast image\n",
      "  io.imsave(os.path.join(save_path,\"%d_predict.png\"%i),img_as_ubyte(img))\n",
      "/content/drive/My Drive/Colab Notebooks/Sprint19/unet-master/data.py:126: UserWarning: data/membrane/result/29_predict.png is a low contrast image\n",
      "  io.imsave(os.path.join(save_path,\"%d_predict.png\"%i),img_as_ubyte(img))\n"
     ]
    }
   ],
   "source": [
    "!python main.py"
   ]
  },
  {
   "cell_type": "code",
   "execution_count": 16,
   "metadata": {
    "colab": {
     "base_uri": "https://localhost:8080/"
    },
    "executionInfo": {
     "elapsed": 422978,
     "status": "ok",
     "timestamp": 1631099070955,
     "user": {
      "displayName": "Kaneko Hirama",
      "photoUrl": "",
      "userId": "05746461546528988374"
     },
     "user_tz": -540
    },
    "id": "PBzqEBn68Jhz",
    "outputId": "22dc4a98-5015-48c0-e8d3-c961f517ed80"
   },
   "outputs": [
    {
     "name": "stdout",
     "output_type": "stream",
     "text": [
      "Using TensorFlow backend.\n",
      "WARNING:tensorflow:From /usr/local/lib/python3.7/dist-packages/keras/backend/tensorflow_backend.py:68: The name tf.get_default_graph is deprecated. Please use tf.compat.v1.get_default_graph instead.\n",
      "\n",
      "WARNING:tensorflow:From /usr/local/lib/python3.7/dist-packages/keras/backend/tensorflow_backend.py:507: The name tf.placeholder is deprecated. Please use tf.compat.v1.placeholder instead.\n",
      "\n",
      "WARNING:tensorflow:From /usr/local/lib/python3.7/dist-packages/keras/backend/tensorflow_backend.py:3878: The name tf.truncated_normal is deprecated. Please use tf.random.truncated_normal instead.\n",
      "\n",
      "WARNING:tensorflow:From /usr/local/lib/python3.7/dist-packages/keras/backend/tensorflow_backend.py:3655: The name tf.nn.max_pool is deprecated. Please use tf.nn.max_pool2d instead.\n",
      "\n",
      "WARNING:tensorflow:From /usr/local/lib/python3.7/dist-packages/keras/backend/tensorflow_backend.py:126: The name tf.placeholder_with_default is deprecated. Please use tf.compat.v1.placeholder_with_default instead.\n",
      "\n",
      "WARNING:tensorflow:From /usr/local/lib/python3.7/dist-packages/keras/backend/tensorflow_backend.py:3138: calling dropout (from tensorflow.python.ops.nn_ops) with keep_prob is deprecated and will be removed in a future version.\n",
      "Instructions for updating:\n",
      "Please use `rate` instead of `keep_prob`. Rate should be set to `rate = 1 - keep_prob`.\n",
      "WARNING:tensorflow:From /usr/local/lib/python3.7/dist-packages/keras/backend/tensorflow_backend.py:1940: The name tf.image.resize_nearest_neighbor is deprecated. Please use tf.compat.v1.image.resize_nearest_neighbor instead.\n",
      "\n",
      "WARNING:tensorflow:From /usr/local/lib/python3.7/dist-packages/keras/backend/tensorflow_backend.py:3831: The name tf.random_uniform is deprecated. Please use tf.random.uniform instead.\n",
      "\n",
      "WARNING:tensorflow:From /usr/local/lib/python3.7/dist-packages/keras/optimizers.py:757: The name tf.train.Optimizer is deprecated. Please use tf.compat.v1.train.Optimizer instead.\n",
      "\n",
      "WARNING:tensorflow:From /usr/local/lib/python3.7/dist-packages/keras/backend/tensorflow_backend.py:3069: The name tf.log is deprecated. Please use tf.math.log instead.\n",
      "\n",
      "WARNING:tensorflow:From /usr/local/lib/python3.7/dist-packages/tensorflow_core/python/ops/nn_impl.py:183: where (from tensorflow.python.ops.array_ops) is deprecated and will be removed in a future version.\n",
      "Instructions for updating:\n",
      "Use tf.where in 2.0, which has the same broadcast rule as np.where\n",
      "WARNING:tensorflow:From /usr/local/lib/python3.7/dist-packages/keras/backend/tensorflow_backend.py:976: The name tf.assign_add is deprecated. Please use tf.compat.v1.assign_add instead.\n",
      "\n",
      "WARNING:tensorflow:From /usr/local/lib/python3.7/dist-packages/keras/backend/tensorflow_backend.py:963: The name tf.assign is deprecated. Please use tf.compat.v1.assign instead.\n",
      "\n",
      "WARNING:tensorflow:From /usr/local/lib/python3.7/dist-packages/keras/backend/tensorflow_backend.py:2499: The name tf.Session is deprecated. Please use tf.compat.v1.Session instead.\n",
      "\n",
      "Epoch 1/3\n",
      "Found 30 images belonging to 1 classes.\n",
      "Found 30 images belonging to 1 classes.\n",
      "WARNING:tensorflow:From /usr/local/lib/python3.7/dist-packages/keras/backend/tensorflow_backend.py:167: The name tf.get_default_session is deprecated. Please use tf.compat.v1.get_default_session instead.\n",
      "\n",
      "WARNING:tensorflow:From /usr/local/lib/python3.7/dist-packages/keras/backend/tensorflow_backend.py:174: The name tf.ConfigProto is deprecated. Please use tf.compat.v1.ConfigProto instead.\n",
      "\n",
      "2021-09-08 10:57:33.064289: I tensorflow/core/platform/cpu_feature_guard.cc:142] Your CPU supports instructions that this TensorFlow binary was not compiled to use: AVX2 FMA\n",
      "2021-09-08 10:57:33.070539: I tensorflow/core/platform/profile_utils/cpu_utils.cc:94] CPU Frequency: 2299995000 Hz\n",
      "2021-09-08 10:57:33.070827: I tensorflow/compiler/xla/service/service.cc:168] XLA service 0x55aa86baca00 initialized for platform Host (this does not guarantee that XLA will be used). Devices:\n",
      "2021-09-08 10:57:33.070865: I tensorflow/compiler/xla/service/service.cc:176]   StreamExecutor device (0): Host, Default Version\n",
      "2021-09-08 10:57:33.073573: I tensorflow/stream_executor/platform/default/dso_loader.cc:44] Successfully opened dynamic library libcuda.so.1\n",
      "2021-09-08 10:57:33.246464: I tensorflow/stream_executor/cuda/cuda_gpu_executor.cc:983] successful NUMA node read from SysFS had negative value (-1), but there must be at least one NUMA node, so returning NUMA node zero\n",
      "2021-09-08 10:57:33.247646: I tensorflow/compiler/xla/service/service.cc:168] XLA service 0x55aa86bacf40 initialized for platform CUDA (this does not guarantee that XLA will be used). Devices:\n",
      "2021-09-08 10:57:33.247699: I tensorflow/compiler/xla/service/service.cc:176]   StreamExecutor device (0): Tesla K80, Compute Capability 3.7\n",
      "2021-09-08 10:57:33.247934: I tensorflow/stream_executor/cuda/cuda_gpu_executor.cc:983] successful NUMA node read from SysFS had negative value (-1), but there must be at least one NUMA node, so returning NUMA node zero\n",
      "2021-09-08 10:57:33.248710: I tensorflow/core/common_runtime/gpu/gpu_device.cc:1618] Found device 0 with properties: \n",
      "name: Tesla K80 major: 3 minor: 7 memoryClockRate(GHz): 0.8235\n",
      "pciBusID: 0000:00:04.0\n",
      "2021-09-08 10:57:33.249139: I tensorflow/stream_executor/platform/default/dso_loader.cc:44] Successfully opened dynamic library libcudart.so.10.0\n",
      "2021-09-08 10:57:33.251413: I tensorflow/stream_executor/platform/default/dso_loader.cc:44] Successfully opened dynamic library libcublas.so.10.0\n",
      "2021-09-08 10:57:33.254022: I tensorflow/stream_executor/platform/default/dso_loader.cc:44] Successfully opened dynamic library libcufft.so.10.0\n",
      "2021-09-08 10:57:33.255126: I tensorflow/stream_executor/platform/default/dso_loader.cc:44] Successfully opened dynamic library libcurand.so.10.0\n",
      "2021-09-08 10:57:33.258164: I tensorflow/stream_executor/platform/default/dso_loader.cc:44] Successfully opened dynamic library libcusolver.so.10.0\n",
      "2021-09-08 10:57:33.260431: I tensorflow/stream_executor/platform/default/dso_loader.cc:44] Successfully opened dynamic library libcusparse.so.10.0\n",
      "2021-09-08 10:57:33.267300: I tensorflow/stream_executor/platform/default/dso_loader.cc:44] Successfully opened dynamic library libcudnn.so.7\n",
      "2021-09-08 10:57:33.267424: I tensorflow/stream_executor/cuda/cuda_gpu_executor.cc:983] successful NUMA node read from SysFS had negative value (-1), but there must be at least one NUMA node, so returning NUMA node zero\n",
      "2021-09-08 10:57:33.268335: I tensorflow/stream_executor/cuda/cuda_gpu_executor.cc:983] successful NUMA node read from SysFS had negative value (-1), but there must be at least one NUMA node, so returning NUMA node zero\n",
      "2021-09-08 10:57:33.269109: I tensorflow/core/common_runtime/gpu/gpu_device.cc:1746] Adding visible gpu devices: 0\n",
      "2021-09-08 10:57:33.269196: I tensorflow/stream_executor/platform/default/dso_loader.cc:44] Successfully opened dynamic library libcudart.so.10.0\n",
      "2021-09-08 10:57:33.270734: I tensorflow/core/common_runtime/gpu/gpu_device.cc:1159] Device interconnect StreamExecutor with strength 1 edge matrix:\n",
      "2021-09-08 10:57:33.270815: I tensorflow/core/common_runtime/gpu/gpu_device.cc:1165]      0 \n",
      "2021-09-08 10:57:33.270853: I tensorflow/core/common_runtime/gpu/gpu_device.cc:1178] 0:   N \n",
      "2021-09-08 10:57:33.271038: I tensorflow/stream_executor/cuda/cuda_gpu_executor.cc:983] successful NUMA node read from SysFS had negative value (-1), but there must be at least one NUMA node, so returning NUMA node zero\n",
      "2021-09-08 10:57:33.272046: I tensorflow/stream_executor/cuda/cuda_gpu_executor.cc:983] successful NUMA node read from SysFS had negative value (-1), but there must be at least one NUMA node, so returning NUMA node zero\n",
      "2021-09-08 10:57:33.272932: W tensorflow/core/common_runtime/gpu/gpu_bfc_allocator.cc:39] Overriding allow_growth setting because the TF_FORCE_GPU_ALLOW_GROWTH environment variable is set. Original config value was 0.\n",
      "2021-09-08 10:57:33.272990: I tensorflow/core/common_runtime/gpu/gpu_device.cc:1304] Created TensorFlow device (/job:localhost/replica:0/task:0/device:GPU:0 with 10813 MB memory) -> physical GPU (device: 0, name: Tesla K80, pci bus id: 0000:00:04.0, compute capability: 3.7)\n",
      "WARNING:tensorflow:From /usr/local/lib/python3.7/dist-packages/keras/backend/tensorflow_backend.py:183: The name tf.global_variables is deprecated. Please use tf.compat.v1.global_variables instead.\n",
      "\n",
      "WARNING:tensorflow:From /usr/local/lib/python3.7/dist-packages/keras/backend/tensorflow_backend.py:192: The name tf.is_variable_initialized is deprecated. Please use tf.compat.v1.is_variable_initialized instead.\n",
      "\n",
      "WARNING:tensorflow:From /usr/local/lib/python3.7/dist-packages/keras/backend/tensorflow_backend.py:199: The name tf.variables_initializer is deprecated. Please use tf.compat.v1.variables_initializer instead.\n",
      "\n",
      "2021-09-08 10:57:36.150904: I tensorflow/stream_executor/platform/default/dso_loader.cc:44] Successfully opened dynamic library libcudnn.so.7\n",
      "2021-09-08 10:57:36.795272: I tensorflow/stream_executor/platform/default/dso_loader.cc:44] Successfully opened dynamic library libcublas.so.10.0\n",
      "300/300 [==============================] - 139s 464ms/step - loss: 0.5556 - acc: 0.7971\n",
      "\n",
      "Epoch 00001: loss improved from inf to 0.55561, saving model to unet_membrane.hdf5\n",
      "Epoch 2/3\n",
      "300/300 [==============================] - 130s 434ms/step - loss: 0.5142 - acc: 0.8016\n",
      "\n",
      "Epoch 00002: loss improved from 0.55561 to 0.51425, saving model to unet_membrane.hdf5\n",
      "Epoch 3/3\n",
      "300/300 [==============================] - 130s 434ms/step - loss: 0.5110 - acc: 0.8021\n",
      "\n",
      "Epoch 00003: loss improved from 0.51425 to 0.51098, saving model to unet_membrane.hdf5\n",
      "30/30 [==============================] - 4s 130ms/step\n"
     ]
    }
   ],
   "source": [
    "!python main.py"
   ]
  },
  {
   "cell_type": "markdown",
   "metadata": {
    "id": "XtqeNXPIiS7c"
   },
   "source": [
    "## 【問題2】コードリーディング\n",
    "---\n",
    "\n",
    "論文[1]に目を通した上で、上記実装のコードリーディングを行ってください。"
   ]
  },
  {
   "cell_type": "markdown",
   "metadata": {
    "id": "B6FMl8knF-M3"
   },
   "source": [
    "### main.py\n",
    "\n",
    "myGene = trainGenerator(5,'data/membrane/train','image','label',data_gen_args,save_to_dir = None)\n",
    "\n",
    "ここでは、少ない訓練サンプルを水増しするために、データ拡張でサンプルを生成している。\n",
    "imageとmaskデータを同時に生成。\n",
    "\n",
    "model = unet()  \n",
    "モデルの構築をしている。詳細は後述します。\n",
    "\n",
    "model_checkpoint = ModelCheckpoint('unet_membrane.hdf5', monitor='loss',verbose=1, save_best_only=True)  \n",
    "lossをモニタリングして、epochごとに条件が揃った場合にモデルを保存する。\n",
    "\n",
    "model.fit_generator(myGene,steps_per_epoch=300,epochs=20,callbacks=[model_checkpoint])  \n",
    "学習を実行。\n",
    "\n",
    "testGene = testGenerator(\"data/membrane/test\")  \n",
    "テスト用のデータを生成。  \n",
    "テストファイルの名前は0～N.pngにしないとエラーになる。\n",
    "\n",
    "results = model.predict_generator(testGene,30,verbose=1)  \n",
    "推定する。\n",
    "\n",
    "saveResult(\"data/membrane/result\",results)  \n",
    "推定されたデータを指定されたPathへ保存。\n",
    "\n",
    "---------------------------------\n",
    "### model.py\n",
    "\n",
    "\n",
    "モデルを構築\n",
    "\n",
    "U-net論文のとおり画像のセグメンテーションを推定するためのネットワーク。\n",
    "Conv、Poolingの組み合わせで、最初は畳み込みを行い、その後は逆畳み込みを行っている。\n",
    "活性化関数はReLU、Paddinngはなし。最後は2値分類なのでSigmoidを採用している。\n",
    "\n"
   ]
  }
 ],
 "metadata": {
  "accelerator": "GPU",
  "colab": {
   "authorship_tag": "ABX9TyPZPKuV6mQ/otJhfjScUTxZ",
   "collapsed_sections": [],
   "mount_file_id": "1SxVc1H9CkmTcUsOFY2l2MLxUGRaIs9W-",
   "name": "sprint19_Unet.ipynb",
   "provenance": []
  },
  "kernelspec": {
   "display_name": "Python 3 (ipykernel)",
   "language": "python",
   "name": "python3"
  },
  "language_info": {
   "codemirror_mode": {
    "name": "ipython",
    "version": 3
   },
   "file_extension": ".py",
   "mimetype": "text/x-python",
   "name": "python",
   "nbconvert_exporter": "python",
   "pygments_lexer": "ipython3",
   "version": "3.7.4"
  }
 },
 "nbformat": 4,
 "nbformat_minor": 4
}
